{
 "cells": [
  {
   "cell_type": "markdown",
   "id": "86df8d4a-00ec-4edd-acad-f96358ab4ff7",
   "metadata": {},
   "source": [
    "## retrieve data from material project"
   ]
  },
  {
   "cell_type": "code",
   "execution_count": 1,
   "id": "9d8038b3-258a-40f1-9b52-e2a787a59495",
   "metadata": {
    "tags": []
   },
   "outputs": [
    {
     "name": "stderr",
     "output_type": "stream",
     "text": [
      "C:\\Users\\YujuL\\anaconda3\\envs\\Group\\Lib\\site-packages\\tqdm\\auto.py:21: TqdmWarning: IProgress not found. Please update jupyter and ipywidgets. See https://ipywidgets.readthedocs.io/en/stable/user_install.html\n",
      "  from .autonotebook import tqdm as notebook_tqdm\n",
      "Retrieving SummaryDoc documents: 100%|██████████| 4555/4555 [00:11<00:00, 408.00it/s]\n"
     ]
    }
   ],
   "source": [
    "from mp_api.client import MPRester\n",
    "key=\"Z7NcMZxFm5LyvsQZk9k7sD8ZgMdQZstr\"\n",
    "\n",
    "with MPRester(key) as mpr:\n",
    "    data=mpr.materials.summary.search(formula='ABC3',fields=[\"structure\",\"material_id\",\"nelements\",\"formula_pretty\",\"formula_anonymous\",\"theoretical\",\"is_stable\", \"volume\", \"elements\",\"band_gap\",\"formation_energy\"])\n",
    "    "
   ]
  },
  {
   "cell_type": "markdown",
   "id": "2e9c2944-fdb2-4c9e-9575-c0dc7bb9f924",
   "metadata": {
    "tags": []
   },
   "source": [
    "## Feature Engineering"
   ]
  },
  {
   "cell_type": "code",
   "execution_count": 2,
   "id": "cafea810-bb89-4631-be21-331cd2ef1840",
   "metadata": {
    "tags": []
   },
   "outputs": [],
   "source": [
    "from matminer.featurizers.bandstructure import BranchPointEnergy\n",
    "from matminer.featurizers.bandstructure import BandFeaturizer\n",
    "from matminer.featurizers.structure import XRDPowderPattern\n",
    "from matminer.featurizers.structure import DensityFeatures\n",
    "\n",
    "import pandas as pd"
   ]
  },
  {
   "cell_type": "code",
   "execution_count": 3,
   "id": "40c3e4fd-76a7-413d-878a-e5f39a92ba1d",
   "metadata": {
    "tags": []
   },
   "outputs": [],
   "source": [
    "xrd=XRDPowderPattern()\n",
    "\n",
    "stable = []\n",
    "structures = []\n",
    "band_gaps = []\n",
    "theory = []\n",
    "ids = []\n",
    "for sample in data:\n",
    "    stable.append(sample.is_stable)\n",
    "    structures.append(sample.structure)\n",
    "    band_gaps.append(sample.band_gap)\n",
    "    theory.append(sample.theoretical)\n",
    "    ids.append(sample.material_id)\n",
    "\n",
    "perov_df = pd.DataFrame(\n",
    "    {\"material ids\": ids,\n",
    "     \"structure\": structures,\n",
    "     \"band gaps\": band_gaps,\n",
    "     \"theoretical\": theory,\n",
    "     \"stable\": stable\n",
    "    })\n"
   ]
  },
  {
   "cell_type": "code",
   "execution_count": 4,
   "id": "795ca67b-69b2-40fc-b410-1bd0270bbfbd",
   "metadata": {
    "tags": []
   },
   "outputs": [
    {
     "name": "stderr",
     "output_type": "stream",
     "text": [
      "\n",
      "A value is trying to be set on a copy of a slice from a DataFrame.\n",
      "Try using .loc[row_indexer,col_indexer] = value instead\n",
      "\n",
      "See the caveats in the documentation: https://pandas.pydata.org/pandas-docs/stable/user_guide/indexing.html#returning-a-view-versus-a-copy\n"
     ]
    }
   ],
   "source": [
    "real_perovs = perov_df[perov_df[\"theoretical\"]==False]\n",
    "real_perovs[\"stable\"] = real_perovs[\"stable\"].astype(int)"
   ]
  },
  {
   "cell_type": "code",
   "execution_count": 5,
   "id": "11b6f90b-daf8-456e-b512-0f5e3dcc7ee4",
   "metadata": {},
   "outputs": [
    {
     "name": "stderr",
     "output_type": "stream",
     "text": [
      "DensityFeatures: 100%|██████████| 1759/1759 [02:08<00:00, 13.65it/s]\n"
     ]
    },
    {
     "data": {
      "text/html": [
       "<div>\n",
       "<style scoped>\n",
       "    .dataframe tbody tr th:only-of-type {\n",
       "        vertical-align: middle;\n",
       "    }\n",
       "\n",
       "    .dataframe tbody tr th {\n",
       "        vertical-align: top;\n",
       "    }\n",
       "\n",
       "    .dataframe thead th {\n",
       "        text-align: right;\n",
       "    }\n",
       "</style>\n",
       "<table border=\"1\" class=\"dataframe\">\n",
       "  <thead>\n",
       "    <tr style=\"text-align: right;\">\n",
       "      <th></th>\n",
       "      <th>material ids</th>\n",
       "      <th>structure</th>\n",
       "      <th>band gaps</th>\n",
       "      <th>theoretical</th>\n",
       "      <th>stable</th>\n",
       "      <th>density</th>\n",
       "      <th>vpa</th>\n",
       "      <th>packing fraction</th>\n",
       "    </tr>\n",
       "  </thead>\n",
       "  <tbody>\n",
       "    <tr>\n",
       "      <th>14</th>\n",
       "      <td>mp-1105645</td>\n",
       "      <td>[[7.48401876 2.10527392 7.43781975] Ag, [2.313...</td>\n",
       "      <td>0.2964</td>\n",
       "      <td>False</td>\n",
       "      <td>0</td>\n",
       "      <td>5.967646</td>\n",
       "      <td>24.240276</td>\n",
       "      <td>0.511803</td>\n",
       "    </tr>\n",
       "    <tr>\n",
       "      <th>18</th>\n",
       "      <td>mp-22995</td>\n",
       "      <td>[[ 1.94462322 -1.74755883  1.89344403] Ag, [1....</td>\n",
       "      <td>0.7261</td>\n",
       "      <td>False</td>\n",
       "      <td>0</td>\n",
       "      <td>6.576090</td>\n",
       "      <td>24.371110</td>\n",
       "      <td>0.551101</td>\n",
       "    </tr>\n",
       "    <tr>\n",
       "      <th>19</th>\n",
       "      <td>mp-558189</td>\n",
       "      <td>[[2.504793 2.504793 0.      ] Ag, [2.504793 0....</td>\n",
       "      <td>0.6243</td>\n",
       "      <td>False</td>\n",
       "      <td>0</td>\n",
       "      <td>6.373934</td>\n",
       "      <td>25.144066</td>\n",
       "      <td>0.534159</td>\n",
       "    </tr>\n",
       "    <tr>\n",
       "      <th>27</th>\n",
       "      <td>mp-558950</td>\n",
       "      <td>[[ 3.68937808  8.09573714 12.24244424] Ag, [0....</td>\n",
       "      <td>0.4985</td>\n",
       "      <td>False</td>\n",
       "      <td>0</td>\n",
       "      <td>5.320520</td>\n",
       "      <td>14.405829</td>\n",
       "      <td>0.364328</td>\n",
       "    </tr>\n",
       "    <tr>\n",
       "      <th>33</th>\n",
       "      <td>mp-23548</td>\n",
       "      <td>[[2.01581009 0.         0.62870294] Ag, [13.30...</td>\n",
       "      <td>0.0000</td>\n",
       "      <td>False</td>\n",
       "      <td>0</td>\n",
       "      <td>7.836022</td>\n",
       "      <td>15.463008</td>\n",
       "      <td>0.478935</td>\n",
       "    </tr>\n",
       "  </tbody>\n",
       "</table>\n",
       "</div>"
      ],
      "text/plain": [
       "   material ids                                          structure  band gaps  \\\n",
       "14   mp-1105645  [[7.48401876 2.10527392 7.43781975] Ag, [2.313...     0.2964   \n",
       "18     mp-22995  [[ 1.94462322 -1.74755883  1.89344403] Ag, [1....     0.7261   \n",
       "19    mp-558189  [[2.504793 2.504793 0.      ] Ag, [2.504793 0....     0.6243   \n",
       "27    mp-558950  [[ 3.68937808  8.09573714 12.24244424] Ag, [0....     0.4985   \n",
       "33     mp-23548  [[2.01581009 0.         0.62870294] Ag, [13.30...     0.0000   \n",
       "\n",
       "    theoretical  stable   density        vpa  packing fraction  \n",
       "14        False       0  5.967646  24.240276          0.511803  \n",
       "18        False       0  6.576090  24.371110          0.551101  \n",
       "19        False       0  6.373934  25.144066          0.534159  \n",
       "27        False       0  5.320520  14.405829          0.364328  \n",
       "33        False       0  7.836022  15.463008          0.478935  "
      ]
     },
     "execution_count": 5,
     "metadata": {},
     "output_type": "execute_result"
    }
   ],
   "source": [
    "densityf = DensityFeatures()\n",
    "densityf.feature_labels()\n",
    "\n",
    "density_df = densityf.featurize_dataframe(real_perovs, \"structure\")\n",
    "density_df.head()"
   ]
  },
  {
   "cell_type": "code",
   "execution_count": 6,
   "id": "5970f948-dd86-4ceb-bae9-c10749d92ffb",
   "metadata": {
    "tags": []
   },
   "outputs": [],
   "source": [
    "y = density_df[\"stable\"].values\n",
    "X = density_df.drop([\"material ids\", \"structure\", \"band gaps\", \"theoretical\", \"stable\"], axis=1)"
   ]
  },
  {
   "cell_type": "code",
   "execution_count": 7,
   "id": "ba4d47e7-6220-40a2-9054-38adb2c694fd",
   "metadata": {
    "tags": []
   },
   "outputs": [],
   "source": [
    "from sklearn.model_selection import train_test_split\n",
    "\n",
    "X_train,X_test,y_train,y_test=train_test_split(X,y,test_size=0.2,random_state=42)"
   ]
  },
  {
   "cell_type": "code",
   "execution_count": 8,
   "id": "fb59ff0c-fddb-4d88-bb42-848f667ba4f1",
   "metadata": {},
   "outputs": [],
   "source": [
    "models=[]\n",
    "accuracy=[]"
   ]
  },
  {
   "cell_type": "markdown",
   "id": "f5c491de-3e77-4241-9961-90a04a9f7f0e",
   "metadata": {
    "tags": []
   },
   "source": [
    "## SVM "
   ]
  },
  {
   "cell_type": "code",
   "execution_count": 9,
   "id": "c152defa-f570-4c8b-a9ca-8e74fc53c07e",
   "metadata": {
    "tags": []
   },
   "outputs": [],
   "source": [
    "from sklearn.svm import SVC"
   ]
  },
  {
   "cell_type": "code",
   "execution_count": 10,
   "id": "47688460-90ca-4f02-a776-69a03fb58125",
   "metadata": {
    "tags": []
   },
   "outputs": [],
   "source": [
    "svc = SVC()\n",
    "\n",
    "param_grid={'kernel':['linear','poly','rbf','sigmoid'],\n",
    "            'degree':[1,2,3,4],\n",
    "            'gamma':[0.05,0.1,0.2,0.5,0.7,1.2],\n",
    "            'C':[0.1,0.2,0.3,0.4,1]\n",
    "           }\n"
   ]
  },
  {
   "cell_type": "code",
   "execution_count": 11,
   "id": "355e0632-3f34-469d-b0c6-273df10d0dff",
   "metadata": {
    "tags": []
   },
   "outputs": [],
   "source": [
    "##RandomizedSearchCV to find the best parameter"
   ]
  },
  {
   "cell_type": "code",
   "execution_count": 12,
   "id": "340eb51d-9bca-4723-aade-7d898161793c",
   "metadata": {
    "tags": []
   },
   "outputs": [
    {
     "name": "stdout",
     "output_type": "stream",
     "text": [
      "best parameter:{'kernel': 'rbf', 'gamma': 0.1, 'degree': 3, 'C': 0.3}\n",
      "best score:0.6311072411095127\n"
     ]
    }
   ],
   "source": [
    "from sklearn.model_selection import RandomizedSearchCV\n",
    "\n",
    "rand_ser = RandomizedSearchCV(estimator=svc,param_distributions=param_grid,n_iter=10,)\n",
    "rand_ser.fit(X_train,y_train)\n",
    "print(f'best parameter:{rand_ser.best_params_}')\n",
    "print(f'best score:{rand_ser.best_score_}')"
   ]
  },
  {
   "cell_type": "code",
   "execution_count": 13,
   "id": "afc13d34-8ff0-4261-8a68-b937701bd644",
   "metadata": {
    "tags": []
   },
   "outputs": [
    {
     "data": {
      "text/html": [
       "<style>#sk-container-id-1 {color: black;background-color: white;}#sk-container-id-1 pre{padding: 0;}#sk-container-id-1 div.sk-toggleable {background-color: white;}#sk-container-id-1 label.sk-toggleable__label {cursor: pointer;display: block;width: 100%;margin-bottom: 0;padding: 0.3em;box-sizing: border-box;text-align: center;}#sk-container-id-1 label.sk-toggleable__label-arrow:before {content: \"▸\";float: left;margin-right: 0.25em;color: #696969;}#sk-container-id-1 label.sk-toggleable__label-arrow:hover:before {color: black;}#sk-container-id-1 div.sk-estimator:hover label.sk-toggleable__label-arrow:before {color: black;}#sk-container-id-1 div.sk-toggleable__content {max-height: 0;max-width: 0;overflow: hidden;text-align: left;background-color: #f0f8ff;}#sk-container-id-1 div.sk-toggleable__content pre {margin: 0.2em;color: black;border-radius: 0.25em;background-color: #f0f8ff;}#sk-container-id-1 input.sk-toggleable__control:checked~div.sk-toggleable__content {max-height: 200px;max-width: 100%;overflow: auto;}#sk-container-id-1 input.sk-toggleable__control:checked~label.sk-toggleable__label-arrow:before {content: \"▾\";}#sk-container-id-1 div.sk-estimator input.sk-toggleable__control:checked~label.sk-toggleable__label {background-color: #d4ebff;}#sk-container-id-1 div.sk-label input.sk-toggleable__control:checked~label.sk-toggleable__label {background-color: #d4ebff;}#sk-container-id-1 input.sk-hidden--visually {border: 0;clip: rect(1px 1px 1px 1px);clip: rect(1px, 1px, 1px, 1px);height: 1px;margin: -1px;overflow: hidden;padding: 0;position: absolute;width: 1px;}#sk-container-id-1 div.sk-estimator {font-family: monospace;background-color: #f0f8ff;border: 1px dotted black;border-radius: 0.25em;box-sizing: border-box;margin-bottom: 0.5em;}#sk-container-id-1 div.sk-estimator:hover {background-color: #d4ebff;}#sk-container-id-1 div.sk-parallel-item::after {content: \"\";width: 100%;border-bottom: 1px solid gray;flex-grow: 1;}#sk-container-id-1 div.sk-label:hover label.sk-toggleable__label {background-color: #d4ebff;}#sk-container-id-1 div.sk-serial::before {content: \"\";position: absolute;border-left: 1px solid gray;box-sizing: border-box;top: 0;bottom: 0;left: 50%;z-index: 0;}#sk-container-id-1 div.sk-serial {display: flex;flex-direction: column;align-items: center;background-color: white;padding-right: 0.2em;padding-left: 0.2em;position: relative;}#sk-container-id-1 div.sk-item {position: relative;z-index: 1;}#sk-container-id-1 div.sk-parallel {display: flex;align-items: stretch;justify-content: center;background-color: white;position: relative;}#sk-container-id-1 div.sk-item::before, #sk-container-id-1 div.sk-parallel-item::before {content: \"\";position: absolute;border-left: 1px solid gray;box-sizing: border-box;top: 0;bottom: 0;left: 50%;z-index: -1;}#sk-container-id-1 div.sk-parallel-item {display: flex;flex-direction: column;z-index: 1;position: relative;background-color: white;}#sk-container-id-1 div.sk-parallel-item:first-child::after {align-self: flex-end;width: 50%;}#sk-container-id-1 div.sk-parallel-item:last-child::after {align-self: flex-start;width: 50%;}#sk-container-id-1 div.sk-parallel-item:only-child::after {width: 0;}#sk-container-id-1 div.sk-dashed-wrapped {border: 1px dashed gray;margin: 0 0.4em 0.5em 0.4em;box-sizing: border-box;padding-bottom: 0.4em;background-color: white;}#sk-container-id-1 div.sk-label label {font-family: monospace;font-weight: bold;display: inline-block;line-height: 1.2em;}#sk-container-id-1 div.sk-label-container {text-align: center;}#sk-container-id-1 div.sk-container {/* jupyter's `normalize.less` sets `[hidden] { display: none; }` but bootstrap.min.css set `[hidden] { display: none !important; }` so we also need the `!important` here to be able to override the default hidden behavior on the sphinx rendered scikit-learn.org. See: https://github.com/scikit-learn/scikit-learn/issues/21755 */display: inline-block !important;position: relative;}#sk-container-id-1 div.sk-text-repr-fallback {display: none;}</style><div id=\"sk-container-id-1\" class=\"sk-top-container\"><div class=\"sk-text-repr-fallback\"><pre>SVC(C=0.3, gamma=0.1)</pre><b>In a Jupyter environment, please rerun this cell to show the HTML representation or trust the notebook. <br />On GitHub, the HTML representation is unable to render, please try loading this page with nbviewer.org.</b></div><div class=\"sk-container\" hidden><div class=\"sk-item\"><div class=\"sk-estimator sk-toggleable\"><input class=\"sk-toggleable__control sk-hidden--visually\" id=\"sk-estimator-id-1\" type=\"checkbox\" checked><label for=\"sk-estimator-id-1\" class=\"sk-toggleable__label sk-toggleable__label-arrow\">SVC</label><div class=\"sk-toggleable__content\"><pre>SVC(C=0.3, gamma=0.1)</pre></div></div></div></div></div>"
      ],
      "text/plain": [
       "SVC(C=0.3, gamma=0.1)"
      ]
     },
     "execution_count": 13,
     "metadata": {},
     "output_type": "execute_result"
    }
   ],
   "source": [
    "svc_model=rand_ser.best_estimator_\n",
    "svc_model.fit(X_train,y_train)"
   ]
  },
  {
   "cell_type": "code",
   "execution_count": 14,
   "id": "bfc18d8f-3da2-4f26-a017-b30dc44123a1",
   "metadata": {
    "tags": []
   },
   "outputs": [],
   "source": [
    "from sklearn.metrics import classification_report"
   ]
  },
  {
   "cell_type": "code",
   "execution_count": 15,
   "id": "4339d9b0-310f-4dba-85eb-7f729c7db1f1",
   "metadata": {
    "tags": []
   },
   "outputs": [
    {
     "name": "stdout",
     "output_type": "stream",
     "text": [
      "Accuracy on test data: 61.1 %\n",
      "              precision    recall  f1-score   support\n",
      "\n",
      "           0       0.61      0.89      0.72       199\n",
      "           1       0.64      0.24      0.35       153\n",
      "\n",
      "    accuracy                           0.61       352\n",
      "   macro avg       0.62      0.57      0.54       352\n",
      "weighted avg       0.62      0.61      0.56       352\n",
      "\n"
     ]
    }
   ],
   "source": [
    "y_pred = svc_model.predict(X_test)\n",
    "testing_accuracy = svc_model.score(X_test, y_test) * 100\n",
    "models.append('SVC')\n",
    "accuracy.append(testing_accuracy)\n",
    "print(f'Accuracy on test data: {testing_accuracy:.1f} %')\n",
    "print(classification_report(y_test,y_pred,zero_division=1))"
   ]
  },
  {
   "cell_type": "code",
   "execution_count": 16,
   "id": "b841d5b9-7dd4-4f17-b805-cc1aa17755cb",
   "metadata": {},
   "outputs": [
    {
     "data": {
      "text/plain": [
       "array([0, 0, 0, 0, 0, 0, 0, 1, 1, 0, 0, 0, 0, 0, 0, 1, 0, 0, 1, 0, 0, 0,\n",
       "       0, 0, 0, 0, 0, 0, 0, 0, 0, 0, 0, 0, 1, 1, 0, 1, 0, 0, 0, 1, 0, 0,\n",
       "       0, 0, 0, 0, 0, 0, 0, 0, 1, 0, 0, 0, 0, 0, 1, 0, 0, 0, 0, 0, 0, 0,\n",
       "       0, 0, 0, 0, 0, 0, 1, 0, 0, 1, 0, 1, 0, 0, 0, 0, 0, 0, 1, 0, 0, 0,\n",
       "       0, 0, 0, 0, 0, 0, 1, 1, 0, 0, 0, 0, 0, 0, 1, 0, 0, 0, 0, 0, 0, 0,\n",
       "       0, 0, 0, 1, 1, 0, 0, 1, 0, 0, 1, 0, 0, 0, 0, 0, 0, 0, 1, 0, 0, 0,\n",
       "       0, 1, 0, 0, 0, 0, 0, 0, 0, 0, 1, 0, 1, 0, 0, 1, 0, 0, 1, 0, 0, 0,\n",
       "       0, 0, 0, 0, 0, 0, 0, 0, 0, 0, 0, 1, 0, 0, 0, 1, 0, 0, 0, 1, 0, 0,\n",
       "       0, 0, 0, 0, 0, 0, 1, 0, 1, 0, 0, 0, 1, 0, 0, 1, 1, 0, 1, 0, 0, 0,\n",
       "       0, 0, 0, 0, 0, 1, 0, 0, 1, 1, 0, 0, 0, 0, 0, 1, 0, 0, 0, 0, 0, 0,\n",
       "       0, 0, 1, 0, 0, 0, 0, 0, 0, 0, 0, 0, 0, 1, 0, 0, 1, 0, 0, 0, 0, 0,\n",
       "       0, 1, 0, 0, 0, 0, 0, 0, 0, 0, 0, 0, 1, 1, 0, 0, 0, 0, 0, 0, 0, 0,\n",
       "       0, 0, 0, 0, 0, 1, 0, 0, 1, 0, 0, 0, 1, 1, 0, 1, 0, 0, 0, 0, 0, 0,\n",
       "       0, 0, 0, 0, 0, 1, 0, 0, 0, 0, 0, 0, 0, 0, 0, 0, 0, 0, 1, 0, 0, 0,\n",
       "       0, 0, 0, 0, 0, 0, 0, 0, 0, 1, 0, 1, 0, 0, 0, 0, 0, 0, 1, 0, 0, 0,\n",
       "       1, 0, 0, 0, 0, 0, 0, 0, 0, 0, 0, 0, 0, 0, 0, 0, 0, 1, 0, 0, 0, 0])"
      ]
     },
     "execution_count": 16,
     "metadata": {},
     "output_type": "execute_result"
    }
   ],
   "source": [
    "y_pred"
   ]
  },
  {
   "cell_type": "markdown",
   "id": "c65200b3-e44d-4959-91ae-19b33dbef97f",
   "metadata": {},
   "source": [
    "### Random Forest"
   ]
  },
  {
   "cell_type": "code",
   "execution_count": 68,
   "id": "5825461e-7047-420e-b79e-88eeb6d6bd40",
   "metadata": {
    "tags": []
   },
   "outputs": [
    {
     "data": {
      "text/html": [
       "<style>#sk-container-id-5 {color: black;background-color: white;}#sk-container-id-5 pre{padding: 0;}#sk-container-id-5 div.sk-toggleable {background-color: white;}#sk-container-id-5 label.sk-toggleable__label {cursor: pointer;display: block;width: 100%;margin-bottom: 0;padding: 0.3em;box-sizing: border-box;text-align: center;}#sk-container-id-5 label.sk-toggleable__label-arrow:before {content: \"▸\";float: left;margin-right: 0.25em;color: #696969;}#sk-container-id-5 label.sk-toggleable__label-arrow:hover:before {color: black;}#sk-container-id-5 div.sk-estimator:hover label.sk-toggleable__label-arrow:before {color: black;}#sk-container-id-5 div.sk-toggleable__content {max-height: 0;max-width: 0;overflow: hidden;text-align: left;background-color: #f0f8ff;}#sk-container-id-5 div.sk-toggleable__content pre {margin: 0.2em;color: black;border-radius: 0.25em;background-color: #f0f8ff;}#sk-container-id-5 input.sk-toggleable__control:checked~div.sk-toggleable__content {max-height: 200px;max-width: 100%;overflow: auto;}#sk-container-id-5 input.sk-toggleable__control:checked~label.sk-toggleable__label-arrow:before {content: \"▾\";}#sk-container-id-5 div.sk-estimator input.sk-toggleable__control:checked~label.sk-toggleable__label {background-color: #d4ebff;}#sk-container-id-5 div.sk-label input.sk-toggleable__control:checked~label.sk-toggleable__label {background-color: #d4ebff;}#sk-container-id-5 input.sk-hidden--visually {border: 0;clip: rect(1px 1px 1px 1px);clip: rect(1px, 1px, 1px, 1px);height: 1px;margin: -1px;overflow: hidden;padding: 0;position: absolute;width: 1px;}#sk-container-id-5 div.sk-estimator {font-family: monospace;background-color: #f0f8ff;border: 1px dotted black;border-radius: 0.25em;box-sizing: border-box;margin-bottom: 0.5em;}#sk-container-id-5 div.sk-estimator:hover {background-color: #d4ebff;}#sk-container-id-5 div.sk-parallel-item::after {content: \"\";width: 100%;border-bottom: 1px solid gray;flex-grow: 1;}#sk-container-id-5 div.sk-label:hover label.sk-toggleable__label {background-color: #d4ebff;}#sk-container-id-5 div.sk-serial::before {content: \"\";position: absolute;border-left: 1px solid gray;box-sizing: border-box;top: 0;bottom: 0;left: 50%;z-index: 0;}#sk-container-id-5 div.sk-serial {display: flex;flex-direction: column;align-items: center;background-color: white;padding-right: 0.2em;padding-left: 0.2em;position: relative;}#sk-container-id-5 div.sk-item {position: relative;z-index: 1;}#sk-container-id-5 div.sk-parallel {display: flex;align-items: stretch;justify-content: center;background-color: white;position: relative;}#sk-container-id-5 div.sk-item::before, #sk-container-id-5 div.sk-parallel-item::before {content: \"\";position: absolute;border-left: 1px solid gray;box-sizing: border-box;top: 0;bottom: 0;left: 50%;z-index: -1;}#sk-container-id-5 div.sk-parallel-item {display: flex;flex-direction: column;z-index: 1;position: relative;background-color: white;}#sk-container-id-5 div.sk-parallel-item:first-child::after {align-self: flex-end;width: 50%;}#sk-container-id-5 div.sk-parallel-item:last-child::after {align-self: flex-start;width: 50%;}#sk-container-id-5 div.sk-parallel-item:only-child::after {width: 0;}#sk-container-id-5 div.sk-dashed-wrapped {border: 1px dashed gray;margin: 0 0.4em 0.5em 0.4em;box-sizing: border-box;padding-bottom: 0.4em;background-color: white;}#sk-container-id-5 div.sk-label label {font-family: monospace;font-weight: bold;display: inline-block;line-height: 1.2em;}#sk-container-id-5 div.sk-label-container {text-align: center;}#sk-container-id-5 div.sk-container {/* jupyter's `normalize.less` sets `[hidden] { display: none; }` but bootstrap.min.css set `[hidden] { display: none !important; }` so we also need the `!important` here to be able to override the default hidden behavior on the sphinx rendered scikit-learn.org. See: https://github.com/scikit-learn/scikit-learn/issues/21755 */display: inline-block !important;position: relative;}#sk-container-id-5 div.sk-text-repr-fallback {display: none;}</style><div id=\"sk-container-id-5\" class=\"sk-top-container\"><div class=\"sk-text-repr-fallback\"><pre>RandomizedSearchCV(estimator=RandomForestClassifier(),\n",
       "                   param_distributions={&#x27;n_estimators&#x27;: range(1, 1000)})</pre><b>In a Jupyter environment, please rerun this cell to show the HTML representation or trust the notebook. <br />On GitHub, the HTML representation is unable to render, please try loading this page with nbviewer.org.</b></div><div class=\"sk-container\" hidden><div class=\"sk-item sk-dashed-wrapped\"><div class=\"sk-label-container\"><div class=\"sk-label sk-toggleable\"><input class=\"sk-toggleable__control sk-hidden--visually\" id=\"sk-estimator-id-11\" type=\"checkbox\" ><label for=\"sk-estimator-id-11\" class=\"sk-toggleable__label sk-toggleable__label-arrow\">RandomizedSearchCV</label><div class=\"sk-toggleable__content\"><pre>RandomizedSearchCV(estimator=RandomForestClassifier(),\n",
       "                   param_distributions={&#x27;n_estimators&#x27;: range(1, 1000)})</pre></div></div></div><div class=\"sk-parallel\"><div class=\"sk-parallel-item\"><div class=\"sk-item\"><div class=\"sk-label-container\"><div class=\"sk-label sk-toggleable\"><input class=\"sk-toggleable__control sk-hidden--visually\" id=\"sk-estimator-id-12\" type=\"checkbox\" ><label for=\"sk-estimator-id-12\" class=\"sk-toggleable__label sk-toggleable__label-arrow\">estimator: RandomForestClassifier</label><div class=\"sk-toggleable__content\"><pre>RandomForestClassifier()</pre></div></div></div><div class=\"sk-serial\"><div class=\"sk-item\"><div class=\"sk-estimator sk-toggleable\"><input class=\"sk-toggleable__control sk-hidden--visually\" id=\"sk-estimator-id-13\" type=\"checkbox\" ><label for=\"sk-estimator-id-13\" class=\"sk-toggleable__label sk-toggleable__label-arrow\">RandomForestClassifier</label><div class=\"sk-toggleable__content\"><pre>RandomForestClassifier()</pre></div></div></div></div></div></div></div></div></div></div>"
      ],
      "text/plain": [
       "RandomizedSearchCV(estimator=RandomForestClassifier(),\n",
       "                   param_distributions={'n_estimators': range(1, 1000)})"
      ]
     },
     "execution_count": 68,
     "metadata": {},
     "output_type": "execute_result"
    }
   ],
   "source": [
    "from sklearn.ensemble import RandomForestClassifier\n",
    "rf=RandomForestClassifier()\n",
    "\n",
    "grid_param={'n_estimators':range(1,1000)}\n",
    "\n",
    "rand_ser = RandomizedSearchCV(estimator=rf,param_distributions=grid_param,n_iter=10,)\n",
    "rand_ser.fit(X_train,y_train)"
   ]
  },
  {
   "cell_type": "code",
   "execution_count": 18,
   "id": "7cd7785c-6a05-4ce2-b1f1-7dfa1bec87b7",
   "metadata": {
    "tags": []
   },
   "outputs": [
    {
     "name": "stdout",
     "output_type": "stream",
     "text": [
      "best parameter:{'n_estimators': 172}\n",
      "best score:0.6595694202569344\n"
     ]
    }
   ],
   "source": [
    "print(f'best parameter:{rand_ser.best_params_}')\n",
    "print(f'best score:{rand_ser.best_score_}')"
   ]
  },
  {
   "cell_type": "code",
   "execution_count": 19,
   "id": "c122b5af-545d-4787-908d-98ae84238a27",
   "metadata": {
    "tags": []
   },
   "outputs": [],
   "source": [
    "rf_model=rand_ser.best_estimator_"
   ]
  },
  {
   "cell_type": "code",
   "execution_count": 62,
   "id": "f663c4ee-95a1-48bb-9338-546b4495b92c",
   "metadata": {
    "tags": []
   },
   "outputs": [
    {
     "name": "stdout",
     "output_type": "stream",
     "text": [
      "['density' 'vpa' 'packing fraction']\n",
      "[0.31761937 0.33635736 0.34602327]\n"
     ]
    }
   ],
   "source": [
    "print(rf_model.feature_names_in_)\n",
    "print(rf_model.feature_importances_)"
   ]
  },
  {
   "cell_type": "code",
   "execution_count": 20,
   "id": "04b7b31d-1a08-405c-83b0-c207c1ff22da",
   "metadata": {
    "tags": []
   },
   "outputs": [
    {
     "name": "stdout",
     "output_type": "stream",
     "text": [
      " Accuracy on test data: 63.4 %\n",
      "              precision    recall  f1-score   support\n",
      "\n",
      "           0       0.64      0.78      0.71       199\n",
      "           1       0.61      0.44      0.51       153\n",
      "\n",
      "    accuracy                           0.63       352\n",
      "   macro avg       0.63      0.61      0.61       352\n",
      "weighted avg       0.63      0.63      0.62       352\n",
      "\n"
     ]
    }
   ],
   "source": [
    "\n",
    "y_pred=rf_model.predict(X_test['packing fraction'])\n",
    "testing_accuracy = rf_model.score(X_test['packing fraction'], y_test) * 100\n",
    "models.append('Randomforest')\n",
    "accuracy.append(testing_accuracy)\n",
    "print(f' Accuracy on test data: {testing_accuracy:.1f} %')\n",
    "print(classification_report(y_test,y_pred))"
   ]
  },
  {
   "cell_type": "markdown",
   "id": "3f511d60-ac4f-46fd-bd06-a5f254de4944",
   "metadata": {},
   "source": [
    "## LogisticRegression"
   ]
  },
  {
   "cell_type": "code",
   "execution_count": 34,
   "id": "7f0e71eb-9351-473c-9dbb-987642d84bef",
   "metadata": {},
   "outputs": [
    {
     "name": "stdout",
     "output_type": "stream",
     "text": [
      "best parameter:{'C': 10, 'solver': 'sag'}\n",
      "best score:0.6126675247974559\n"
     ]
    }
   ],
   "source": [
    "from sklearn.linear_model import LogisticRegression\n",
    "from sklearn.model_selection import GridSearchCV\n",
    "\n",
    "lr=LogisticRegression(max_iter=1000)\n",
    "grid_param={'C':[0.001, 0.01, 0.1, 1, 10, 100, 1000],\n",
    "             'solver': ['lbfgs', 'liblinear', 'newton-cg', 'newton-cholesky', 'sag', 'saga']}\n",
    "\n",
    "grid_ser = GridSearchCV(estimator=lr,param_grid=grid_param,cv=5,scoring='accuracy')\n",
    "grid_ser.fit(X_train,y_train)\n",
    "\n",
    "print(f'best parameter:{grid_ser.best_params_}')\n",
    "print(f'best score:{grid_ser.best_score_}')"
   ]
  },
  {
   "cell_type": "code",
   "execution_count": 36,
   "id": "e152f107-31d2-44b2-8c56-55bb24fe71f4",
   "metadata": {},
   "outputs": [],
   "source": [
    "lr_model=grid_ser.best_estimator_"
   ]
  },
  {
   "cell_type": "code",
   "execution_count": 37,
   "id": "a9bd24f5-1186-4cf9-bdec-a973558a0c32",
   "metadata": {
    "tags": []
   },
   "outputs": [
    {
     "name": "stdout",
     "output_type": "stream",
     "text": [
      " Accuracy on test data: 61.1 %\n",
      "              precision    recall  f1-score   support\n",
      "\n",
      "           0       0.61      0.84      0.71       199\n",
      "           1       0.60      0.31      0.41       153\n",
      "\n",
      "    accuracy                           0.61       352\n",
      "   macro avg       0.61      0.58      0.56       352\n",
      "weighted avg       0.61      0.61      0.58       352\n",
      "\n"
     ]
    }
   ],
   "source": [
    "\n",
    "lr_model.fit(X_train, y_train)\n",
    "y_pred=lr_model.predict(X_test)\n",
    "testing_accuracy = lr_model.score(X_test, y_test) * 100\n",
    "models.append('LogisticRegression')\n",
    "accuracy.append(testing_accuracy)\n",
    "print(f' Accuracy on test data: {testing_accuracy:.1f} %')\n",
    "print(classification_report(y_test,y_pred))"
   ]
  },
  {
   "cell_type": "markdown",
   "id": "33a0d72b-a979-4577-89d3-c472d976bd0c",
   "metadata": {},
   "source": [
    "## XGBoost"
   ]
  },
  {
   "cell_type": "code",
   "execution_count": 38,
   "id": "72e1d092-342f-4764-bfa6-5467c431eb0e",
   "metadata": {
    "tags": []
   },
   "outputs": [],
   "source": [
    "import xgboost as xgb"
   ]
  },
  {
   "cell_type": "code",
   "execution_count": 39,
   "id": "f1cb80e0-460e-42ea-8cae-0e69ab3afeb7",
   "metadata": {
    "tags": []
   },
   "outputs": [
    {
     "name": "stdout",
     "output_type": "stream",
     "text": [
      " Accuracy on test data: 62.5 %\n",
      "              precision    recall  f1-score   support\n",
      "\n",
      "           0       0.65      0.75      0.69       199\n",
      "           1       0.59      0.46      0.52       153\n",
      "\n",
      "    accuracy                           0.62       352\n",
      "   macro avg       0.62      0.61      0.61       352\n",
      "weighted avg       0.62      0.62      0.62       352\n",
      "\n"
     ]
    }
   ],
   "source": [
    "xgb_model = xgb.XGBClassifier(objective=\"binary:logistic\", random_state=42)\n",
    "xgb_model.fit(X_train,y_train)\n",
    "y_pred=xgb_model.predict(X_test)\n",
    "testing_accuracy = xgb_model.score(X_test, y_test) * 100\n",
    "models.append('XGBoost')\n",
    "accuracy.append(testing_accuracy)\n",
    "print(f' Accuracy on test data: {testing_accuracy:.1f} %')\n",
    "print(classification_report(y_test,y_pred))"
   ]
  },
  {
   "cell_type": "markdown",
   "id": "bbe3190b-55ab-4ead-888c-0c99a421f4e4",
   "metadata": {},
   "source": [
    "## Decision Trees"
   ]
  },
  {
   "cell_type": "code",
   "execution_count": 40,
   "id": "e7893bd9-19aa-4bd6-8fe6-f7c95a177d23",
   "metadata": {
    "tags": []
   },
   "outputs": [],
   "source": [
    "from sklearn.tree import DecisionTreeClassifier"
   ]
  },
  {
   "cell_type": "code",
   "execution_count": 41,
   "id": "f3b3c225-5b47-41d9-b443-197addc0910d",
   "metadata": {
    "tags": []
   },
   "outputs": [
    {
     "name": "stdout",
     "output_type": "stream",
     "text": [
      " Accuracy on test data: 57.1 %\n",
      "              precision    recall  f1-score   support\n",
      "\n",
      "           0       0.62      0.64      0.63       199\n",
      "           1       0.51      0.48      0.49       153\n",
      "\n",
      "    accuracy                           0.57       352\n",
      "   macro avg       0.56      0.56      0.56       352\n",
      "weighted avg       0.57      0.57      0.57       352\n",
      "\n"
     ]
    }
   ],
   "source": [
    "dt_model=DecisionTreeClassifier(random_state=42)\n",
    "dt_model.fit(X_train,y_train)\n",
    "y_pred=dt_model.predict(X_test)\n",
    "testing_accuracy = dt_model.score(X_test, y_test) * 100\n",
    "models.append('DecisionTree')\n",
    "accuracy.append(testing_accuracy)\n",
    "print(f' Accuracy on test data: {testing_accuracy:.1f} %')\n",
    "print(classification_report(y_test,y_pred))"
   ]
  },
  {
   "cell_type": "markdown",
   "id": "a3b40aac-bd9a-41f5-b987-56cc4f183453",
   "metadata": {},
   "source": [
    "## KNN"
   ]
  },
  {
   "cell_type": "code",
   "execution_count": 42,
   "id": "4e317418-1523-44c9-ad7c-8a324b8a9b1c",
   "metadata": {
    "tags": []
   },
   "outputs": [],
   "source": [
    "from sklearn.neighbors import KNeighborsClassifier"
   ]
  },
  {
   "cell_type": "code",
   "execution_count": 43,
   "id": "0df3f486-7fb2-4ad9-a360-510664ec8c17",
   "metadata": {
    "tags": []
   },
   "outputs": [
    {
     "name": "stdout",
     "output_type": "stream",
     "text": [
      " Accuracy on test data: 61.9 %\n",
      "              precision    recall  f1-score   support\n",
      "\n",
      "           0       0.62      0.82      0.71       199\n",
      "           1       0.61      0.35      0.45       153\n",
      "\n",
      "    accuracy                           0.62       352\n",
      "   macro avg       0.62      0.59      0.58       352\n",
      "weighted avg       0.62      0.62      0.60       352\n",
      "\n"
     ]
    }
   ],
   "source": [
    "knn_model = KNeighborsClassifier(n_neighbors=4)\n",
    "knn_model.fit(X_train,y_train)\n",
    "y_pred=knn_model.predict(X_test)\n",
    "testing_accuracy = knn_model.score(X_test, y_test) * 100\n",
    "models.append('KNN')\n",
    "accuracy.append(testing_accuracy)\n",
    "print(f' Accuracy on test data: {testing_accuracy:.1f} %')\n",
    "print(classification_report(y_test,y_pred))"
   ]
  },
  {
   "cell_type": "code",
   "execution_count": 44,
   "id": "0fb8d9b2-bd5c-4042-9626-3ae7ec9f8e76",
   "metadata": {
    "tags": []
   },
   "outputs": [],
   "source": [
    "import matplotlib.pyplot as plt"
   ]
  },
  {
   "cell_type": "code",
   "execution_count": 58,
   "id": "2132b778-ff95-46b8-9486-f4cb266eb756",
   "metadata": {
    "tags": []
   },
   "outputs": [
    {
     "data": {
      "image/png": "[encoded data removed]",
      "text/plain": [
       "<Figure size 1000x600 with 1 Axes>"
      ]
     },
     "metadata": {},
     "output_type": "display_data"
    }
   ],
   "source": [
    "plt.figure(figsize=(10, 6))\n",
    "plt.bar(models,accuracy,width=0.9)\n",
    "plt.xlabel('Models')\n",
    "plt.ylabel('Accuracy(%)')\n",
    "plt.ylim(50, 70)\n",
    "plt.tight_layout()\n",
    "plt.show()"
   ]
  },
  {
   "cell_type": "code",
   "execution_count": null,
   "id": "8b99e9c5-eff0-4f7d-abb2-5bc8c007e85d",
   "metadata": {},
   "outputs": [],
   "source": []
  }
 ],
 "metadata": {
  "kernelspec": {
   "display_name": "Python 3 (ipykernel)",
   "language": "python",
   "name": "python3"
  },
  "language_info": {
   "codemirror_mode": {
    "name": "ipython",
    "version": 3
   },
   "file_extension": ".py",
   "mimetype": "text/x-python",
   "name": "python",
   "nbconvert_exporter": "python",
   "pygments_lexer": "ipython3",
   "version": "3.11.5"
  }
 },
 "nbformat": 4,
 "nbformat_minor": 5
}
