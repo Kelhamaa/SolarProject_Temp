{
 "cells": [
  {
   "cell_type": "markdown",
   "id": "86df8d4a-00ec-4edd-acad-f96358ab4ff7",
   "metadata": {},
   "source": [
    "## retrieve data from material project"
   ]
  },
  {
   "cell_type": "code",
   "execution_count": 1,
   "id": "9d8038b3-258a-40f1-9b52-e2a787a59495",
   "metadata": {
    "tags": []
   },
   "outputs": [
    {
     "name": "stderr",
     "output_type": "stream",
     "text": [
      "C:\\Users\\YujuL\\anaconda3\\envs\\Group\\Lib\\site-packages\\tqdm\\auto.py:21: TqdmWarning: IProgress not found. Please update jupyter and ipywidgets. See https://ipywidgets.readthedocs.io/en/stable/user_install.html\n",
      "  from .autonotebook import tqdm as notebook_tqdm\n",
      "Retrieving SummaryDoc documents: 100%|██████████| 4555/4555 [00:07<00:00, 618.10it/s]\n"
     ]
    }
   ],
   "source": [
    "from mp_api.client import MPRester\n",
    "key=\"Z7NcMZxFm5LyvsQZk9k7sD8ZgMdQZstr\"\n",
    "\n",
    "with MPRester(key) as mpr:\n",
    "    data=mpr.materials.summary.search(formula='ABC3',fields=[\"structure\",\"material_id\",\"nelements\",\"formula_pretty\",\"formula_anonymous\",\"theoretical\",\"is_stable\", \"volume\", \"elements\",\"band_gap\",\"formation_energy\"])\n",
    "    "
   ]
  },
  {
   "cell_type": "markdown",
   "id": "2e9c2944-fdb2-4c9e-9575-c0dc7bb9f924",
   "metadata": {
    "tags": []
   },
   "source": [
    "## Feature Engineering"
   ]
  },
  {
   "cell_type": "code",
   "execution_count": 2,
   "id": "cafea810-bb89-4631-be21-331cd2ef1840",
   "metadata": {
    "tags": []
   },
   "outputs": [],
   "source": [
    "from matminer.featurizers.bandstructure import BranchPointEnergy\n",
    "from matminer.featurizers.bandstructure import BandFeaturizer\n",
    "from matminer.featurizers.structure import XRDPowderPattern\n",
    "import pandas as pd"
   ]
  },
  {
   "cell_type": "code",
   "execution_count": 3,
   "id": "40c3e4fd-76a7-413d-878a-e5f39a92ba1d",
   "metadata": {
    "tags": []
   },
   "outputs": [],
   "source": [
    "xrd=XRDPowderPattern()\n",
    "\n",
    "stable = []\n",
    "structures = []\n",
    "band_gaps = []\n",
    "theory = []\n",
    "ids = []\n",
    "for sample in data:\n",
    "    stable.append(sample.is_stable)\n",
    "    structures.append(sample.structure)\n",
    "    band_gaps.append(sample.band_gap)\n",
    "    theory.append(sample.theoretical)\n",
    "    ids.append(sample.material_id)\n",
    "\n",
    "perov_df = pd.DataFrame(\n",
    "    {\"material ids\": ids,\n",
    "     \"structure\": structures,\n",
    "     \"band gaps\": band_gaps,\n",
    "     \"theoretical\": theory,\n",
    "     \"stable\": stable\n",
    "    })\n"
   ]
  },
  {
   "cell_type": "code",
   "execution_count": 4,
   "id": "795ca67b-69b2-40fc-b410-1bd0270bbfbd",
   "metadata": {
    "tags": []
   },
   "outputs": [
    {
     "name": "stderr",
     "output_type": "stream",
     "text": [
      "\n",
      "A value is trying to be set on a copy of a slice from a DataFrame.\n",
      "Try using .loc[row_indexer,col_indexer] = value instead\n",
      "\n",
      "See the caveats in the documentation: https://pandas.pydata.org/pandas-docs/stable/user_guide/indexing.html#returning-a-view-versus-a-copy\n"
     ]
    }
   ],
   "source": [
    "real_perovs = perov_df[perov_df[\"theoretical\"]==False]\n",
    "real_perovs[\"stable\"] = real_perovs[\"stable\"].astype(int)"
   ]
  },
  {
   "cell_type": "code",
   "execution_count": 5,
   "id": "2f691693-5448-4eea-a3d9-f6114755fc41",
   "metadata": {
    "tags": []
   },
   "outputs": [
    {
     "name": "stderr",
     "output_type": "stream",
     "text": [
      "XRDPowderPattern: 100%|██████████| 1759/1759 [03:40<00:00,  7.98it/s]\n"
     ]
    }
   ],
   "source": [
    "real_perovs_xrd = xrd.featurize_dataframe(real_perovs, \"structure\")"
   ]
  },
  {
   "cell_type": "code",
   "execution_count": 6,
   "id": "5970f948-dd86-4ceb-bae9-c10749d92ffb",
   "metadata": {
    "tags": []
   },
   "outputs": [],
   "source": [
    "y = real_perovs_xrd[\"stable\"].values\n",
    "X = real_perovs_xrd.drop([\"material ids\", \"structure\", \"band gaps\", \"theoretical\", \"stable\"], axis=1)"
   ]
  },
  {
   "cell_type": "code",
   "execution_count": 31,
   "id": "703729e4-8e98-4364-b967-0295cf35d2f4",
   "metadata": {
    "tags": []
   },
   "outputs": [
    {
     "data": {
      "text/html": [
       "<div>\n",
       "<style scoped>\n",
       "    .dataframe tbody tr th:only-of-type {\n",
       "        vertical-align: middle;\n",
       "    }\n",
       "\n",
       "    .dataframe tbody tr th {\n",
       "        vertical-align: top;\n",
       "    }\n",
       "\n",
       "    .dataframe thead th {\n",
       "        text-align: right;\n",
       "    }\n",
       "</style>\n",
       "<table border=\"1\" class=\"dataframe\">\n",
       "  <thead>\n",
       "    <tr style=\"text-align: right;\">\n",
       "      <th></th>\n",
       "      <th>xrd_0</th>\n",
       "      <th>xrd_1</th>\n",
       "      <th>xrd_2</th>\n",
       "      <th>xrd_3</th>\n",
       "      <th>xrd_4</th>\n",
       "      <th>xrd_5</th>\n",
       "      <th>xrd_6</th>\n",
       "      <th>xrd_7</th>\n",
       "      <th>xrd_8</th>\n",
       "      <th>xrd_9</th>\n",
       "      <th>...</th>\n",
       "      <th>xrd_118</th>\n",
       "      <th>xrd_119</th>\n",
       "      <th>xrd_120</th>\n",
       "      <th>xrd_121</th>\n",
       "      <th>xrd_122</th>\n",
       "      <th>xrd_123</th>\n",
       "      <th>xrd_124</th>\n",
       "      <th>xrd_125</th>\n",
       "      <th>xrd_126</th>\n",
       "      <th>xrd_127</th>\n",
       "    </tr>\n",
       "  </thead>\n",
       "  <tbody>\n",
       "    <tr>\n",
       "      <th>14</th>\n",
       "      <td>2.478322e-26</td>\n",
       "      <td>7.762754e-23</td>\n",
       "      <td>1.254368e-19</td>\n",
       "      <td>1.045647e-16</td>\n",
       "      <td>4.496728e-14</td>\n",
       "      <td>9.976063e-12</td>\n",
       "      <td>1.141755e-09</td>\n",
       "      <td>6.741240e-08</td>\n",
       "      <td>2.053376e-06</td>\n",
       "      <td>3.227161e-05</td>\n",
       "      <td>...</td>\n",
       "      <td>5.480407e-07</td>\n",
       "      <td>6.226729e-08</td>\n",
       "      <td>0.000001</td>\n",
       "      <td>0.000021</td>\n",
       "      <td>0.000183</td>\n",
       "      <td>0.000939</td>\n",
       "      <td>0.002913</td>\n",
       "      <td>0.005379</td>\n",
       "      <td>0.005676</td>\n",
       "      <td>3.291362e-03</td>\n",
       "    </tr>\n",
       "    <tr>\n",
       "      <th>18</th>\n",
       "      <td>2.061098e-37</td>\n",
       "      <td>1.139955e-33</td>\n",
       "      <td>3.841217e-30</td>\n",
       "      <td>7.885731e-27</td>\n",
       "      <td>9.862955e-24</td>\n",
       "      <td>7.515608e-21</td>\n",
       "      <td>3.489098e-18</td>\n",
       "      <td>9.868571e-16</td>\n",
       "      <td>1.700542e-13</td>\n",
       "      <td>1.785305e-11</td>\n",
       "      <td>...</td>\n",
       "      <td>4.197247e-03</td>\n",
       "      <td>1.812563e-03</td>\n",
       "      <td>0.000485</td>\n",
       "      <td>0.000082</td>\n",
       "      <td>0.000037</td>\n",
       "      <td>0.000210</td>\n",
       "      <td>0.000945</td>\n",
       "      <td>0.002605</td>\n",
       "      <td>0.004397</td>\n",
       "      <td>4.545096e-03</td>\n",
       "    </tr>\n",
       "    <tr>\n",
       "      <th>19</th>\n",
       "      <td>3.359836e-86</td>\n",
       "      <td>9.774339e-80</td>\n",
       "      <td>1.554275e-73</td>\n",
       "      <td>1.350951e-67</td>\n",
       "      <td>6.418341e-62</td>\n",
       "      <td>1.666775e-56</td>\n",
       "      <td>2.365934e-51</td>\n",
       "      <td>1.835690e-46</td>\n",
       "      <td>7.785158e-42</td>\n",
       "      <td>1.804707e-37</td>\n",
       "      <td>...</td>\n",
       "      <td>4.348214e-04</td>\n",
       "      <td>2.016603e-03</td>\n",
       "      <td>0.005112</td>\n",
       "      <td>0.007084</td>\n",
       "      <td>0.005365</td>\n",
       "      <td>0.002221</td>\n",
       "      <td>0.000503</td>\n",
       "      <td>0.000062</td>\n",
       "      <td>0.000004</td>\n",
       "      <td>1.553321e-07</td>\n",
       "    </tr>\n",
       "    <tr>\n",
       "      <th>27</th>\n",
       "      <td>2.928741e-23</td>\n",
       "      <td>5.345314e-20</td>\n",
       "      <td>4.845123e-17</td>\n",
       "      <td>2.181101e-14</td>\n",
       "      <td>4.876252e-12</td>\n",
       "      <td>5.414225e-10</td>\n",
       "      <td>2.985573e-08</td>\n",
       "      <td>8.176556e-07</td>\n",
       "      <td>1.112315e-05</td>\n",
       "      <td>7.523033e-05</td>\n",
       "      <td>...</td>\n",
       "      <td>2.167607e-03</td>\n",
       "      <td>2.228740e-03</td>\n",
       "      <td>0.002280</td>\n",
       "      <td>0.002234</td>\n",
       "      <td>0.002503</td>\n",
       "      <td>0.002920</td>\n",
       "      <td>0.002826</td>\n",
       "      <td>0.002212</td>\n",
       "      <td>0.001436</td>\n",
       "      <td>7.567850e-04</td>\n",
       "    </tr>\n",
       "    <tr>\n",
       "      <th>33</th>\n",
       "      <td>4.621298e-32</td>\n",
       "      <td>1.246952e-28</td>\n",
       "      <td>2.058293e-25</td>\n",
       "      <td>2.078434e-22</td>\n",
       "      <td>1.283916e-19</td>\n",
       "      <td>4.851863e-17</td>\n",
       "      <td>1.121637e-14</td>\n",
       "      <td>1.586241e-12</td>\n",
       "      <td>1.372337e-10</td>\n",
       "      <td>7.263288e-09</td>\n",
       "      <td>...</td>\n",
       "      <td>3.968101e-03</td>\n",
       "      <td>2.866507e-03</td>\n",
       "      <td>0.002318</td>\n",
       "      <td>0.003033</td>\n",
       "      <td>0.004262</td>\n",
       "      <td>0.004524</td>\n",
       "      <td>0.003224</td>\n",
       "      <td>0.001471</td>\n",
       "      <td>0.000420</td>\n",
       "      <td>7.436288e-05</td>\n",
       "    </tr>\n",
       "    <tr>\n",
       "      <th>...</th>\n",
       "      <td>...</td>\n",
       "      <td>...</td>\n",
       "      <td>...</td>\n",
       "      <td>...</td>\n",
       "      <td>...</td>\n",
       "      <td>...</td>\n",
       "      <td>...</td>\n",
       "      <td>...</td>\n",
       "      <td>...</td>\n",
       "      <td>...</td>\n",
       "      <td>...</td>\n",
       "      <td>...</td>\n",
       "      <td>...</td>\n",
       "      <td>...</td>\n",
       "      <td>...</td>\n",
       "      <td>...</td>\n",
       "      <td>...</td>\n",
       "      <td>...</td>\n",
       "      <td>...</td>\n",
       "      <td>...</td>\n",
       "      <td>...</td>\n",
       "    </tr>\n",
       "    <tr>\n",
       "      <th>4549</th>\n",
       "      <td>4.024008e-50</td>\n",
       "      <td>1.523183e-45</td>\n",
       "      <td>3.326686e-41</td>\n",
       "      <td>4.192162e-37</td>\n",
       "      <td>3.048112e-33</td>\n",
       "      <td>1.278764e-29</td>\n",
       "      <td>3.095396e-26</td>\n",
       "      <td>4.323233e-23</td>\n",
       "      <td>3.483916e-20</td>\n",
       "      <td>1.619919e-17</td>\n",
       "      <td>...</td>\n",
       "      <td>2.720574e-03</td>\n",
       "      <td>2.849249e-03</td>\n",
       "      <td>0.003757</td>\n",
       "      <td>0.004492</td>\n",
       "      <td>0.004112</td>\n",
       "      <td>0.003207</td>\n",
       "      <td>0.002657</td>\n",
       "      <td>0.002230</td>\n",
       "      <td>0.001485</td>\n",
       "      <td>6.783342e-04</td>\n",
       "    </tr>\n",
       "    <tr>\n",
       "      <th>4550</th>\n",
       "      <td>3.017360e-60</td>\n",
       "      <td>2.631816e-55</td>\n",
       "      <td>1.379515e-50</td>\n",
       "      <td>4.345677e-46</td>\n",
       "      <td>8.227486e-42</td>\n",
       "      <td>9.362137e-38</td>\n",
       "      <td>6.403264e-34</td>\n",
       "      <td>2.632495e-30</td>\n",
       "      <td>6.505725e-27</td>\n",
       "      <td>9.665152e-24</td>\n",
       "      <td>...</td>\n",
       "      <td>3.807744e-03</td>\n",
       "      <td>3.928954e-03</td>\n",
       "      <td>0.003471</td>\n",
       "      <td>0.002783</td>\n",
       "      <td>0.002942</td>\n",
       "      <td>0.003726</td>\n",
       "      <td>0.004412</td>\n",
       "      <td>0.004628</td>\n",
       "      <td>0.003932</td>\n",
       "      <td>2.427809e-03</td>\n",
       "    </tr>\n",
       "    <tr>\n",
       "      <th>4551</th>\n",
       "      <td>7.862720e-12</td>\n",
       "      <td>5.214322e-10</td>\n",
       "      <td>1.997782e-08</td>\n",
       "      <td>4.422047e-07</td>\n",
       "      <td>5.654886e-06</td>\n",
       "      <td>4.177818e-05</td>\n",
       "      <td>1.783201e-04</td>\n",
       "      <td>4.397200e-04</td>\n",
       "      <td>6.264369e-04</td>\n",
       "      <td>5.155901e-04</td>\n",
       "      <td>...</td>\n",
       "      <td>8.527335e-04</td>\n",
       "      <td>6.624125e-04</td>\n",
       "      <td>0.000716</td>\n",
       "      <td>0.001637</td>\n",
       "      <td>0.003429</td>\n",
       "      <td>0.004699</td>\n",
       "      <td>0.003999</td>\n",
       "      <td>0.002066</td>\n",
       "      <td>0.000637</td>\n",
       "      <td>1.160117e-04</td>\n",
       "    </tr>\n",
       "    <tr>\n",
       "      <th>4552</th>\n",
       "      <td>1.314500e-64</td>\n",
       "      <td>2.031345e-59</td>\n",
       "      <td>1.861787e-54</td>\n",
       "      <td>1.012046e-49</td>\n",
       "      <td>3.262827e-45</td>\n",
       "      <td>6.238962e-41</td>\n",
       "      <td>7.075469e-37</td>\n",
       "      <td>4.759081e-33</td>\n",
       "      <td>1.898524e-29</td>\n",
       "      <td>4.491948e-26</td>\n",
       "      <td>...</td>\n",
       "      <td>1.041261e-02</td>\n",
       "      <td>1.126488e-02</td>\n",
       "      <td>0.007685</td>\n",
       "      <td>0.003383</td>\n",
       "      <td>0.001215</td>\n",
       "      <td>0.001344</td>\n",
       "      <td>0.003030</td>\n",
       "      <td>0.004591</td>\n",
       "      <td>0.004151</td>\n",
       "      <td>2.227070e-03</td>\n",
       "    </tr>\n",
       "    <tr>\n",
       "      <th>4553</th>\n",
       "      <td>2.723079e-10</td>\n",
       "      <td>1.963165e-08</td>\n",
       "      <td>7.288055e-07</td>\n",
       "      <td>1.393235e-05</td>\n",
       "      <td>1.371498e-04</td>\n",
       "      <td>6.952229e-04</td>\n",
       "      <td>1.814726e-03</td>\n",
       "      <td>2.439248e-03</td>\n",
       "      <td>1.688339e-03</td>\n",
       "      <td>6.018443e-04</td>\n",
       "      <td>...</td>\n",
       "      <td>1.177471e-03</td>\n",
       "      <td>1.159504e-03</td>\n",
       "      <td>0.001270</td>\n",
       "      <td>0.001691</td>\n",
       "      <td>0.002334</td>\n",
       "      <td>0.002516</td>\n",
       "      <td>0.002104</td>\n",
       "      <td>0.001704</td>\n",
       "      <td>0.001332</td>\n",
       "      <td>7.678724e-04</td>\n",
       "    </tr>\n",
       "  </tbody>\n",
       "</table>\n",
       "<p>1759 rows × 128 columns</p>\n",
       "</div>"
      ],
      "text/plain": [
       "             xrd_0         xrd_1         xrd_2         xrd_3         xrd_4  \\\n",
       "14    2.478322e-26  7.762754e-23  1.254368e-19  1.045647e-16  4.496728e-14   \n",
       "18    2.061098e-37  1.139955e-33  3.841217e-30  7.885731e-27  9.862955e-24   \n",
       "19    3.359836e-86  9.774339e-80  1.554275e-73  1.350951e-67  6.418341e-62   \n",
       "27    2.928741e-23  5.345314e-20  4.845123e-17  2.181101e-14  4.876252e-12   \n",
       "33    4.621298e-32  1.246952e-28  2.058293e-25  2.078434e-22  1.283916e-19   \n",
       "...            ...           ...           ...           ...           ...   \n",
       "4549  4.024008e-50  1.523183e-45  3.326686e-41  4.192162e-37  3.048112e-33   \n",
       "4550  3.017360e-60  2.631816e-55  1.379515e-50  4.345677e-46  8.227486e-42   \n",
       "4551  7.862720e-12  5.214322e-10  1.997782e-08  4.422047e-07  5.654886e-06   \n",
       "4552  1.314500e-64  2.031345e-59  1.861787e-54  1.012046e-49  3.262827e-45   \n",
       "4553  2.723079e-10  1.963165e-08  7.288055e-07  1.393235e-05  1.371498e-04   \n",
       "\n",
       "             xrd_5         xrd_6         xrd_7         xrd_8         xrd_9  \\\n",
       "14    9.976063e-12  1.141755e-09  6.741240e-08  2.053376e-06  3.227161e-05   \n",
       "18    7.515608e-21  3.489098e-18  9.868571e-16  1.700542e-13  1.785305e-11   \n",
       "19    1.666775e-56  2.365934e-51  1.835690e-46  7.785158e-42  1.804707e-37   \n",
       "27    5.414225e-10  2.985573e-08  8.176556e-07  1.112315e-05  7.523033e-05   \n",
       "33    4.851863e-17  1.121637e-14  1.586241e-12  1.372337e-10  7.263288e-09   \n",
       "...            ...           ...           ...           ...           ...   \n",
       "4549  1.278764e-29  3.095396e-26  4.323233e-23  3.483916e-20  1.619919e-17   \n",
       "4550  9.362137e-38  6.403264e-34  2.632495e-30  6.505725e-27  9.665152e-24   \n",
       "4551  4.177818e-05  1.783201e-04  4.397200e-04  6.264369e-04  5.155901e-04   \n",
       "4552  6.238962e-41  7.075469e-37  4.759081e-33  1.898524e-29  4.491948e-26   \n",
       "4553  6.952229e-04  1.814726e-03  2.439248e-03  1.688339e-03  6.018443e-04   \n",
       "\n",
       "      ...       xrd_118       xrd_119   xrd_120   xrd_121   xrd_122   xrd_123  \\\n",
       "14    ...  5.480407e-07  6.226729e-08  0.000001  0.000021  0.000183  0.000939   \n",
       "18    ...  4.197247e-03  1.812563e-03  0.000485  0.000082  0.000037  0.000210   \n",
       "19    ...  4.348214e-04  2.016603e-03  0.005112  0.007084  0.005365  0.002221   \n",
       "27    ...  2.167607e-03  2.228740e-03  0.002280  0.002234  0.002503  0.002920   \n",
       "33    ...  3.968101e-03  2.866507e-03  0.002318  0.003033  0.004262  0.004524   \n",
       "...   ...           ...           ...       ...       ...       ...       ...   \n",
       "4549  ...  2.720574e-03  2.849249e-03  0.003757  0.004492  0.004112  0.003207   \n",
       "4550  ...  3.807744e-03  3.928954e-03  0.003471  0.002783  0.002942  0.003726   \n",
       "4551  ...  8.527335e-04  6.624125e-04  0.000716  0.001637  0.003429  0.004699   \n",
       "4552  ...  1.041261e-02  1.126488e-02  0.007685  0.003383  0.001215  0.001344   \n",
       "4553  ...  1.177471e-03  1.159504e-03  0.001270  0.001691  0.002334  0.002516   \n",
       "\n",
       "       xrd_124   xrd_125   xrd_126       xrd_127  \n",
       "14    0.002913  0.005379  0.005676  3.291362e-03  \n",
       "18    0.000945  0.002605  0.004397  4.545096e-03  \n",
       "19    0.000503  0.000062  0.000004  1.553321e-07  \n",
       "27    0.002826  0.002212  0.001436  7.567850e-04  \n",
       "33    0.003224  0.001471  0.000420  7.436288e-05  \n",
       "...        ...       ...       ...           ...  \n",
       "4549  0.002657  0.002230  0.001485  6.783342e-04  \n",
       "4550  0.004412  0.004628  0.003932  2.427809e-03  \n",
       "4551  0.003999  0.002066  0.000637  1.160117e-04  \n",
       "4552  0.003030  0.004591  0.004151  2.227070e-03  \n",
       "4553  0.002104  0.001704  0.001332  7.678724e-04  \n",
       "\n",
       "[1759 rows x 128 columns]"
      ]
     },
     "execution_count": 31,
     "metadata": {},
     "output_type": "execute_result"
    }
   ],
   "source": [
    "X"
   ]
  },
  {
   "cell_type": "code",
   "execution_count": 7,
   "id": "ba4d47e7-6220-40a2-9054-38adb2c694fd",
   "metadata": {
    "tags": []
   },
   "outputs": [],
   "source": [
    "from sklearn.model_selection import train_test_split\n",
    "\n",
    "X_train,X_test,y_train,y_test=train_test_split(X,y,test_size=0.2,random_state=42)"
   ]
  },
  {
   "cell_type": "code",
   "execution_count": 8,
   "id": "fb59ff0c-fddb-4d88-bb42-848f667ba4f1",
   "metadata": {},
   "outputs": [],
   "source": [
    "models=[]\n",
    "accuracy=[]"
   ]
  },
  {
   "cell_type": "markdown",
   "id": "f5c491de-3e77-4241-9961-90a04a9f7f0e",
   "metadata": {
    "tags": []
   },
   "source": [
    "## SVM "
   ]
  },
  {
   "cell_type": "code",
   "execution_count": 9,
   "id": "c152defa-f570-4c8b-a9ca-8e74fc53c07e",
   "metadata": {
    "tags": []
   },
   "outputs": [],
   "source": [
    "from sklearn.svm import SVC"
   ]
  },
  {
   "cell_type": "code",
   "execution_count": 10,
   "id": "47688460-90ca-4f02-a776-69a03fb58125",
   "metadata": {
    "tags": []
   },
   "outputs": [],
   "source": [
    "svc = SVC()\n",
    "\n",
    "param_grid={'kernel':['linear','poly','rbf','sigmoid'],\n",
    "            'degree':[1,2,3,4],\n",
    "            'gamma':[0.05,0.1,0.2,0.5,0.7,1.2],\n",
    "            'C':[0.1,0.2,0.3,0.4,1]\n",
    "           }\n"
   ]
  },
  {
   "cell_type": "code",
   "execution_count": 11,
   "id": "355e0632-3f34-469d-b0c6-273df10d0dff",
   "metadata": {
    "tags": []
   },
   "outputs": [],
   "source": [
    "##RandomizedSearchCV to find the best parameter"
   ]
  },
  {
   "cell_type": "code",
   "execution_count": 12,
   "id": "340eb51d-9bca-4723-aade-7d898161793c",
   "metadata": {
    "tags": []
   },
   "outputs": [
    {
     "name": "stdout",
     "output_type": "stream",
     "text": [
      "best parameter:{'kernel': 'rbf', 'gamma': 0.05, 'degree': 4, 'C': 1}\n",
      "best score:0.5927513187451099\n"
     ]
    }
   ],
   "source": [
    "from sklearn.model_selection import RandomizedSearchCV\n",
    "\n",
    "rand_ser = RandomizedSearchCV(estimator=svc,param_distributions=param_grid,n_iter=10,)\n",
    "rand_ser.fit(X_train,y_train)\n",
    "print(f'best parameter:{rand_ser.best_params_}')\n",
    "print(f'best score:{rand_ser.best_score_}')"
   ]
  },
  {
   "cell_type": "code",
   "execution_count": 13,
   "id": "afc13d34-8ff0-4261-8a68-b937701bd644",
   "metadata": {
    "tags": []
   },
   "outputs": [
    {
     "data": {
      "text/html": [
       "<style>#sk-container-id-1 {color: black;background-color: white;}#sk-container-id-1 pre{padding: 0;}#sk-container-id-1 div.sk-toggleable {background-color: white;}#sk-container-id-1 label.sk-toggleable__label {cursor: pointer;display: block;width: 100%;margin-bottom: 0;padding: 0.3em;box-sizing: border-box;text-align: center;}#sk-container-id-1 label.sk-toggleable__label-arrow:before {content: \"▸\";float: left;margin-right: 0.25em;color: #696969;}#sk-container-id-1 label.sk-toggleable__label-arrow:hover:before {color: black;}#sk-container-id-1 div.sk-estimator:hover label.sk-toggleable__label-arrow:before {color: black;}#sk-container-id-1 div.sk-toggleable__content {max-height: 0;max-width: 0;overflow: hidden;text-align: left;background-color: #f0f8ff;}#sk-container-id-1 div.sk-toggleable__content pre {margin: 0.2em;color: black;border-radius: 0.25em;background-color: #f0f8ff;}#sk-container-id-1 input.sk-toggleable__control:checked~div.sk-toggleable__content {max-height: 200px;max-width: 100%;overflow: auto;}#sk-container-id-1 input.sk-toggleable__control:checked~label.sk-toggleable__label-arrow:before {content: \"▾\";}#sk-container-id-1 div.sk-estimator input.sk-toggleable__control:checked~label.sk-toggleable__label {background-color: #d4ebff;}#sk-container-id-1 div.sk-label input.sk-toggleable__control:checked~label.sk-toggleable__label {background-color: #d4ebff;}#sk-container-id-1 input.sk-hidden--visually {border: 0;clip: rect(1px 1px 1px 1px);clip: rect(1px, 1px, 1px, 1px);height: 1px;margin: -1px;overflow: hidden;padding: 0;position: absolute;width: 1px;}#sk-container-id-1 div.sk-estimator {font-family: monospace;background-color: #f0f8ff;border: 1px dotted black;border-radius: 0.25em;box-sizing: border-box;margin-bottom: 0.5em;}#sk-container-id-1 div.sk-estimator:hover {background-color: #d4ebff;}#sk-container-id-1 div.sk-parallel-item::after {content: \"\";width: 100%;border-bottom: 1px solid gray;flex-grow: 1;}#sk-container-id-1 div.sk-label:hover label.sk-toggleable__label {background-color: #d4ebff;}#sk-container-id-1 div.sk-serial::before {content: \"\";position: absolute;border-left: 1px solid gray;box-sizing: border-box;top: 0;bottom: 0;left: 50%;z-index: 0;}#sk-container-id-1 div.sk-serial {display: flex;flex-direction: column;align-items: center;background-color: white;padding-right: 0.2em;padding-left: 0.2em;position: relative;}#sk-container-id-1 div.sk-item {position: relative;z-index: 1;}#sk-container-id-1 div.sk-parallel {display: flex;align-items: stretch;justify-content: center;background-color: white;position: relative;}#sk-container-id-1 div.sk-item::before, #sk-container-id-1 div.sk-parallel-item::before {content: \"\";position: absolute;border-left: 1px solid gray;box-sizing: border-box;top: 0;bottom: 0;left: 50%;z-index: -1;}#sk-container-id-1 div.sk-parallel-item {display: flex;flex-direction: column;z-index: 1;position: relative;background-color: white;}#sk-container-id-1 div.sk-parallel-item:first-child::after {align-self: flex-end;width: 50%;}#sk-container-id-1 div.sk-parallel-item:last-child::after {align-self: flex-start;width: 50%;}#sk-container-id-1 div.sk-parallel-item:only-child::after {width: 0;}#sk-container-id-1 div.sk-dashed-wrapped {border: 1px dashed gray;margin: 0 0.4em 0.5em 0.4em;box-sizing: border-box;padding-bottom: 0.4em;background-color: white;}#sk-container-id-1 div.sk-label label {font-family: monospace;font-weight: bold;display: inline-block;line-height: 1.2em;}#sk-container-id-1 div.sk-label-container {text-align: center;}#sk-container-id-1 div.sk-container {/* jupyter's `normalize.less` sets `[hidden] { display: none; }` but bootstrap.min.css set `[hidden] { display: none !important; }` so we also need the `!important` here to be able to override the default hidden behavior on the sphinx rendered scikit-learn.org. See: https://github.com/scikit-learn/scikit-learn/issues/21755 */display: inline-block !important;position: relative;}#sk-container-id-1 div.sk-text-repr-fallback {display: none;}</style><div id=\"sk-container-id-1\" class=\"sk-top-container\"><div class=\"sk-text-repr-fallback\"><pre>SVC(C=1, degree=4, gamma=0.05)</pre><b>In a Jupyter environment, please rerun this cell to show the HTML representation or trust the notebook. <br />On GitHub, the HTML representation is unable to render, please try loading this page with nbviewer.org.</b></div><div class=\"sk-container\" hidden><div class=\"sk-item\"><div class=\"sk-estimator sk-toggleable\"><input class=\"sk-toggleable__control sk-hidden--visually\" id=\"sk-estimator-id-1\" type=\"checkbox\" checked><label for=\"sk-estimator-id-1\" class=\"sk-toggleable__label sk-toggleable__label-arrow\">SVC</label><div class=\"sk-toggleable__content\"><pre>SVC(C=1, degree=4, gamma=0.05)</pre></div></div></div></div></div>"
      ],
      "text/plain": [
       "SVC(C=1, degree=4, gamma=0.05)"
      ]
     },
     "execution_count": 13,
     "metadata": {},
     "output_type": "execute_result"
    }
   ],
   "source": [
    "svc_model=rand_ser.best_estimator_\n",
    "svc_model.fit(X_train,y_train)"
   ]
  },
  {
   "cell_type": "code",
   "execution_count": 14,
   "id": "bfc18d8f-3da2-4f26-a017-b30dc44123a1",
   "metadata": {
    "tags": []
   },
   "outputs": [],
   "source": [
    "from sklearn.metrics import classification_report"
   ]
  },
  {
   "cell_type": "code",
   "execution_count": 15,
   "id": "4339d9b0-310f-4dba-85eb-7f729c7db1f1",
   "metadata": {
    "tags": []
   },
   "outputs": [
    {
     "name": "stdout",
     "output_type": "stream",
     "text": [
      "Accuracy on test data: 56.5 %\n",
      "              precision    recall  f1-score   support\n",
      "\n",
      "           0       0.57      1.00      0.72       199\n",
      "           1       1.00      0.00      0.00       153\n",
      "\n",
      "    accuracy                           0.57       352\n",
      "   macro avg       0.78      0.50      0.36       352\n",
      "weighted avg       0.75      0.57      0.41       352\n",
      "\n"
     ]
    }
   ],
   "source": [
    "y_pred = svc_model.predict(X_test)\n",
    "testing_accuracy = svc_model.score(X_test, y_test) * 100\n",
    "models.append('SVC')\n",
    "accuracy.append(testing_accuracy)\n",
    "print(f'Accuracy on test data: {testing_accuracy:.1f} %')\n",
    "print(classification_report(y_test,y_pred,zero_division=1))"
   ]
  },
  {
   "cell_type": "code",
   "execution_count": 16,
   "id": "b841d5b9-7dd4-4f17-b805-cc1aa17755cb",
   "metadata": {},
   "outputs": [
    {
     "data": {
      "text/plain": [
       "array([0, 0, 0, 0, 0, 0, 0, 0, 0, 0, 0, 0, 0, 0, 0, 0, 0, 0, 0, 0, 0, 0,\n",
       "       0, 0, 0, 0, 0, 0, 0, 0, 0, 0, 0, 0, 0, 0, 0, 0, 0, 0, 0, 0, 0, 0,\n",
       "       0, 0, 0, 0, 0, 0, 0, 0, 0, 0, 0, 0, 0, 0, 0, 0, 0, 0, 0, 0, 0, 0,\n",
       "       0, 0, 0, 0, 0, 0, 0, 0, 0, 0, 0, 0, 0, 0, 0, 0, 0, 0, 0, 0, 0, 0,\n",
       "       0, 0, 0, 0, 0, 0, 0, 0, 0, 0, 0, 0, 0, 0, 0, 0, 0, 0, 0, 0, 0, 0,\n",
       "       0, 0, 0, 0, 0, 0, 0, 0, 0, 0, 0, 0, 0, 0, 0, 0, 0, 0, 0, 0, 0, 0,\n",
       "       0, 0, 0, 0, 0, 0, 0, 0, 0, 0, 0, 0, 0, 0, 0, 0, 0, 0, 0, 0, 0, 0,\n",
       "       0, 0, 0, 0, 0, 0, 0, 0, 0, 0, 0, 0, 0, 0, 0, 0, 0, 0, 0, 0, 0, 0,\n",
       "       0, 0, 0, 0, 0, 0, 0, 0, 0, 0, 0, 0, 0, 0, 0, 0, 0, 0, 0, 0, 0, 0,\n",
       "       0, 0, 0, 0, 0, 0, 0, 0, 0, 0, 0, 0, 0, 0, 0, 0, 0, 0, 0, 0, 0, 0,\n",
       "       0, 0, 0, 0, 0, 0, 0, 0, 0, 0, 0, 0, 0, 0, 0, 0, 0, 0, 0, 0, 0, 0,\n",
       "       0, 0, 0, 0, 0, 0, 0, 0, 0, 0, 0, 0, 0, 0, 0, 0, 0, 0, 0, 0, 0, 0,\n",
       "       0, 0, 0, 0, 0, 0, 0, 0, 0, 0, 0, 0, 0, 0, 0, 0, 0, 0, 0, 0, 0, 0,\n",
       "       0, 0, 0, 0, 0, 0, 0, 0, 0, 0, 0, 0, 0, 0, 0, 0, 0, 0, 0, 0, 0, 0,\n",
       "       0, 0, 0, 0, 0, 0, 0, 0, 0, 0, 0, 0, 0, 0, 0, 0, 0, 0, 0, 0, 0, 0,\n",
       "       0, 0, 0, 0, 0, 0, 0, 0, 0, 0, 0, 0, 0, 0, 0, 0, 0, 0, 0, 0, 0, 0])"
      ]
     },
     "execution_count": 16,
     "metadata": {},
     "output_type": "execute_result"
    }
   ],
   "source": [
    "y_pred"
   ]
  },
  {
   "cell_type": "markdown",
   "id": "c65200b3-e44d-4959-91ae-19b33dbef97f",
   "metadata": {},
   "source": [
    "### Random Forest"
   ]
  },
  {
   "cell_type": "code",
   "execution_count": 17,
   "id": "5825461e-7047-420e-b79e-88eeb6d6bd40",
   "metadata": {
    "tags": []
   },
   "outputs": [
    {
     "data": {
      "text/html": [
       "<style>#sk-container-id-2 {color: black;background-color: white;}#sk-container-id-2 pre{padding: 0;}#sk-container-id-2 div.sk-toggleable {background-color: white;}#sk-container-id-2 label.sk-toggleable__label {cursor: pointer;display: block;width: 100%;margin-bottom: 0;padding: 0.3em;box-sizing: border-box;text-align: center;}#sk-container-id-2 label.sk-toggleable__label-arrow:before {content: \"▸\";float: left;margin-right: 0.25em;color: #696969;}#sk-container-id-2 label.sk-toggleable__label-arrow:hover:before {color: black;}#sk-container-id-2 div.sk-estimator:hover label.sk-toggleable__label-arrow:before {color: black;}#sk-container-id-2 div.sk-toggleable__content {max-height: 0;max-width: 0;overflow: hidden;text-align: left;background-color: #f0f8ff;}#sk-container-id-2 div.sk-toggleable__content pre {margin: 0.2em;color: black;border-radius: 0.25em;background-color: #f0f8ff;}#sk-container-id-2 input.sk-toggleable__control:checked~div.sk-toggleable__content {max-height: 200px;max-width: 100%;overflow: auto;}#sk-container-id-2 input.sk-toggleable__control:checked~label.sk-toggleable__label-arrow:before {content: \"▾\";}#sk-container-id-2 div.sk-estimator input.sk-toggleable__control:checked~label.sk-toggleable__label {background-color: #d4ebff;}#sk-container-id-2 div.sk-label input.sk-toggleable__control:checked~label.sk-toggleable__label {background-color: #d4ebff;}#sk-container-id-2 input.sk-hidden--visually {border: 0;clip: rect(1px 1px 1px 1px);clip: rect(1px, 1px, 1px, 1px);height: 1px;margin: -1px;overflow: hidden;padding: 0;position: absolute;width: 1px;}#sk-container-id-2 div.sk-estimator {font-family: monospace;background-color: #f0f8ff;border: 1px dotted black;border-radius: 0.25em;box-sizing: border-box;margin-bottom: 0.5em;}#sk-container-id-2 div.sk-estimator:hover {background-color: #d4ebff;}#sk-container-id-2 div.sk-parallel-item::after {content: \"\";width: 100%;border-bottom: 1px solid gray;flex-grow: 1;}#sk-container-id-2 div.sk-label:hover label.sk-toggleable__label {background-color: #d4ebff;}#sk-container-id-2 div.sk-serial::before {content: \"\";position: absolute;border-left: 1px solid gray;box-sizing: border-box;top: 0;bottom: 0;left: 50%;z-index: 0;}#sk-container-id-2 div.sk-serial {display: flex;flex-direction: column;align-items: center;background-color: white;padding-right: 0.2em;padding-left: 0.2em;position: relative;}#sk-container-id-2 div.sk-item {position: relative;z-index: 1;}#sk-container-id-2 div.sk-parallel {display: flex;align-items: stretch;justify-content: center;background-color: white;position: relative;}#sk-container-id-2 div.sk-item::before, #sk-container-id-2 div.sk-parallel-item::before {content: \"\";position: absolute;border-left: 1px solid gray;box-sizing: border-box;top: 0;bottom: 0;left: 50%;z-index: -1;}#sk-container-id-2 div.sk-parallel-item {display: flex;flex-direction: column;z-index: 1;position: relative;background-color: white;}#sk-container-id-2 div.sk-parallel-item:first-child::after {align-self: flex-end;width: 50%;}#sk-container-id-2 div.sk-parallel-item:last-child::after {align-self: flex-start;width: 50%;}#sk-container-id-2 div.sk-parallel-item:only-child::after {width: 0;}#sk-container-id-2 div.sk-dashed-wrapped {border: 1px dashed gray;margin: 0 0.4em 0.5em 0.4em;box-sizing: border-box;padding-bottom: 0.4em;background-color: white;}#sk-container-id-2 div.sk-label label {font-family: monospace;font-weight: bold;display: inline-block;line-height: 1.2em;}#sk-container-id-2 div.sk-label-container {text-align: center;}#sk-container-id-2 div.sk-container {/* jupyter's `normalize.less` sets `[hidden] { display: none; }` but bootstrap.min.css set `[hidden] { display: none !important; }` so we also need the `!important` here to be able to override the default hidden behavior on the sphinx rendered scikit-learn.org. See: https://github.com/scikit-learn/scikit-learn/issues/21755 */display: inline-block !important;position: relative;}#sk-container-id-2 div.sk-text-repr-fallback {display: none;}</style><div id=\"sk-container-id-2\" class=\"sk-top-container\"><div class=\"sk-text-repr-fallback\"><pre>RandomizedSearchCV(estimator=RandomForestClassifier(),\n",
       "                   param_distributions={&#x27;n_estimators&#x27;: range(1, 1000)})</pre><b>In a Jupyter environment, please rerun this cell to show the HTML representation or trust the notebook. <br />On GitHub, the HTML representation is unable to render, please try loading this page with nbviewer.org.</b></div><div class=\"sk-container\" hidden><div class=\"sk-item sk-dashed-wrapped\"><div class=\"sk-label-container\"><div class=\"sk-label sk-toggleable\"><input class=\"sk-toggleable__control sk-hidden--visually\" id=\"sk-estimator-id-2\" type=\"checkbox\" ><label for=\"sk-estimator-id-2\" class=\"sk-toggleable__label sk-toggleable__label-arrow\">RandomizedSearchCV</label><div class=\"sk-toggleable__content\"><pre>RandomizedSearchCV(estimator=RandomForestClassifier(),\n",
       "                   param_distributions={&#x27;n_estimators&#x27;: range(1, 1000)})</pre></div></div></div><div class=\"sk-parallel\"><div class=\"sk-parallel-item\"><div class=\"sk-item\"><div class=\"sk-label-container\"><div class=\"sk-label sk-toggleable\"><input class=\"sk-toggleable__control sk-hidden--visually\" id=\"sk-estimator-id-3\" type=\"checkbox\" ><label for=\"sk-estimator-id-3\" class=\"sk-toggleable__label sk-toggleable__label-arrow\">estimator: RandomForestClassifier</label><div class=\"sk-toggleable__content\"><pre>RandomForestClassifier()</pre></div></div></div><div class=\"sk-serial\"><div class=\"sk-item\"><div class=\"sk-estimator sk-toggleable\"><input class=\"sk-toggleable__control sk-hidden--visually\" id=\"sk-estimator-id-4\" type=\"checkbox\" ><label for=\"sk-estimator-id-4\" class=\"sk-toggleable__label sk-toggleable__label-arrow\">RandomForestClassifier</label><div class=\"sk-toggleable__content\"><pre>RandomForestClassifier()</pre></div></div></div></div></div></div></div></div></div></div>"
      ],
      "text/plain": [
       "RandomizedSearchCV(estimator=RandomForestClassifier(),\n",
       "                   param_distributions={'n_estimators': range(1, 1000)})"
      ]
     },
     "execution_count": 17,
     "metadata": {},
     "output_type": "execute_result"
    }
   ],
   "source": [
    "from sklearn.ensemble import RandomForestClassifier\n",
    "rf=RandomForestClassifier()\n",
    "\n",
    "grid_param={'n_estimators':range(1,1000)}\n",
    "\n",
    "rand_ser = RandomizedSearchCV(estimator=rf,param_distributions=grid_param,n_iter=10,)\n",
    "rand_ser.fit(X_train,y_train)"
   ]
  },
  {
   "cell_type": "code",
   "execution_count": 18,
   "id": "7cd7785c-6a05-4ce2-b1f1-7dfa1bec87b7",
   "metadata": {
    "tags": []
   },
   "outputs": [
    {
     "name": "stdout",
     "output_type": "stream",
     "text": [
      "best parameter:{'n_estimators': 839}\n",
      "best score:0.6922389641856591\n"
     ]
    }
   ],
   "source": [
    "print(f'best parameter:{rand_ser.best_params_}')\n",
    "print(f'best score:{rand_ser.best_score_}')"
   ]
  },
  {
   "cell_type": "code",
   "execution_count": 19,
   "id": "c122b5af-545d-4787-908d-98ae84238a27",
   "metadata": {
    "tags": []
   },
   "outputs": [],
   "source": [
    "rf_model=rand_ser.best_estimator_"
   ]
  },
  {
   "cell_type": "code",
   "execution_count": 20,
   "id": "04b7b31d-1a08-405c-83b0-c207c1ff22da",
   "metadata": {
    "tags": []
   },
   "outputs": [
    {
     "name": "stdout",
     "output_type": "stream",
     "text": [
      " Accuracy on test data: 67.6 %\n",
      "              precision    recall  f1-score   support\n",
      "\n",
      "           0       0.66      0.88      0.75       199\n",
      "           1       0.72      0.41      0.53       153\n",
      "\n",
      "    accuracy                           0.68       352\n",
      "   macro avg       0.69      0.65      0.64       352\n",
      "weighted avg       0.69      0.68      0.65       352\n",
      "\n"
     ]
    }
   ],
   "source": [
    "\n",
    "y_pred=rf_model.predict(X_test)\n",
    "testing_accuracy = rf_model.score(X_test, y_test) * 100\n",
    "models.append('Randomforest')\n",
    "accuracy.append(testing_accuracy)\n",
    "print(f' Accuracy on test data: {testing_accuracy:.1f} %')\n",
    "print(classification_report(y_test,y_pred))"
   ]
  },
  {
   "cell_type": "markdown",
   "id": "3f511d60-ac4f-46fd-bd06-a5f254de4944",
   "metadata": {},
   "source": [
    "## LogisticRegression"
   ]
  },
  {
   "cell_type": "code",
   "execution_count": 21,
   "id": "f0618400-4a55-4168-9651-45766979309b",
   "metadata": {
    "tags": []
   },
   "outputs": [
    {
     "name": "stderr",
     "output_type": "stream",
     "text": [
      "The max_iter was reached which means the coef_ did not converge\n",
      "The max_iter was reached which means the coef_ did not converge\n",
      "The max_iter was reached which means the coef_ did not converge\n",
      "The max_iter was reached which means the coef_ did not converge\n"
     ]
    },
    {
     "name": "stdout",
     "output_type": "stream",
     "text": [
      "best parameter:{'C': 100, 'solver': 'lbfgs'}\n",
      "best score:0.6439110572676107\n"
     ]
    },
    {
     "name": "stderr",
     "output_type": "stream",
     "text": [
      "The max_iter was reached which means the coef_ did not converge\n"
     ]
    }
   ],
   "source": [
    "from sklearn.linear_model import LogisticRegression\n",
    "from sklearn.model_selection import GridSearchCV\n",
    "\n",
    "lr=LogisticRegression(max_iter=1000)\n",
    "grid_param={'C':[0.001, 0.01, 0.1, 1, 10, 100, 1000],\n",
    "             'solver': ['lbfgs', 'liblinear', 'newton-cg', 'newton-cholesky', 'sag', 'saga']}\n",
    "\n",
    "grid_ser = GridSearchCV(estimator=lr,param_grid=grid_param,cv=5,scoring='accuracy')\n",
    "grid_ser.fit(X_train,y_train)\n",
    "\n",
    "print(f'best parameter:{grid_ser.best_params_}')\n",
    "print(f'best score:{grid_ser.best_score_}')"
   ]
  },
  {
   "cell_type": "code",
   "execution_count": 22,
   "id": "a9bd24f5-1186-4cf9-bdec-a973558a0c32",
   "metadata": {
    "tags": []
   },
   "outputs": [
    {
     "name": "stdout",
     "output_type": "stream",
     "text": [
      " Accuracy on test data: 63.9 %\n",
      "              precision    recall  f1-score   support\n",
      "\n",
      "           0       0.63      0.87      0.73       199\n",
      "           1       0.67      0.33      0.45       153\n",
      "\n",
      "    accuracy                           0.64       352\n",
      "   macro avg       0.65      0.60      0.59       352\n",
      "weighted avg       0.65      0.64      0.61       352\n",
      "\n"
     ]
    }
   ],
   "source": [
    "lr_model=grid_ser.best_estimator_\n",
    "lr_model.fit(X_train, y_train)\n",
    "y_pred=lr_model.predict(X_test)\n",
    "testing_accuracy = lr_model.score(X_test, y_test) * 100\n",
    "models.append('LogisticRegression')\n",
    "accuracy.append(testing_accuracy)\n",
    "print(f' Accuracy on test data: {testing_accuracy:.1f} %')\n",
    "print(classification_report(y_test,y_pred))"
   ]
  },
  {
   "cell_type": "markdown",
   "id": "33a0d72b-a979-4577-89d3-c472d976bd0c",
   "metadata": {},
   "source": [
    "## XGBoost"
   ]
  },
  {
   "cell_type": "code",
   "execution_count": 23,
   "id": "72e1d092-342f-4764-bfa6-5467c431eb0e",
   "metadata": {
    "tags": []
   },
   "outputs": [],
   "source": [
    "import xgboost as xgb"
   ]
  },
  {
   "cell_type": "code",
   "execution_count": 24,
   "id": "f1cb80e0-460e-42ea-8cae-0e69ab3afeb7",
   "metadata": {
    "tags": []
   },
   "outputs": [
    {
     "name": "stdout",
     "output_type": "stream",
     "text": [
      " Accuracy on test data: 68.2 %\n",
      "              precision    recall  f1-score   support\n",
      "\n",
      "           0       0.69      0.79      0.74       199\n",
      "           1       0.67      0.54      0.59       153\n",
      "\n",
      "    accuracy                           0.68       352\n",
      "   macro avg       0.68      0.66      0.67       352\n",
      "weighted avg       0.68      0.68      0.68       352\n",
      "\n"
     ]
    }
   ],
   "source": [
    "xgb_model = xgb.XGBClassifier(objective=\"binary:logistic\", random_state=42)\n",
    "xgb_model.fit(X_train,y_train)\n",
    "y_pred=xgb_model.predict(X_test)\n",
    "testing_accuracy = xgb_model.score(X_test, y_test) * 100\n",
    "models.append('XGBoost')\n",
    "accuracy.append(testing_accuracy)\n",
    "print(f' Accuracy on test data: {testing_accuracy:.1f} %')\n",
    "print(classification_report(y_test,y_pred))"
   ]
  },
  {
   "cell_type": "markdown",
   "id": "bbe3190b-55ab-4ead-888c-0c99a421f4e4",
   "metadata": {},
   "source": [
    "## Decision Trees"
   ]
  },
  {
   "cell_type": "code",
   "execution_count": 25,
   "id": "e7893bd9-19aa-4bd6-8fe6-f7c95a177d23",
   "metadata": {
    "tags": []
   },
   "outputs": [],
   "source": [
    "from sklearn.tree import DecisionTreeClassifier"
   ]
  },
  {
   "cell_type": "code",
   "execution_count": 26,
   "id": "f3b3c225-5b47-41d9-b443-197addc0910d",
   "metadata": {
    "tags": []
   },
   "outputs": [
    {
     "name": "stdout",
     "output_type": "stream",
     "text": [
      " Accuracy on test data: 64.2 %\n",
      "              precision    recall  f1-score   support\n",
      "\n",
      "           0       0.68      0.70      0.69       199\n",
      "           1       0.59      0.57      0.58       153\n",
      "\n",
      "    accuracy                           0.64       352\n",
      "   macro avg       0.63      0.63      0.63       352\n",
      "weighted avg       0.64      0.64      0.64       352\n",
      "\n"
     ]
    }
   ],
   "source": [
    "dt_model=DecisionTreeClassifier(random_state=42)\n",
    "dt_model.fit(X_train,y_train)\n",
    "y_pred=dt_model.predict(X_test)\n",
    "testing_accuracy = dt_model.score(X_test, y_test) * 100\n",
    "models.append('DecisionTree')\n",
    "accuracy.append(testing_accuracy)\n",
    "print(f' Accuracy on test data: {testing_accuracy:.1f} %')\n",
    "print(classification_report(y_test,y_pred))"
   ]
  },
  {
   "cell_type": "markdown",
   "id": "a3b40aac-bd9a-41f5-b987-56cc4f183453",
   "metadata": {},
   "source": [
    "## KNN"
   ]
  },
  {
   "cell_type": "code",
   "execution_count": 27,
   "id": "4e317418-1523-44c9-ad7c-8a324b8a9b1c",
   "metadata": {
    "tags": []
   },
   "outputs": [],
   "source": [
    "from sklearn.neighbors import KNeighborsClassifier"
   ]
  },
  {
   "cell_type": "code",
   "execution_count": 28,
   "id": "0df3f486-7fb2-4ad9-a360-510664ec8c17",
   "metadata": {
    "tags": []
   },
   "outputs": [
    {
     "name": "stdout",
     "output_type": "stream",
     "text": [
      " Accuracy on test data: 67.6 %\n",
      "              precision    recall  f1-score   support\n",
      "\n",
      "           0       0.67      0.83      0.74       199\n",
      "           1       0.68      0.48      0.56       153\n",
      "\n",
      "    accuracy                           0.68       352\n",
      "   macro avg       0.68      0.65      0.65       352\n",
      "weighted avg       0.68      0.68      0.66       352\n",
      "\n"
     ]
    }
   ],
   "source": [
    "knn_model = KNeighborsClassifier(n_neighbors=4)\n",
    "knn_model.fit(X_train,y_train)\n",
    "y_pred=knn_model.predict(X_test)\n",
    "testing_accuracy = knn_model.score(X_test, y_test) * 100\n",
    "models.append('KNN')\n",
    "accuracy.append(testing_accuracy)\n",
    "print(f' Accuracy on test data: {testing_accuracy:.1f} %')\n",
    "print(classification_report(y_test,y_pred))"
   ]
  },
  {
   "cell_type": "code",
   "execution_count": 29,
   "id": "0fb8d9b2-bd5c-4042-9626-3ae7ec9f8e76",
   "metadata": {
    "tags": []
   },
   "outputs": [],
   "source": [
    "import matplotlib.pyplot as plt"
   ]
  },
  {
   "cell_type": "code",
   "execution_count": 30,
   "id": "2132b778-ff95-46b8-9486-f4cb266eb756",
   "metadata": {
    "tags": []
   },
   "outputs": [
    {
     "data": {
      "image/png": "[encoded data removed]",
      "text/plain": [
       "<Figure size 1000x600 with 1 Axes>"
      ]
     },
     "metadata": {},
     "output_type": "display_data"
    }
   ],
   "source": [
    "plt.figure(figsize=(10, 6))\n",
    "plt.bar(models,accuracy,width=0.9)\n",
    "plt.xlabel('Models')\n",
    "plt.ylabel('Accuracy(%)')\n",
    "plt.ylim(50, 70)\n",
    "plt.tight_layout()\n",
    "plt.show()"
   ]
  },
  {
   "cell_type": "code",
   "execution_count": null,
   "id": "8b99e9c5-eff0-4f7d-abb2-5bc8c007e85d",
   "metadata": {},
   "outputs": [],
   "source": []
  }
 ],
 "metadata": {
  "kernelspec": {
   "display_name": "Python 3 (ipykernel)",
   "language": "python",
   "name": "python3"
  },
  "language_info": {
   "codemirror_mode": {
    "name": "ipython",
    "version": 3
   },
   "file_extension": ".py",
   "mimetype": "text/x-python",
   "name": "python",
   "nbconvert_exporter": "python",
   "pygments_lexer": "ipython3",
   "version": "3.11.5"
  }
 },
 "nbformat": 4,
 "nbformat_minor": 5
}
