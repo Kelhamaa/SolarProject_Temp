{
 "cells": [
  {
   "cell_type": "markdown",
   "id": "86df8d4a-00ec-4edd-acad-f96358ab4ff7",
   "metadata": {},
   "source": [
    "## retrieve data from material project"
   ]
  },
  {
   "cell_type": "code",
   "execution_count": 1,
   "id": "9d8038b3-258a-40f1-9b52-e2a787a59495",
   "metadata": {
    "tags": []
   },
   "outputs": [
    {
     "name": "stderr",
     "output_type": "stream",
     "text": [
      "C:\\Users\\YujuL\\anaconda3\\envs\\Group\\Lib\\site-packages\\tqdm\\auto.py:21: TqdmWarning: IProgress not found. Please update jupyter and ipywidgets. See https://ipywidgets.readthedocs.io/en/stable/user_install.html\n",
      "  from .autonotebook import tqdm as notebook_tqdm\n",
      "Retrieving SummaryDoc documents: 100%|██████████| 4555/4555 [00:08<00:00, 508.65it/s]\n"
     ]
    }
   ],
   "source": [
    "from mp_api.client import MPRester\n",
    "key=\"Z7NcMZxFm5LyvsQZk9k7sD8ZgMdQZstr\"\n",
    "\n",
    "with MPRester(key) as mpr:\n",
    "    data=mpr.materials.summary.search(formula='ABC3',fields=[\"structure\",\"material_id\",\"nelements\",\"formula_pretty\",\"formula_anonymous\",\"theoretical\",\"is_stable\", \"volume\", \"elements\",\"band_gap\",\"formation_energy\"])\n",
    "    "
   ]
  },
  {
   "cell_type": "markdown",
   "id": "2e9c2944-fdb2-4c9e-9575-c0dc7bb9f924",
   "metadata": {
    "tags": []
   },
   "source": [
    "## Feature Engineering"
   ]
  },
  {
   "cell_type": "code",
   "execution_count": 2,
   "id": "cafea810-bb89-4631-be21-331cd2ef1840",
   "metadata": {
    "tags": []
   },
   "outputs": [],
   "source": [
    "from matminer.featurizers.bandstructure import BranchPointEnergy\n",
    "from matminer.featurizers.bandstructure import BandFeaturizer\n",
    "from matminer.featurizers.structure import XRDPowderPattern\n",
    "from matminer.featurizers.conversions import StrToComposition\n",
    "\n",
    "import pandas as pd"
   ]
  },
  {
   "cell_type": "code",
   "execution_count": 3,
   "id": "40c3e4fd-76a7-413d-878a-e5f39a92ba1d",
   "metadata": {
    "tags": []
   },
   "outputs": [],
   "source": [
    "\n",
    "\n",
    "stable = []\n",
    "structures = []\n",
    "band_gaps = []\n",
    "theory = []\n",
    "ids = []\n",
    "formula=[]\n",
    "for sample in data:\n",
    "    stable.append(sample.is_stable)\n",
    "    structures.append(sample.structure)\n",
    "    band_gaps.append(sample.band_gap)\n",
    "    theory.append(sample.theoretical)\n",
    "    ids.append(sample.material_id)\n",
    "    formula.append(sample.formula_pretty)\n",
    "\n",
    "perov_df = pd.DataFrame(\n",
    "    {\"material ids\": ids,\n",
    "     \"structure\": structures,\n",
    "     \"band gaps\": band_gaps,\n",
    "     \"theoretical\": theory,\n",
    "     \"stable\": stable,\n",
    "     \"formula\":formula\n",
    "    })\n"
   ]
  },
  {
   "cell_type": "code",
   "execution_count": 4,
   "id": "171e04ac-1dc8-4fa3-b48b-57c1af91d183",
   "metadata": {},
   "outputs": [
    {
     "name": "stderr",
     "output_type": "stream",
     "text": [
      "\n",
      "A value is trying to be set on a copy of a slice from a DataFrame.\n",
      "Try using .loc[row_indexer,col_indexer] = value instead\n",
      "\n",
      "See the caveats in the documentation: https://pandas.pydata.org/pandas-docs/stable/user_guide/indexing.html#returning-a-view-versus-a-copy\n"
     ]
    }
   ],
   "source": [
    "real_perovs = perov_df[perov_df[\"theoretical\"]==False]\n",
    "real_perovs[\"stable\"] = real_perovs[\"stable\"].astype(int)"
   ]
  },
  {
   "cell_type": "code",
   "execution_count": 5,
   "id": "2f691693-5448-4eea-a3d9-f6114755fc41",
   "metadata": {
    "tags": []
   },
   "outputs": [
    {
     "name": "stderr",
     "output_type": "stream",
     "text": [
      "StrToComposition: 100%|██████████| 1759/1759 [00:13<00:00, 126.53it/s]\n"
     ]
    }
   ],
   "source": [
    "formula_df = StrToComposition().featurize_dataframe(real_perovs, \"formula\")"
   ]
  },
  {
   "cell_type": "code",
   "execution_count": 6,
   "id": "21859872-f274-4e11-a8ab-a473e6739898",
   "metadata": {
    "tags": []
   },
   "outputs": [
    {
     "data": {
      "text/html": [
       "<div>\n",
       "<style scoped>\n",
       "    .dataframe tbody tr th:only-of-type {\n",
       "        vertical-align: middle;\n",
       "    }\n",
       "\n",
       "    .dataframe tbody tr th {\n",
       "        vertical-align: top;\n",
       "    }\n",
       "\n",
       "    .dataframe thead th {\n",
       "        text-align: right;\n",
       "    }\n",
       "</style>\n",
       "<table border=\"1\" class=\"dataframe\">\n",
       "  <thead>\n",
       "    <tr style=\"text-align: right;\">\n",
       "      <th></th>\n",
       "      <th>material ids</th>\n",
       "      <th>structure</th>\n",
       "      <th>band gaps</th>\n",
       "      <th>theoretical</th>\n",
       "      <th>stable</th>\n",
       "      <th>formula</th>\n",
       "      <th>composition</th>\n",
       "    </tr>\n",
       "  </thead>\n",
       "  <tbody>\n",
       "    <tr>\n",
       "      <th>14</th>\n",
       "      <td>mp-1105645</td>\n",
       "      <td>[[7.48401876 2.10527392 7.43781975] Ag, [2.313...</td>\n",
       "      <td>0.2964</td>\n",
       "      <td>False</td>\n",
       "      <td>0</td>\n",
       "      <td>Ag3SBr</td>\n",
       "      <td>(Ag, S, Br)</td>\n",
       "    </tr>\n",
       "    <tr>\n",
       "      <th>18</th>\n",
       "      <td>mp-22995</td>\n",
       "      <td>[[ 1.94462322 -1.74755883  1.89344403] Ag, [1....</td>\n",
       "      <td>0.7261</td>\n",
       "      <td>False</td>\n",
       "      <td>0</td>\n",
       "      <td>Ag3SI</td>\n",
       "      <td>(Ag, S, I)</td>\n",
       "    </tr>\n",
       "    <tr>\n",
       "      <th>19</th>\n",
       "      <td>mp-558189</td>\n",
       "      <td>[[2.504793 2.504793 0.      ] Ag, [2.504793 0....</td>\n",
       "      <td>0.6243</td>\n",
       "      <td>False</td>\n",
       "      <td>0</td>\n",
       "      <td>Ag3SI</td>\n",
       "      <td>(Ag, S, I)</td>\n",
       "    </tr>\n",
       "    <tr>\n",
       "      <th>27</th>\n",
       "      <td>mp-558950</td>\n",
       "      <td>[[ 3.68937808  8.09573714 12.24244424] Ag, [0....</td>\n",
       "      <td>0.4985</td>\n",
       "      <td>False</td>\n",
       "      <td>0</td>\n",
       "      <td>AgAsO3</td>\n",
       "      <td>(Ag, As, O)</td>\n",
       "    </tr>\n",
       "    <tr>\n",
       "      <th>33</th>\n",
       "      <td>mp-23548</td>\n",
       "      <td>[[2.01581009 0.         0.62870294] Ag, [13.30...</td>\n",
       "      <td>0.0000</td>\n",
       "      <td>False</td>\n",
       "      <td>0</td>\n",
       "      <td>AgBiO3</td>\n",
       "      <td>(Ag, Bi, O)</td>\n",
       "    </tr>\n",
       "  </tbody>\n",
       "</table>\n",
       "</div>"
      ],
      "text/plain": [
       "   material ids                                          structure  band gaps  \\\n",
       "14   mp-1105645  [[7.48401876 2.10527392 7.43781975] Ag, [2.313...     0.2964   \n",
       "18     mp-22995  [[ 1.94462322 -1.74755883  1.89344403] Ag, [1....     0.7261   \n",
       "19    mp-558189  [[2.504793 2.504793 0.      ] Ag, [2.504793 0....     0.6243   \n",
       "27    mp-558950  [[ 3.68937808  8.09573714 12.24244424] Ag, [0....     0.4985   \n",
       "33     mp-23548  [[2.01581009 0.         0.62870294] Ag, [13.30...     0.0000   \n",
       "\n",
       "    theoretical  stable formula  composition  \n",
       "14        False       0  Ag3SBr  (Ag, S, Br)  \n",
       "18        False       0   Ag3SI   (Ag, S, I)  \n",
       "19        False       0   Ag3SI   (Ag, S, I)  \n",
       "27        False       0  AgAsO3  (Ag, As, O)  \n",
       "33        False       0  AgBiO3  (Ag, Bi, O)  "
      ]
     },
     "execution_count": 6,
     "metadata": {},
     "output_type": "execute_result"
    }
   ],
   "source": [
    "formula_df.head()"
   ]
  },
  {
   "cell_type": "code",
   "execution_count": 7,
   "id": "b071e552-bbcf-4c02-ae2c-dfa32d8d11a2",
   "metadata": {
    "tags": []
   },
   "outputs": [],
   "source": [
    "from matminer.featurizers.composition import ElementFraction"
   ]
  },
  {
   "cell_type": "code",
   "execution_count": 8,
   "id": "a59e097d-47b9-4edb-a0e8-a90f64d23dde",
   "metadata": {
    "tags": []
   },
   "outputs": [],
   "source": [
    "ef=ElementFraction()\n",
    "formula_df['element_fraction']=formula_df['composition'].apply(ef.featurize)"
   ]
  },
  {
   "cell_type": "code",
   "execution_count": 9,
   "id": "e3170fb3-25c8-4ae6-b0ca-5c3269639a36",
   "metadata": {
    "tags": []
   },
   "outputs": [
    {
     "data": {
      "text/html": [
       "<div>\n",
       "<style scoped>\n",
       "    .dataframe tbody tr th:only-of-type {\n",
       "        vertical-align: middle;\n",
       "    }\n",
       "\n",
       "    .dataframe tbody tr th {\n",
       "        vertical-align: top;\n",
       "    }\n",
       "\n",
       "    .dataframe thead th {\n",
       "        text-align: right;\n",
       "    }\n",
       "</style>\n",
       "<table border=\"1\" class=\"dataframe\">\n",
       "  <thead>\n",
       "    <tr style=\"text-align: right;\">\n",
       "      <th></th>\n",
       "      <th>material ids</th>\n",
       "      <th>structure</th>\n",
       "      <th>band gaps</th>\n",
       "      <th>theoretical</th>\n",
       "      <th>stable</th>\n",
       "      <th>formula</th>\n",
       "      <th>composition</th>\n",
       "      <th>element_fraction</th>\n",
       "    </tr>\n",
       "  </thead>\n",
       "  <tbody>\n",
       "    <tr>\n",
       "      <th>14</th>\n",
       "      <td>mp-1105645</td>\n",
       "      <td>[[7.48401876 2.10527392 7.43781975] Ag, [2.313...</td>\n",
       "      <td>0.2964</td>\n",
       "      <td>False</td>\n",
       "      <td>0</td>\n",
       "      <td>Ag3SBr</td>\n",
       "      <td>(Ag, S, Br)</td>\n",
       "      <td>[0, 0, 0, 0, 0, 0, 0, 0, 0, 0, 0, 0, 0, 0, 0, ...</td>\n",
       "    </tr>\n",
       "    <tr>\n",
       "      <th>18</th>\n",
       "      <td>mp-22995</td>\n",
       "      <td>[[ 1.94462322 -1.74755883  1.89344403] Ag, [1....</td>\n",
       "      <td>0.7261</td>\n",
       "      <td>False</td>\n",
       "      <td>0</td>\n",
       "      <td>Ag3SI</td>\n",
       "      <td>(Ag, S, I)</td>\n",
       "      <td>[0, 0, 0, 0, 0, 0, 0, 0, 0, 0, 0, 0, 0, 0, 0, ...</td>\n",
       "    </tr>\n",
       "    <tr>\n",
       "      <th>19</th>\n",
       "      <td>mp-558189</td>\n",
       "      <td>[[2.504793 2.504793 0.      ] Ag, [2.504793 0....</td>\n",
       "      <td>0.6243</td>\n",
       "      <td>False</td>\n",
       "      <td>0</td>\n",
       "      <td>Ag3SI</td>\n",
       "      <td>(Ag, S, I)</td>\n",
       "      <td>[0, 0, 0, 0, 0, 0, 0, 0, 0, 0, 0, 0, 0, 0, 0, ...</td>\n",
       "    </tr>\n",
       "    <tr>\n",
       "      <th>27</th>\n",
       "      <td>mp-558950</td>\n",
       "      <td>[[ 3.68937808  8.09573714 12.24244424] Ag, [0....</td>\n",
       "      <td>0.4985</td>\n",
       "      <td>False</td>\n",
       "      <td>0</td>\n",
       "      <td>AgAsO3</td>\n",
       "      <td>(Ag, As, O)</td>\n",
       "      <td>[0, 0, 0, 0, 0, 0, 0, 0.6, 0, 0, 0, 0, 0, 0, 0...</td>\n",
       "    </tr>\n",
       "    <tr>\n",
       "      <th>33</th>\n",
       "      <td>mp-23548</td>\n",
       "      <td>[[2.01581009 0.         0.62870294] Ag, [13.30...</td>\n",
       "      <td>0.0000</td>\n",
       "      <td>False</td>\n",
       "      <td>0</td>\n",
       "      <td>AgBiO3</td>\n",
       "      <td>(Ag, Bi, O)</td>\n",
       "      <td>[0, 0, 0, 0, 0, 0, 0, 0.6, 0, 0, 0, 0, 0, 0, 0...</td>\n",
       "    </tr>\n",
       "  </tbody>\n",
       "</table>\n",
       "</div>"
      ],
      "text/plain": [
       "   material ids                                          structure  band gaps  \\\n",
       "14   mp-1105645  [[7.48401876 2.10527392 7.43781975] Ag, [2.313...     0.2964   \n",
       "18     mp-22995  [[ 1.94462322 -1.74755883  1.89344403] Ag, [1....     0.7261   \n",
       "19    mp-558189  [[2.504793 2.504793 0.      ] Ag, [2.504793 0....     0.6243   \n",
       "27    mp-558950  [[ 3.68937808  8.09573714 12.24244424] Ag, [0....     0.4985   \n",
       "33     mp-23548  [[2.01581009 0.         0.62870294] Ag, [13.30...     0.0000   \n",
       "\n",
       "    theoretical  stable formula  composition  \\\n",
       "14        False       0  Ag3SBr  (Ag, S, Br)   \n",
       "18        False       0   Ag3SI   (Ag, S, I)   \n",
       "19        False       0   Ag3SI   (Ag, S, I)   \n",
       "27        False       0  AgAsO3  (Ag, As, O)   \n",
       "33        False       0  AgBiO3  (Ag, Bi, O)   \n",
       "\n",
       "                                     element_fraction  \n",
       "14  [0, 0, 0, 0, 0, 0, 0, 0, 0, 0, 0, 0, 0, 0, 0, ...  \n",
       "18  [0, 0, 0, 0, 0, 0, 0, 0, 0, 0, 0, 0, 0, 0, 0, ...  \n",
       "19  [0, 0, 0, 0, 0, 0, 0, 0, 0, 0, 0, 0, 0, 0, 0, ...  \n",
       "27  [0, 0, 0, 0, 0, 0, 0, 0.6, 0, 0, 0, 0, 0, 0, 0...  \n",
       "33  [0, 0, 0, 0, 0, 0, 0, 0.6, 0, 0, 0, 0, 0, 0, 0...  "
      ]
     },
     "execution_count": 9,
     "metadata": {},
     "output_type": "execute_result"
    }
   ],
   "source": [
    "formula_df.head()"
   ]
  },
  {
   "cell_type": "code",
   "execution_count": 10,
   "id": "5b9a33df-5855-409a-873f-6611de21f1f0",
   "metadata": {
    "tags": []
   },
   "outputs": [],
   "source": [
    "import numpy as np"
   ]
  },
  {
   "cell_type": "code",
   "execution_count": 11,
   "id": "23ee8398-a35e-4aad-9c44-ca3fc84b81f5",
   "metadata": {
    "tags": []
   },
   "outputs": [],
   "source": [
    "formula_df=formula_df[formula_df[\"band gaps\"]>1]"
   ]
  },
  {
   "cell_type": "code",
   "execution_count": 12,
   "id": "d4074894-cc08-46fb-b16c-5cc79cd5c92e",
   "metadata": {
    "tags": []
   },
   "outputs": [],
   "source": [
    "y = formula_df[\"band gaps\"]\n",
    "X = np.array(formula_df['element_fraction'])"
   ]
  },
  {
   "cell_type": "code",
   "execution_count": 13,
   "id": "26317e7c-9431-41b8-9aeb-35b123c2a90a",
   "metadata": {
    "tags": []
   },
   "outputs": [],
   "source": [
    "\n",
    "X_=[]\n",
    "for i in range(len(X)):\n",
    "    array=np.array(X[i])\n",
    "    X_.append(array)"
   ]
  },
  {
   "cell_type": "code",
   "execution_count": 14,
   "id": "f987bb14-e582-4e72-9132-56e0af957dc2",
   "metadata": {
    "tags": []
   },
   "outputs": [],
   "source": [
    "X=pd.DataFrame(X_)"
   ]
  },
  {
   "cell_type": "code",
   "execution_count": 15,
   "id": "ba4d47e7-6220-40a2-9054-38adb2c694fd",
   "metadata": {
    "tags": []
   },
   "outputs": [],
   "source": [
    "from sklearn.model_selection import train_test_split\n",
    "\n",
    "X_train,X_test,y_train,y_test=train_test_split(X,y,test_size=0.2,random_state=42)"
   ]
  },
  {
   "cell_type": "code",
   "execution_count": 16,
   "id": "fb59ff0c-fddb-4d88-bb42-848f667ba4f1",
   "metadata": {},
   "outputs": [],
   "source": [
    "models=[]\n",
    "accuracy=[]"
   ]
  },
  {
   "cell_type": "markdown",
   "id": "f5c491de-3e77-4241-9961-90a04a9f7f0e",
   "metadata": {
    "tags": []
   },
   "source": [
    "## SVR"
   ]
  },
  {
   "cell_type": "code",
   "execution_count": 17,
   "id": "c152defa-f570-4c8b-a9ca-8e74fc53c07e",
   "metadata": {
    "tags": []
   },
   "outputs": [],
   "source": [
    "from sklearn.svm import SVR"
   ]
  },
  {
   "cell_type": "code",
   "execution_count": 18,
   "id": "47688460-90ca-4f02-a776-69a03fb58125",
   "metadata": {
    "tags": []
   },
   "outputs": [],
   "source": [
    "svm = SVR()\n",
    "\n",
    "param_grid={'kernel':['linear','poly','rbf','sigmoid'],\n",
    "            'degree':[1,2,3,4,5],\n",
    "            'gamma':[0.05,0.1,0.2,0.5,0.7,1.2],\n",
    "            'C':[0.1,0.2,0.3,0.4,1],\n",
    "            'epsilon':[0.001,0.005,0.03,0.01,1]\n",
    "           }\n"
   ]
  },
  {
   "cell_type": "code",
   "execution_count": 19,
   "id": "355e0632-3f34-469d-b0c6-273df10d0dff",
   "metadata": {
    "tags": []
   },
   "outputs": [],
   "source": [
    "##RandomizedSearchCV to find the best parameter"
   ]
  },
  {
   "cell_type": "code",
   "execution_count": 20,
   "id": "58313a63-bba2-4a1d-8142-8e09e407d80b",
   "metadata": {
    "tags": []
   },
   "outputs": [],
   "source": [
    "from sklearn.model_selection import RandomizedSearchCV"
   ]
  },
  {
   "cell_type": "code",
   "execution_count": 21,
   "id": "340eb51d-9bca-4723-aade-7d898161793c",
   "metadata": {
    "tags": []
   },
   "outputs": [],
   "source": [
    "from sklearn.model_selection import GridSearchCV\n",
    "\n",
    "# rand_ser = GridSearchCV(estimator=svm,param_grid=param_grid,cv=10,verbose=2,n_jobs=-1)\n",
    "# rand_ser.fit(X_train,y_train)\n",
    "# print(f'best parameter:{rand_ser.best_params_}')\n",
    "# print(f'best score:{rand_ser.best_score_}')"
   ]
  },
  {
   "cell_type": "code",
   "execution_count": 22,
   "id": "afc13d34-8ff0-4261-8a68-b937701bd644",
   "metadata": {
    "tags": []
   },
   "outputs": [
    {
     "data": {
      "text/html": [
       "<style>#sk-container-id-1 {color: black;background-color: white;}#sk-container-id-1 pre{padding: 0;}#sk-container-id-1 div.sk-toggleable {background-color: white;}#sk-container-id-1 label.sk-toggleable__label {cursor: pointer;display: block;width: 100%;margin-bottom: 0;padding: 0.3em;box-sizing: border-box;text-align: center;}#sk-container-id-1 label.sk-toggleable__label-arrow:before {content: \"▸\";float: left;margin-right: 0.25em;color: #696969;}#sk-container-id-1 label.sk-toggleable__label-arrow:hover:before {color: black;}#sk-container-id-1 div.sk-estimator:hover label.sk-toggleable__label-arrow:before {color: black;}#sk-container-id-1 div.sk-toggleable__content {max-height: 0;max-width: 0;overflow: hidden;text-align: left;background-color: #f0f8ff;}#sk-container-id-1 div.sk-toggleable__content pre {margin: 0.2em;color: black;border-radius: 0.25em;background-color: #f0f8ff;}#sk-container-id-1 input.sk-toggleable__control:checked~div.sk-toggleable__content {max-height: 200px;max-width: 100%;overflow: auto;}#sk-container-id-1 input.sk-toggleable__control:checked~label.sk-toggleable__label-arrow:before {content: \"▾\";}#sk-container-id-1 div.sk-estimator input.sk-toggleable__control:checked~label.sk-toggleable__label {background-color: #d4ebff;}#sk-container-id-1 div.sk-label input.sk-toggleable__control:checked~label.sk-toggleable__label {background-color: #d4ebff;}#sk-container-id-1 input.sk-hidden--visually {border: 0;clip: rect(1px 1px 1px 1px);clip: rect(1px, 1px, 1px, 1px);height: 1px;margin: -1px;overflow: hidden;padding: 0;position: absolute;width: 1px;}#sk-container-id-1 div.sk-estimator {font-family: monospace;background-color: #f0f8ff;border: 1px dotted black;border-radius: 0.25em;box-sizing: border-box;margin-bottom: 0.5em;}#sk-container-id-1 div.sk-estimator:hover {background-color: #d4ebff;}#sk-container-id-1 div.sk-parallel-item::after {content: \"\";width: 100%;border-bottom: 1px solid gray;flex-grow: 1;}#sk-container-id-1 div.sk-label:hover label.sk-toggleable__label {background-color: #d4ebff;}#sk-container-id-1 div.sk-serial::before {content: \"\";position: absolute;border-left: 1px solid gray;box-sizing: border-box;top: 0;bottom: 0;left: 50%;z-index: 0;}#sk-container-id-1 div.sk-serial {display: flex;flex-direction: column;align-items: center;background-color: white;padding-right: 0.2em;padding-left: 0.2em;position: relative;}#sk-container-id-1 div.sk-item {position: relative;z-index: 1;}#sk-container-id-1 div.sk-parallel {display: flex;align-items: stretch;justify-content: center;background-color: white;position: relative;}#sk-container-id-1 div.sk-item::before, #sk-container-id-1 div.sk-parallel-item::before {content: \"\";position: absolute;border-left: 1px solid gray;box-sizing: border-box;top: 0;bottom: 0;left: 50%;z-index: -1;}#sk-container-id-1 div.sk-parallel-item {display: flex;flex-direction: column;z-index: 1;position: relative;background-color: white;}#sk-container-id-1 div.sk-parallel-item:first-child::after {align-self: flex-end;width: 50%;}#sk-container-id-1 div.sk-parallel-item:last-child::after {align-self: flex-start;width: 50%;}#sk-container-id-1 div.sk-parallel-item:only-child::after {width: 0;}#sk-container-id-1 div.sk-dashed-wrapped {border: 1px dashed gray;margin: 0 0.4em 0.5em 0.4em;box-sizing: border-box;padding-bottom: 0.4em;background-color: white;}#sk-container-id-1 div.sk-label label {font-family: monospace;font-weight: bold;display: inline-block;line-height: 1.2em;}#sk-container-id-1 div.sk-label-container {text-align: center;}#sk-container-id-1 div.sk-container {/* jupyter's `normalize.less` sets `[hidden] { display: none; }` but bootstrap.min.css set `[hidden] { display: none !important; }` so we also need the `!important` here to be able to override the default hidden behavior on the sphinx rendered scikit-learn.org. See: https://github.com/scikit-learn/scikit-learn/issues/21755 */display: inline-block !important;position: relative;}#sk-container-id-1 div.sk-text-repr-fallback {display: none;}</style><div id=\"sk-container-id-1\" class=\"sk-top-container\"><div class=\"sk-text-repr-fallback\"><pre>SVR()</pre><b>In a Jupyter environment, please rerun this cell to show the HTML representation or trust the notebook. <br />On GitHub, the HTML representation is unable to render, please try loading this page with nbviewer.org.</b></div><div class=\"sk-container\" hidden><div class=\"sk-item\"><div class=\"sk-estimator sk-toggleable\"><input class=\"sk-toggleable__control sk-hidden--visually\" id=\"sk-estimator-id-1\" type=\"checkbox\" checked><label for=\"sk-estimator-id-1\" class=\"sk-toggleable__label sk-toggleable__label-arrow\">SVR</label><div class=\"sk-toggleable__content\"><pre>SVR()</pre></div></div></div></div></div>"
      ],
      "text/plain": [
       "SVR()"
      ]
     },
     "execution_count": 22,
     "metadata": {},
     "output_type": "execute_result"
    }
   ],
   "source": [
    "#svm_model=rand_ser.best_estimator_\n",
    "svm_model=SVR()\n",
    "\n",
    "svm_model.fit(X_train,y_train)"
   ]
  },
  {
   "cell_type": "code",
   "execution_count": 23,
   "id": "bfc18d8f-3da2-4f26-a017-b30dc44123a1",
   "metadata": {
    "tags": []
   },
   "outputs": [],
   "source": [
    "from sklearn.metrics import mean_squared_error,r2_score"
   ]
  },
  {
   "cell_type": "code",
   "execution_count": 24,
   "id": "4339d9b0-310f-4dba-85eb-7f729c7db1f1",
   "metadata": {
    "tags": []
   },
   "outputs": [
    {
     "name": "stdout",
     "output_type": "stream",
     "text": [
      "Accuracy on test data: 45.8 %\n"
     ]
    }
   ],
   "source": [
    "y_pred = svm_model.predict(X_test)\n",
    "testing_accuracy = svm_model.score(X_test, y_test) * 100\n",
    "models.append('SVR')\n",
    "accuracy.append(testing_accuracy)\n",
    "print(f'Accuracy on test data: {testing_accuracy:.1f} %')\n"
   ]
  },
  {
   "cell_type": "code",
   "execution_count": 25,
   "id": "e82151f1-0aed-47c1-b907-c2d3c172d0bd",
   "metadata": {
    "tags": []
   },
   "outputs": [
    {
     "name": "stdout",
     "output_type": "stream",
     "text": [
      "RMSE:0.9566329629033633\n",
      "R2:0.4582913927062948\n"
     ]
    }
   ],
   "source": [
    "MSE=mean_squared_error(y_test,y_pred)\n",
    "RMSE=np.sqrt(MSE)\n",
    "R2=r2_score(y_test,y_pred)\n",
    "print('RMSE:'+ str(RMSE))\n",
    "print('R2:'+str(R2))"
   ]
  },
  {
   "cell_type": "markdown",
   "id": "c65200b3-e44d-4959-91ae-19b33dbef97f",
   "metadata": {},
   "source": [
    "### Random Forest"
   ]
  },
  {
   "cell_type": "code",
   "execution_count": 26,
   "id": "5825461e-7047-420e-b79e-88eeb6d6bd40",
   "metadata": {
    "tags": []
   },
   "outputs": [
    {
     "name": "stderr",
     "output_type": "stream",
     "text": [
      "`max_features='auto'` has been deprecated in 1.1 and will be removed in 1.3. To keep the past behaviour, explicitly set `max_features=1.0` or remove this parameter as it is also the default value for RandomForestRegressors and ExtraTreesRegressors.\n",
      "`max_features='auto'` has been deprecated in 1.1 and will be removed in 1.3. To keep the past behaviour, explicitly set `max_features=1.0` or remove this parameter as it is also the default value for RandomForestRegressors and ExtraTreesRegressors.\n",
      "`max_features='auto'` has been deprecated in 1.1 and will be removed in 1.3. To keep the past behaviour, explicitly set `max_features=1.0` or remove this parameter as it is also the default value for RandomForestRegressors and ExtraTreesRegressors.\n",
      "`max_features='auto'` has been deprecated in 1.1 and will be removed in 1.3. To keep the past behaviour, explicitly set `max_features=1.0` or remove this parameter as it is also the default value for RandomForestRegressors and ExtraTreesRegressors.\n",
      "`max_features='auto'` has been deprecated in 1.1 and will be removed in 1.3. To keep the past behaviour, explicitly set `max_features=1.0` or remove this parameter as it is also the default value for RandomForestRegressors and ExtraTreesRegressors.\n",
      "`max_features='auto'` has been deprecated in 1.1 and will be removed in 1.3. To keep the past behaviour, explicitly set `max_features=1.0` or remove this parameter as it is also the default value for RandomForestRegressors and ExtraTreesRegressors.\n",
      "`max_features='auto'` has been deprecated in 1.1 and will be removed in 1.3. To keep the past behaviour, explicitly set `max_features=1.0` or remove this parameter as it is also the default value for RandomForestRegressors and ExtraTreesRegressors.\n",
      "`max_features='auto'` has been deprecated in 1.1 and will be removed in 1.3. To keep the past behaviour, explicitly set `max_features=1.0` or remove this parameter as it is also the default value for RandomForestRegressors and ExtraTreesRegressors.\n",
      "`max_features='auto'` has been deprecated in 1.1 and will be removed in 1.3. To keep the past behaviour, explicitly set `max_features=1.0` or remove this parameter as it is also the default value for RandomForestRegressors and ExtraTreesRegressors.\n",
      "`max_features='auto'` has been deprecated in 1.1 and will be removed in 1.3. To keep the past behaviour, explicitly set `max_features=1.0` or remove this parameter as it is also the default value for RandomForestRegressors and ExtraTreesRegressors.\n",
      "`max_features='auto'` has been deprecated in 1.1 and will be removed in 1.3. To keep the past behaviour, explicitly set `max_features=1.0` or remove this parameter as it is also the default value for RandomForestRegressors and ExtraTreesRegressors.\n",
      "`max_features='auto'` has been deprecated in 1.1 and will be removed in 1.3. To keep the past behaviour, explicitly set `max_features=1.0` or remove this parameter as it is also the default value for RandomForestRegressors and ExtraTreesRegressors.\n",
      "`max_features='auto'` has been deprecated in 1.1 and will be removed in 1.3. To keep the past behaviour, explicitly set `max_features=1.0` or remove this parameter as it is also the default value for RandomForestRegressors and ExtraTreesRegressors.\n",
      "`max_features='auto'` has been deprecated in 1.1 and will be removed in 1.3. To keep the past behaviour, explicitly set `max_features=1.0` or remove this parameter as it is also the default value for RandomForestRegressors and ExtraTreesRegressors.\n",
      "`max_features='auto'` has been deprecated in 1.1 and will be removed in 1.3. To keep the past behaviour, explicitly set `max_features=1.0` or remove this parameter as it is also the default value for RandomForestRegressors and ExtraTreesRegressors.\n",
      "`max_features='auto'` has been deprecated in 1.1 and will be removed in 1.3. To keep the past behaviour, explicitly set `max_features=1.0` or remove this parameter as it is also the default value for RandomForestRegressors and ExtraTreesRegressors.\n",
      "`max_features='auto'` has been deprecated in 1.1 and will be removed in 1.3. To keep the past behaviour, explicitly set `max_features=1.0` or remove this parameter as it is also the default value for RandomForestRegressors and ExtraTreesRegressors.\n",
      "`max_features='auto'` has been deprecated in 1.1 and will be removed in 1.3. To keep the past behaviour, explicitly set `max_features=1.0` or remove this parameter as it is also the default value for RandomForestRegressors and ExtraTreesRegressors.\n",
      "`max_features='auto'` has been deprecated in 1.1 and will be removed in 1.3. To keep the past behaviour, explicitly set `max_features=1.0` or remove this parameter as it is also the default value for RandomForestRegressors and ExtraTreesRegressors.\n",
      "`max_features='auto'` has been deprecated in 1.1 and will be removed in 1.3. To keep the past behaviour, explicitly set `max_features=1.0` or remove this parameter as it is also the default value for RandomForestRegressors and ExtraTreesRegressors.\n",
      "`max_features='auto'` has been deprecated in 1.1 and will be removed in 1.3. To keep the past behaviour, explicitly set `max_features=1.0` or remove this parameter as it is also the default value for RandomForestRegressors and ExtraTreesRegressors.\n",
      "`max_features='auto'` has been deprecated in 1.1 and will be removed in 1.3. To keep the past behaviour, explicitly set `max_features=1.0` or remove this parameter as it is also the default value for RandomForestRegressors and ExtraTreesRegressors.\n",
      "`max_features='auto'` has been deprecated in 1.1 and will be removed in 1.3. To keep the past behaviour, explicitly set `max_features=1.0` or remove this parameter as it is also the default value for RandomForestRegressors and ExtraTreesRegressors.\n",
      "`max_features='auto'` has been deprecated in 1.1 and will be removed in 1.3. To keep the past behaviour, explicitly set `max_features=1.0` or remove this parameter as it is also the default value for RandomForestRegressors and ExtraTreesRegressors.\n",
      "`max_features='auto'` has been deprecated in 1.1 and will be removed in 1.3. To keep the past behaviour, explicitly set `max_features=1.0` or remove this parameter as it is also the default value for RandomForestRegressors and ExtraTreesRegressors.\n"
     ]
    },
    {
     "data": {
      "text/html": [
       "<style>#sk-container-id-2 {color: black;background-color: white;}#sk-container-id-2 pre{padding: 0;}#sk-container-id-2 div.sk-toggleable {background-color: white;}#sk-container-id-2 label.sk-toggleable__label {cursor: pointer;display: block;width: 100%;margin-bottom: 0;padding: 0.3em;box-sizing: border-box;text-align: center;}#sk-container-id-2 label.sk-toggleable__label-arrow:before {content: \"▸\";float: left;margin-right: 0.25em;color: #696969;}#sk-container-id-2 label.sk-toggleable__label-arrow:hover:before {color: black;}#sk-container-id-2 div.sk-estimator:hover label.sk-toggleable__label-arrow:before {color: black;}#sk-container-id-2 div.sk-toggleable__content {max-height: 0;max-width: 0;overflow: hidden;text-align: left;background-color: #f0f8ff;}#sk-container-id-2 div.sk-toggleable__content pre {margin: 0.2em;color: black;border-radius: 0.25em;background-color: #f0f8ff;}#sk-container-id-2 input.sk-toggleable__control:checked~div.sk-toggleable__content {max-height: 200px;max-width: 100%;overflow: auto;}#sk-container-id-2 input.sk-toggleable__control:checked~label.sk-toggleable__label-arrow:before {content: \"▾\";}#sk-container-id-2 div.sk-estimator input.sk-toggleable__control:checked~label.sk-toggleable__label {background-color: #d4ebff;}#sk-container-id-2 div.sk-label input.sk-toggleable__control:checked~label.sk-toggleable__label {background-color: #d4ebff;}#sk-container-id-2 input.sk-hidden--visually {border: 0;clip: rect(1px 1px 1px 1px);clip: rect(1px, 1px, 1px, 1px);height: 1px;margin: -1px;overflow: hidden;padding: 0;position: absolute;width: 1px;}#sk-container-id-2 div.sk-estimator {font-family: monospace;background-color: #f0f8ff;border: 1px dotted black;border-radius: 0.25em;box-sizing: border-box;margin-bottom: 0.5em;}#sk-container-id-2 div.sk-estimator:hover {background-color: #d4ebff;}#sk-container-id-2 div.sk-parallel-item::after {content: \"\";width: 100%;border-bottom: 1px solid gray;flex-grow: 1;}#sk-container-id-2 div.sk-label:hover label.sk-toggleable__label {background-color: #d4ebff;}#sk-container-id-2 div.sk-serial::before {content: \"\";position: absolute;border-left: 1px solid gray;box-sizing: border-box;top: 0;bottom: 0;left: 50%;z-index: 0;}#sk-container-id-2 div.sk-serial {display: flex;flex-direction: column;align-items: center;background-color: white;padding-right: 0.2em;padding-left: 0.2em;position: relative;}#sk-container-id-2 div.sk-item {position: relative;z-index: 1;}#sk-container-id-2 div.sk-parallel {display: flex;align-items: stretch;justify-content: center;background-color: white;position: relative;}#sk-container-id-2 div.sk-item::before, #sk-container-id-2 div.sk-parallel-item::before {content: \"\";position: absolute;border-left: 1px solid gray;box-sizing: border-box;top: 0;bottom: 0;left: 50%;z-index: -1;}#sk-container-id-2 div.sk-parallel-item {display: flex;flex-direction: column;z-index: 1;position: relative;background-color: white;}#sk-container-id-2 div.sk-parallel-item:first-child::after {align-self: flex-end;width: 50%;}#sk-container-id-2 div.sk-parallel-item:last-child::after {align-self: flex-start;width: 50%;}#sk-container-id-2 div.sk-parallel-item:only-child::after {width: 0;}#sk-container-id-2 div.sk-dashed-wrapped {border: 1px dashed gray;margin: 0 0.4em 0.5em 0.4em;box-sizing: border-box;padding-bottom: 0.4em;background-color: white;}#sk-container-id-2 div.sk-label label {font-family: monospace;font-weight: bold;display: inline-block;line-height: 1.2em;}#sk-container-id-2 div.sk-label-container {text-align: center;}#sk-container-id-2 div.sk-container {/* jupyter's `normalize.less` sets `[hidden] { display: none; }` but bootstrap.min.css set `[hidden] { display: none !important; }` so we also need the `!important` here to be able to override the default hidden behavior on the sphinx rendered scikit-learn.org. See: https://github.com/scikit-learn/scikit-learn/issues/21755 */display: inline-block !important;position: relative;}#sk-container-id-2 div.sk-text-repr-fallback {display: none;}</style><div id=\"sk-container-id-2\" class=\"sk-top-container\"><div class=\"sk-text-repr-fallback\"><pre>RandomizedSearchCV(estimator=RandomForestRegressor(),\n",
       "                   param_distributions={&#x27;bootstrap&#x27;: [True],\n",
       "                                        &#x27;max_depth&#x27;: [10, 55, 100],\n",
       "                                        &#x27;max_features&#x27;: [&#x27;auto&#x27;, &#x27;sqrt&#x27;],\n",
       "                                        &#x27;min_samples_leaf&#x27;: [1, 2],\n",
       "                                        &#x27;min_samples_split&#x27;: [2, 5],\n",
       "                                        &#x27;n_estimators&#x27;: [100, 550, 1000]})</pre><b>In a Jupyter environment, please rerun this cell to show the HTML representation or trust the notebook. <br />On GitHub, the HTML representation is unable to render, please try loading this page with nbviewer.org.</b></div><div class=\"sk-container\" hidden><div class=\"sk-item sk-dashed-wrapped\"><div class=\"sk-label-container\"><div class=\"sk-label sk-toggleable\"><input class=\"sk-toggleable__control sk-hidden--visually\" id=\"sk-estimator-id-2\" type=\"checkbox\" ><label for=\"sk-estimator-id-2\" class=\"sk-toggleable__label sk-toggleable__label-arrow\">RandomizedSearchCV</label><div class=\"sk-toggleable__content\"><pre>RandomizedSearchCV(estimator=RandomForestRegressor(),\n",
       "                   param_distributions={&#x27;bootstrap&#x27;: [True],\n",
       "                                        &#x27;max_depth&#x27;: [10, 55, 100],\n",
       "                                        &#x27;max_features&#x27;: [&#x27;auto&#x27;, &#x27;sqrt&#x27;],\n",
       "                                        &#x27;min_samples_leaf&#x27;: [1, 2],\n",
       "                                        &#x27;min_samples_split&#x27;: [2, 5],\n",
       "                                        &#x27;n_estimators&#x27;: [100, 550, 1000]})</pre></div></div></div><div class=\"sk-parallel\"><div class=\"sk-parallel-item\"><div class=\"sk-item\"><div class=\"sk-label-container\"><div class=\"sk-label sk-toggleable\"><input class=\"sk-toggleable__control sk-hidden--visually\" id=\"sk-estimator-id-3\" type=\"checkbox\" ><label for=\"sk-estimator-id-3\" class=\"sk-toggleable__label sk-toggleable__label-arrow\">estimator: RandomForestRegressor</label><div class=\"sk-toggleable__content\"><pre>RandomForestRegressor()</pre></div></div></div><div class=\"sk-serial\"><div class=\"sk-item\"><div class=\"sk-estimator sk-toggleable\"><input class=\"sk-toggleable__control sk-hidden--visually\" id=\"sk-estimator-id-4\" type=\"checkbox\" ><label for=\"sk-estimator-id-4\" class=\"sk-toggleable__label sk-toggleable__label-arrow\">RandomForestRegressor</label><div class=\"sk-toggleable__content\"><pre>RandomForestRegressor()</pre></div></div></div></div></div></div></div></div></div></div>"
      ],
      "text/plain": [
       "RandomizedSearchCV(estimator=RandomForestRegressor(),\n",
       "                   param_distributions={'bootstrap': [True],\n",
       "                                        'max_depth': [10, 55, 100],\n",
       "                                        'max_features': ['auto', 'sqrt'],\n",
       "                                        'min_samples_leaf': [1, 2],\n",
       "                                        'min_samples_split': [2, 5],\n",
       "                                        'n_estimators': [100, 550, 1000]})"
      ]
     },
     "execution_count": 26,
     "metadata": {},
     "output_type": "execute_result"
    }
   ],
   "source": [
    "from sklearn.ensemble import RandomForestRegressor\n",
    "rf=RandomForestRegressor()\n",
    "\n",
    "grid_param={'n_estimators':[int(x) for x in np.linspace(start=100,stop=1000,num=3)],\n",
    "           'max_features':['auto','sqrt'],\n",
    "           'max_depth':[int(x) for x in np.linspace(start=10,stop=100,num=3)],\n",
    "            'min_samples_split':[2,5],\n",
    "            'min_samples_leaf':[1,2],\n",
    "            'bootstrap':[True]\n",
    "           }\n",
    "\n",
    "rand_ser = RandomizedSearchCV(estimator=rf,param_distributions=grid_param,n_iter=10,)\n",
    "rand_ser.fit(X_train,y_train)"
   ]
  },
  {
   "cell_type": "code",
   "execution_count": 27,
   "id": "7cd7785c-6a05-4ce2-b1f1-7dfa1bec87b7",
   "metadata": {
    "tags": []
   },
   "outputs": [
    {
     "name": "stdout",
     "output_type": "stream",
     "text": [
      "best parameter:{'n_estimators': 100, 'min_samples_split': 2, 'min_samples_leaf': 1, 'max_features': 'sqrt', 'max_depth': 55, 'bootstrap': True}\n",
      "best score:0.6824325231309952\n"
     ]
    }
   ],
   "source": [
    "print(f'best parameter:{rand_ser.best_params_}')\n",
    "print(f'best score:{rand_ser.best_score_}')"
   ]
  },
  {
   "cell_type": "code",
   "execution_count": 28,
   "id": "c122b5af-545d-4787-908d-98ae84238a27",
   "metadata": {
    "tags": []
   },
   "outputs": [],
   "source": [
    "rf_model=rand_ser.best_estimator_"
   ]
  },
  {
   "cell_type": "code",
   "execution_count": 29,
   "id": "04b7b31d-1a08-405c-83b0-c207c1ff22da",
   "metadata": {
    "tags": []
   },
   "outputs": [
    {
     "name": "stdout",
     "output_type": "stream",
     "text": [
      " Accuracy on test data: 57.4 %\n"
     ]
    }
   ],
   "source": [
    "\n",
    "y_pred=rf_model.predict(X_test)\n",
    "testing_accuracy = rf_model.score(X_test, y_test) * 100\n",
    "models.append('Randomforest')\n",
    "accuracy.append(testing_accuracy)\n",
    "print(f' Accuracy on test data: {testing_accuracy:.1f} %')\n"
   ]
  },
  {
   "cell_type": "code",
   "execution_count": 30,
   "id": "c6503265-84cf-40d3-99e0-04c408c0d9d1",
   "metadata": {
    "tags": []
   },
   "outputs": [
    {
     "name": "stdout",
     "output_type": "stream",
     "text": [
      "RMSE:0.8485542868457329\n",
      "R2:0.5737795167603139\n"
     ]
    }
   ],
   "source": [
    "MSE=mean_squared_error(y_test,y_pred)\n",
    "RMSE=np.sqrt(MSE)\n",
    "R2=r2_score(y_test,y_pred)\n",
    "print('RMSE:'+ str(RMSE))\n",
    "print('R2:'+str(R2))"
   ]
  },
  {
   "cell_type": "code",
   "execution_count": 32,
   "id": "e766e4fd-20ec-494a-b3e3-675554865659",
   "metadata": {
    "tags": []
   },
   "outputs": [
    {
     "data": {
      "image/png": "[encoded data removed]",
      "text/plain": [
       "<Figure size 2000x1000 with 1 Axes>"
      ]
     },
     "metadata": {},
     "output_type": "display_data"
    }
   ],
   "source": [
    "import matplotlib.pyplot as plt\n",
    "\n",
    "xPlot=y_test\n",
    "yPlot=y_pred\n",
    "plt.figure(figsize=(20,10))\n",
    "plt.plot(xPlot,yPlot,'ro')\n",
    "plt.plot(xPlot,xPlot)\n",
    "plt.xlabel('DFT')\n",
    "plt.ylabel('RF')\n",
    "plt.savefig('RF-Correlation_Test',bbox_inches='tight')"
   ]
  },
  {
   "cell_type": "markdown",
   "id": "3f511d60-ac4f-46fd-bd06-a5f254de4944",
   "metadata": {},
   "source": [
    "## LinearRegression"
   ]
  },
  {
   "cell_type": "code",
   "execution_count": 33,
   "id": "f0618400-4a55-4168-9651-45766979309b",
   "metadata": {
    "tags": []
   },
   "outputs": [
    {
     "name": "stdout",
     "output_type": "stream",
     "text": [
      " Accuracy on test data: -41797844368265988999741440.0 %\n"
     ]
    }
   ],
   "source": [
    "from sklearn.linear_model import LinearRegression\n",
    "\n",
    "lr_model=LinearRegression()\n",
    "lr_model.fit(X_train, y_train)\n",
    "y_pred=lr_model.predict(X_test)\n",
    "testing_accuracy = lr_model.score(X_test, y_test) * 100\n",
    "models.append('LinearRegression')\n",
    "accuracy.append(testing_accuracy)\n",
    "print(f' Accuracy on test data: {testing_accuracy:.1f} %')\n"
   ]
  },
  {
   "cell_type": "code",
   "execution_count": 34,
   "id": "6b22bee7-72b2-40c0-af3d-2b1336299dd1",
   "metadata": {
    "tags": []
   },
   "outputs": [
    {
     "name": "stdout",
     "output_type": "stream",
     "text": [
      "RMSE:840309774990.2787\n",
      "R2:-4.179784436826599e+23\n"
     ]
    }
   ],
   "source": [
    "MSE=mean_squared_error(y_test,y_pred)\n",
    "RMSE=np.sqrt(MSE)\n",
    "R2=r2_score(y_test,y_pred)\n",
    "print('RMSE:'+ str(RMSE))\n",
    "print('R2:'+str(R2))"
   ]
  },
  {
   "cell_type": "markdown",
   "id": "170a1524-e5d5-4eb4-b0d3-fc79610b46d7",
   "metadata": {
    "tags": []
   },
   "source": [
    "## MLP"
   ]
  },
  {
   "cell_type": "code",
   "execution_count": 35,
   "id": "47210fcb-8ae4-4833-8352-4fd3c3eed94a",
   "metadata": {
    "tags": []
   },
   "outputs": [],
   "source": [
    "from sklearn.neural_network import MLPRegressor"
   ]
  },
  {
   "cell_type": "code",
   "execution_count": 36,
   "id": "7095bd40-3e39-4d1f-9a38-cd9fdd316a4f",
   "metadata": {
    "tags": []
   },
   "outputs": [],
   "source": [
    "grid_param={'hidden_layer_sizes':[(),(),()],\n",
    "           'solver':['sgd','lbfgs','adam'],\n",
    "           'max_iter':[25,30,50,100],\n",
    "            'alpha':[0.0001,0.001,0.01],\n",
    "            'verbose':[True]\n",
    "           }"
   ]
  },
  {
   "cell_type": "code",
   "execution_count": 37,
   "id": "c96747dc-4149-4a08-bcb7-4e6025eb5cec",
   "metadata": {
    "tags": []
   },
   "outputs": [],
   "source": [
    "mlp=MLPRegressor(random_state=42)"
   ]
  },
  {
   "cell_type": "code",
   "execution_count": 38,
   "id": "06cdad34-7612-4e1f-87a4-72e282806c56",
   "metadata": {
    "tags": []
   },
   "outputs": [
    {
     "name": "stdout",
     "output_type": "stream",
     "text": [
      "Fitting 10 folds for each of 108 candidates, totalling 1080 fits\n"
     ]
    },
    {
     "data": {
      "text/html": [
       "<style>#sk-container-id-3 {color: black;background-color: white;}#sk-container-id-3 pre{padding: 0;}#sk-container-id-3 div.sk-toggleable {background-color: white;}#sk-container-id-3 label.sk-toggleable__label {cursor: pointer;display: block;width: 100%;margin-bottom: 0;padding: 0.3em;box-sizing: border-box;text-align: center;}#sk-container-id-3 label.sk-toggleable__label-arrow:before {content: \"▸\";float: left;margin-right: 0.25em;color: #696969;}#sk-container-id-3 label.sk-toggleable__label-arrow:hover:before {color: black;}#sk-container-id-3 div.sk-estimator:hover label.sk-toggleable__label-arrow:before {color: black;}#sk-container-id-3 div.sk-toggleable__content {max-height: 0;max-width: 0;overflow: hidden;text-align: left;background-color: #f0f8ff;}#sk-container-id-3 div.sk-toggleable__content pre {margin: 0.2em;color: black;border-radius: 0.25em;background-color: #f0f8ff;}#sk-container-id-3 input.sk-toggleable__control:checked~div.sk-toggleable__content {max-height: 200px;max-width: 100%;overflow: auto;}#sk-container-id-3 input.sk-toggleable__control:checked~label.sk-toggleable__label-arrow:before {content: \"▾\";}#sk-container-id-3 div.sk-estimator input.sk-toggleable__control:checked~label.sk-toggleable__label {background-color: #d4ebff;}#sk-container-id-3 div.sk-label input.sk-toggleable__control:checked~label.sk-toggleable__label {background-color: #d4ebff;}#sk-container-id-3 input.sk-hidden--visually {border: 0;clip: rect(1px 1px 1px 1px);clip: rect(1px, 1px, 1px, 1px);height: 1px;margin: -1px;overflow: hidden;padding: 0;position: absolute;width: 1px;}#sk-container-id-3 div.sk-estimator {font-family: monospace;background-color: #f0f8ff;border: 1px dotted black;border-radius: 0.25em;box-sizing: border-box;margin-bottom: 0.5em;}#sk-container-id-3 div.sk-estimator:hover {background-color: #d4ebff;}#sk-container-id-3 div.sk-parallel-item::after {content: \"\";width: 100%;border-bottom: 1px solid gray;flex-grow: 1;}#sk-container-id-3 div.sk-label:hover label.sk-toggleable__label {background-color: #d4ebff;}#sk-container-id-3 div.sk-serial::before {content: \"\";position: absolute;border-left: 1px solid gray;box-sizing: border-box;top: 0;bottom: 0;left: 50%;z-index: 0;}#sk-container-id-3 div.sk-serial {display: flex;flex-direction: column;align-items: center;background-color: white;padding-right: 0.2em;padding-left: 0.2em;position: relative;}#sk-container-id-3 div.sk-item {position: relative;z-index: 1;}#sk-container-id-3 div.sk-parallel {display: flex;align-items: stretch;justify-content: center;background-color: white;position: relative;}#sk-container-id-3 div.sk-item::before, #sk-container-id-3 div.sk-parallel-item::before {content: \"\";position: absolute;border-left: 1px solid gray;box-sizing: border-box;top: 0;bottom: 0;left: 50%;z-index: -1;}#sk-container-id-3 div.sk-parallel-item {display: flex;flex-direction: column;z-index: 1;position: relative;background-color: white;}#sk-container-id-3 div.sk-parallel-item:first-child::after {align-self: flex-end;width: 50%;}#sk-container-id-3 div.sk-parallel-item:last-child::after {align-self: flex-start;width: 50%;}#sk-container-id-3 div.sk-parallel-item:only-child::after {width: 0;}#sk-container-id-3 div.sk-dashed-wrapped {border: 1px dashed gray;margin: 0 0.4em 0.5em 0.4em;box-sizing: border-box;padding-bottom: 0.4em;background-color: white;}#sk-container-id-3 div.sk-label label {font-family: monospace;font-weight: bold;display: inline-block;line-height: 1.2em;}#sk-container-id-3 div.sk-label-container {text-align: center;}#sk-container-id-3 div.sk-container {/* jupyter's `normalize.less` sets `[hidden] { display: none; }` but bootstrap.min.css set `[hidden] { display: none !important; }` so we also need the `!important` here to be able to override the default hidden behavior on the sphinx rendered scikit-learn.org. See: https://github.com/scikit-learn/scikit-learn/issues/21755 */display: inline-block !important;position: relative;}#sk-container-id-3 div.sk-text-repr-fallback {display: none;}</style><div id=\"sk-container-id-3\" class=\"sk-top-container\"><div class=\"sk-text-repr-fallback\"><pre>GridSearchCV(cv=10, estimator=MLPRegressor(random_state=42), n_jobs=-1,\n",
       "             param_grid={&#x27;alpha&#x27;: [0.0001, 0.001, 0.01],\n",
       "                         &#x27;hidden_layer_sizes&#x27;: [(), (), ()],\n",
       "                         &#x27;max_iter&#x27;: [25, 30, 50, 100],\n",
       "                         &#x27;solver&#x27;: [&#x27;sgd&#x27;, &#x27;lbfgs&#x27;, &#x27;adam&#x27;],\n",
       "                         &#x27;verbose&#x27;: [True]},\n",
       "             verbose=2)</pre><b>In a Jupyter environment, please rerun this cell to show the HTML representation or trust the notebook. <br />On GitHub, the HTML representation is unable to render, please try loading this page with nbviewer.org.</b></div><div class=\"sk-container\" hidden><div class=\"sk-item sk-dashed-wrapped\"><div class=\"sk-label-container\"><div class=\"sk-label sk-toggleable\"><input class=\"sk-toggleable__control sk-hidden--visually\" id=\"sk-estimator-id-5\" type=\"checkbox\" ><label for=\"sk-estimator-id-5\" class=\"sk-toggleable__label sk-toggleable__label-arrow\">GridSearchCV</label><div class=\"sk-toggleable__content\"><pre>GridSearchCV(cv=10, estimator=MLPRegressor(random_state=42), n_jobs=-1,\n",
       "             param_grid={&#x27;alpha&#x27;: [0.0001, 0.001, 0.01],\n",
       "                         &#x27;hidden_layer_sizes&#x27;: [(), (), ()],\n",
       "                         &#x27;max_iter&#x27;: [25, 30, 50, 100],\n",
       "                         &#x27;solver&#x27;: [&#x27;sgd&#x27;, &#x27;lbfgs&#x27;, &#x27;adam&#x27;],\n",
       "                         &#x27;verbose&#x27;: [True]},\n",
       "             verbose=2)</pre></div></div></div><div class=\"sk-parallel\"><div class=\"sk-parallel-item\"><div class=\"sk-item\"><div class=\"sk-label-container\"><div class=\"sk-label sk-toggleable\"><input class=\"sk-toggleable__control sk-hidden--visually\" id=\"sk-estimator-id-6\" type=\"checkbox\" ><label for=\"sk-estimator-id-6\" class=\"sk-toggleable__label sk-toggleable__label-arrow\">estimator: MLPRegressor</label><div class=\"sk-toggleable__content\"><pre>MLPRegressor(random_state=42)</pre></div></div></div><div class=\"sk-serial\"><div class=\"sk-item\"><div class=\"sk-estimator sk-toggleable\"><input class=\"sk-toggleable__control sk-hidden--visually\" id=\"sk-estimator-id-7\" type=\"checkbox\" ><label for=\"sk-estimator-id-7\" class=\"sk-toggleable__label sk-toggleable__label-arrow\">MLPRegressor</label><div class=\"sk-toggleable__content\"><pre>MLPRegressor(random_state=42)</pre></div></div></div></div></div></div></div></div></div></div>"
      ],
      "text/plain": [
       "GridSearchCV(cv=10, estimator=MLPRegressor(random_state=42), n_jobs=-1,\n",
       "             param_grid={'alpha': [0.0001, 0.001, 0.01],\n",
       "                         'hidden_layer_sizes': [(), (), ()],\n",
       "                         'max_iter': [25, 30, 50, 100],\n",
       "                         'solver': ['sgd', 'lbfgs', 'adam'],\n",
       "                         'verbose': [True]},\n",
       "             verbose=2)"
      ]
     },
     "execution_count": 38,
     "metadata": {},
     "output_type": "execute_result"
    }
   ],
   "source": [
    "rand_ser = GridSearchCV(mlp,grid_param,n_jobs=-1,cv=10,verbose=2)\n",
    "rand_ser.fit(X_train,y_train)"
   ]
  },
  {
   "cell_type": "code",
   "execution_count": 39,
   "id": "640193c6-e1d3-4187-a00d-d9d07e4ca2d6",
   "metadata": {
    "tags": []
   },
   "outputs": [
    {
     "name": "stdout",
     "output_type": "stream",
     "text": [
      "best parameter:{'alpha': 0.01, 'hidden_layer_sizes': (), 'max_iter': 100, 'solver': 'lbfgs', 'verbose': True}\n",
      "best score:0.563018077214277\n"
     ]
    }
   ],
   "source": [
    "print(f'best parameter:{rand_ser.best_params_}')\n",
    "print(f'best score:{rand_ser.best_score_}')"
   ]
  },
  {
   "cell_type": "code",
   "execution_count": 40,
   "id": "6cdf6866-2c6e-4120-9677-fc15c5a522d3",
   "metadata": {
    "tags": []
   },
   "outputs": [],
   "source": [
    "mlp_model=rand_ser.best_estimator_"
   ]
  },
  {
   "cell_type": "code",
   "execution_count": 41,
   "id": "1e672f53-163a-4601-9742-2ab2775f8173",
   "metadata": {
    "tags": []
   },
   "outputs": [
    {
     "name": "stdout",
     "output_type": "stream",
     "text": [
      " Accuracy on test data: 54.1 %\n"
     ]
    }
   ],
   "source": [
    "y_pred=mlp_model.predict(X_test)\n",
    "testing_accuracy = mlp_model.score(X_test, y_test) * 100\n",
    "models.append('Randomforest')\n",
    "accuracy.append(testing_accuracy)\n",
    "print(f' Accuracy on test data: {testing_accuracy:.1f} %')\n"
   ]
  },
  {
   "cell_type": "code",
   "execution_count": 42,
   "id": "cfba9fa0-abed-4001-83a0-db765d956219",
   "metadata": {
    "tags": []
   },
   "outputs": [
    {
     "name": "stdout",
     "output_type": "stream",
     "text": [
      "RMSE:0.8802707915753565\n",
      "R2:0.5413222886471056\n"
     ]
    }
   ],
   "source": [
    "MSE=mean_squared_error(y_test,y_pred)\n",
    "RMSE=np.sqrt(MSE)\n",
    "R2=r2_score(y_test,y_pred)\n",
    "print('RMSE:'+ str(RMSE))\n",
    "print('R2:'+str(R2))"
   ]
  },
  {
   "cell_type": "markdown",
   "id": "33a0d72b-a979-4577-89d3-c472d976bd0c",
   "metadata": {},
   "source": [
    "## XGBoost"
   ]
  },
  {
   "cell_type": "code",
   "execution_count": 43,
   "id": "72e1d092-342f-4764-bfa6-5467c431eb0e",
   "metadata": {
    "tags": []
   },
   "outputs": [],
   "source": [
    "from xgboost import XGBRegressor"
   ]
  },
  {
   "cell_type": "code",
   "execution_count": 44,
   "id": "f1cb80e0-460e-42ea-8cae-0e69ab3afeb7",
   "metadata": {
    "tags": []
   },
   "outputs": [
    {
     "name": "stdout",
     "output_type": "stream",
     "text": [
      " Accuracy on test data: 64.0 %\n"
     ]
    }
   ],
   "source": [
    "xgb_model = XGBRegressor()\n",
    "\n",
    "xgb_model.fit(X_train,y_train)\n",
    "y_pred=xgb_model.predict(X_test)\n",
    "testing_accuracy = xgb_model.score(X_test, y_test) * 100\n",
    "models.append('XGBoost')\n",
    "accuracy.append(testing_accuracy)\n",
    "print(f' Accuracy on test data: {testing_accuracy:.1f} %')\n"
   ]
  },
  {
   "cell_type": "code",
   "execution_count": 45,
   "id": "99a10dcc-c4ae-4e1e-9b76-4d297d4d8a19",
   "metadata": {
    "tags": []
   },
   "outputs": [
    {
     "data": {
      "image/png": "[encoded data removed]",
      "text/plain": [
       "<Figure size 2000x1000 with 1 Axes>"
      ]
     },
     "metadata": {},
     "output_type": "display_data"
    }
   ],
   "source": [
    "\n",
    "xPlot=y_test\n",
    "yPlot=y_pred\n",
    "plt.figure(figsize=(20,10))\n",
    "plt.plot(xPlot,yPlot,'ro')\n",
    "plt.plot(xPlot,xPlot)\n",
    "plt.xlabel('DFT')\n",
    "plt.ylabel('RF')\n",
    "plt.savefig('RF-Correlation_Test',bbox_inches='tight')"
   ]
  },
  {
   "cell_type": "markdown",
   "id": "a3b40aac-bd9a-41f5-b987-56cc4f183453",
   "metadata": {},
   "source": [
    "## KNN"
   ]
  },
  {
   "cell_type": "code",
   "execution_count": 46,
   "id": "4e317418-1523-44c9-ad7c-8a324b8a9b1c",
   "metadata": {
    "tags": []
   },
   "outputs": [],
   "source": [
    "from sklearn.neighbors import KNeighborsRegressor"
   ]
  },
  {
   "cell_type": "code",
   "execution_count": 47,
   "id": "0df3f486-7fb2-4ad9-a360-510664ec8c17",
   "metadata": {
    "tags": []
   },
   "outputs": [
    {
     "name": "stdout",
     "output_type": "stream",
     "text": [
      " Accuracy on test data: 38.3 %\n"
     ]
    }
   ],
   "source": [
    "knn_model = KNeighborsRegressor()\n",
    "knn_model.fit(X_train,y_train)\n",
    "y_pred=knn_model.predict(X_test)\n",
    "testing_accuracy = knn_model.score(X_test, y_test) * 100\n",
    "models.append('KNN')\n",
    "accuracy.append(testing_accuracy)\n",
    "print(f' Accuracy on test data: {testing_accuracy:.1f} %')\n"
   ]
  },
  {
   "cell_type": "code",
   "execution_count": 48,
   "id": "0fb8d9b2-bd5c-4042-9626-3ae7ec9f8e76",
   "metadata": {
    "tags": []
   },
   "outputs": [],
   "source": [
    "import matplotlib.pyplot as plt"
   ]
  },
  {
   "cell_type": "code",
   "execution_count": 49,
   "id": "8b99e9c5-eff0-4f7d-abb2-5bc8c007e85d",
   "metadata": {},
   "outputs": [
    {
     "data": {
      "image/png": "[encoded data removed]",
      "text/plain": [
       "<Figure size 1000x600 with 1 Axes>"
      ]
     },
     "metadata": {},
     "output_type": "display_data"
    }
   ],
   "source": [
    "plt.figure(figsize=(10, 6))\n",
    "plt.bar(models,accuracy,width=0.9)\n",
    "plt.xlabel('Models')\n",
    "plt.ylabel('Accuracy(%)')\n",
    "plt.ylim(10, 70)\n",
    "plt.tight_layout()\n",
    "plt.show()"
   ]
  },
  {
   "cell_type": "code",
   "execution_count": null,
   "id": "cfecf588-3c80-4e70-b05e-6d0d9fe2b281",
   "metadata": {},
   "outputs": [],
   "source": []
  }
 ],
 "metadata": {
  "kernelspec": {
   "display_name": "Python 3 (ipykernel)",
   "language": "python",
   "name": "python3"
  },
  "language_info": {
   "codemirror_mode": {
    "name": "ipython",
    "version": 3
   },
   "file_extension": ".py",
   "mimetype": "text/x-python",
   "name": "python",
   "nbconvert_exporter": "python",
   "pygments_lexer": "ipython3",
   "version": "3.11.5"
  }
 },
 "nbformat": 4,
 "nbformat_minor": 5
}
