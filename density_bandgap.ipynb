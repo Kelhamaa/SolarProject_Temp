{
 "cells": [
  {
   "cell_type": "markdown",
   "id": "86df8d4a-00ec-4edd-acad-f96358ab4ff7",
   "metadata": {},
   "source": [
    "## retrieve data from material project"
   ]
  },
  {
   "cell_type": "code",
   "execution_count": 1,
   "id": "9d8038b3-258a-40f1-9b52-e2a787a59495",
   "metadata": {
    "tags": []
   },
   "outputs": [
    {
     "name": "stderr",
     "output_type": "stream",
     "text": [
      "C:\\Users\\YujuL\\anaconda3\\envs\\Group\\Lib\\site-packages\\tqdm\\auto.py:21: TqdmWarning: IProgress not found. Please update jupyter and ipywidgets. See https://ipywidgets.readthedocs.io/en/stable/user_install.html\n",
      "  from .autonotebook import tqdm as notebook_tqdm\n",
      "Retrieving SummaryDoc documents: 100%|██████████| 4555/4555 [00:07<00:00, 620.27it/s]\n"
     ]
    }
   ],
   "source": [
    "from mp_api.client import MPRester\n",
    "key=\"Z7NcMZxFm5LyvsQZk9k7sD8ZgMdQZstr\"\n",
    "\n",
    "with MPRester(key) as mpr:\n",
    "    data=mpr.materials.summary.search(formula='ABC3',fields=[\"structure\",\"material_id\",\"nelements\",\"formula_pretty\",\"formula_anonymous\",\"theoretical\",\"is_stable\", \"volume\", \"elements\",\"band_gap\",\"formation_energy\"])\n",
    "    "
   ]
  },
  {
   "cell_type": "markdown",
   "id": "2e9c2944-fdb2-4c9e-9575-c0dc7bb9f924",
   "metadata": {
    "tags": []
   },
   "source": [
    "## Feature Engineering"
   ]
  },
  {
   "cell_type": "code",
   "execution_count": 2,
   "id": "cafea810-bb89-4631-be21-331cd2ef1840",
   "metadata": {
    "tags": []
   },
   "outputs": [],
   "source": [
    "from matminer.featurizers.bandstructure import BranchPointEnergy\n",
    "from matminer.featurizers.bandstructure import BandFeaturizer\n",
    "from matminer.featurizers.structure import XRDPowderPattern\n",
    "from matminer.featurizers.conversions import StrToComposition\n",
    "from matminer.featurizers.structure import DensityFeatures\n",
    "\n",
    "\n",
    "import pandas as pd"
   ]
  },
  {
   "cell_type": "code",
   "execution_count": 3,
   "id": "40c3e4fd-76a7-413d-878a-e5f39a92ba1d",
   "metadata": {
    "tags": []
   },
   "outputs": [],
   "source": [
    "\n",
    "\n",
    "stable = []\n",
    "structures = []\n",
    "band_gaps = []\n",
    "theory = []\n",
    "ids = []\n",
    "formula=[]\n",
    "for sample in data:\n",
    "    stable.append(sample.is_stable)\n",
    "    structures.append(sample.structure)\n",
    "    band_gaps.append(sample.band_gap)\n",
    "    theory.append(sample.theoretical)\n",
    "    ids.append(sample.material_id)\n",
    "    formula.append(sample.formula_pretty)\n",
    "\n",
    "perov_df = pd.DataFrame(\n",
    "    {\"material ids\": ids,\n",
    "     \"structure\": structures,\n",
    "     \"band gaps\": band_gaps,\n",
    "     \"theoretical\": theory,\n",
    "     \"stable\": stable,\n",
    "     \"formula\":formula\n",
    "    })\n"
   ]
  },
  {
   "cell_type": "code",
   "execution_count": 4,
   "id": "171e04ac-1dc8-4fa3-b48b-57c1af91d183",
   "metadata": {},
   "outputs": [
    {
     "name": "stderr",
     "output_type": "stream",
     "text": [
      "\n",
      "A value is trying to be set on a copy of a slice from a DataFrame.\n",
      "Try using .loc[row_indexer,col_indexer] = value instead\n",
      "\n",
      "See the caveats in the documentation: https://pandas.pydata.org/pandas-docs/stable/user_guide/indexing.html#returning-a-view-versus-a-copy\n"
     ]
    }
   ],
   "source": [
    "real_perovs = perov_df[perov_df[\"theoretical\"]==False]\n",
    "real_perovs[\"stable\"] = real_perovs[\"stable\"].astype(int)"
   ]
  },
  {
   "cell_type": "code",
   "execution_count": 5,
   "id": "d707f7b7-be4f-4c2f-9ea5-78a383e214c1",
   "metadata": {
    "tags": []
   },
   "outputs": [],
   "source": [
    "real_perovs=real_perovs[real_perovs[\"band gaps\"]>1]"
   ]
  },
  {
   "cell_type": "code",
   "execution_count": 6,
   "id": "2f691693-5448-4eea-a3d9-f6114755fc41",
   "metadata": {
    "tags": []
   },
   "outputs": [
    {
     "name": "stderr",
     "output_type": "stream",
     "text": [
      "DensityFeatures: 100%|██████████| 718/718 [00:43<00:00, 16.68it/s] \n"
     ]
    },
    {
     "data": {
      "text/html": [
       "<div>\n",
       "<style scoped>\n",
       "    .dataframe tbody tr th:only-of-type {\n",
       "        vertical-align: middle;\n",
       "    }\n",
       "\n",
       "    .dataframe tbody tr th {\n",
       "        vertical-align: top;\n",
       "    }\n",
       "\n",
       "    .dataframe thead th {\n",
       "        text-align: right;\n",
       "    }\n",
       "</style>\n",
       "<table border=\"1\" class=\"dataframe\">\n",
       "  <thead>\n",
       "    <tr style=\"text-align: right;\">\n",
       "      <th></th>\n",
       "      <th>material ids</th>\n",
       "      <th>structure</th>\n",
       "      <th>band gaps</th>\n",
       "      <th>theoretical</th>\n",
       "      <th>stable</th>\n",
       "      <th>formula</th>\n",
       "      <th>density</th>\n",
       "      <th>vpa</th>\n",
       "      <th>packing fraction</th>\n",
       "    </tr>\n",
       "  </thead>\n",
       "  <tbody>\n",
       "    <tr>\n",
       "      <th>38</th>\n",
       "      <td>mp-27941</td>\n",
       "      <td>[[0.         0.         2.42839953] Ag, [0.   ...</td>\n",
       "      <td>2.3983</td>\n",
       "      <td>False</td>\n",
       "      <td>0</td>\n",
       "      <td>AgClO3</td>\n",
       "      <td>4.138469</td>\n",
       "      <td>15.353181</td>\n",
       "      <td>0.313426</td>\n",
       "    </tr>\n",
       "    <tr>\n",
       "      <th>46</th>\n",
       "      <td>mp-1202188</td>\n",
       "      <td>[[1.7374665  9.27204812 2.98320164] Ag, [ 4.72...</td>\n",
       "      <td>1.8069</td>\n",
       "      <td>False</td>\n",
       "      <td>0</td>\n",
       "      <td>AgIO3</td>\n",
       "      <td>6.370565</td>\n",
       "      <td>14.741301</td>\n",
       "      <td>0.425548</td>\n",
       "    </tr>\n",
       "    <tr>\n",
       "      <th>47</th>\n",
       "      <td>mp-27384</td>\n",
       "      <td>[[ 0.0379544   4.34558533 10.74899408] Ag, [2....</td>\n",
       "      <td>2.4375</td>\n",
       "      <td>False</td>\n",
       "      <td>1</td>\n",
       "      <td>AgIO3</td>\n",
       "      <td>5.999922</td>\n",
       "      <td>15.651939</td>\n",
       "      <td>0.400789</td>\n",
       "    </tr>\n",
       "    <tr>\n",
       "      <th>49</th>\n",
       "      <td>mp-552185</td>\n",
       "      <td>[[ 6.4553912   4.23319424 14.32099189] Ag, [3....</td>\n",
       "      <td>1.8539</td>\n",
       "      <td>False</td>\n",
       "      <td>1</td>\n",
       "      <td>AgNO3</td>\n",
       "      <td>4.509525</td>\n",
       "      <td>12.510450</td>\n",
       "      <td>0.336071</td>\n",
       "    </tr>\n",
       "    <tr>\n",
       "      <th>50</th>\n",
       "      <td>mp-638686</td>\n",
       "      <td>[[6.12095444 3.4227964  3.81339077] Ag, [0.781...</td>\n",
       "      <td>2.0089</td>\n",
       "      <td>False</td>\n",
       "      <td>0</td>\n",
       "      <td>AgNO3</td>\n",
       "      <td>4.532948</td>\n",
       "      <td>12.445803</td>\n",
       "      <td>0.337816</td>\n",
       "    </tr>\n",
       "  </tbody>\n",
       "</table>\n",
       "</div>"
      ],
      "text/plain": [
       "   material ids                                          structure  band gaps  \\\n",
       "38     mp-27941  [[0.         0.         2.42839953] Ag, [0.   ...     2.3983   \n",
       "46   mp-1202188  [[1.7374665  9.27204812 2.98320164] Ag, [ 4.72...     1.8069   \n",
       "47     mp-27384  [[ 0.0379544   4.34558533 10.74899408] Ag, [2....     2.4375   \n",
       "49    mp-552185  [[ 6.4553912   4.23319424 14.32099189] Ag, [3....     1.8539   \n",
       "50    mp-638686  [[6.12095444 3.4227964  3.81339077] Ag, [0.781...     2.0089   \n",
       "\n",
       "    theoretical  stable formula   density        vpa  packing fraction  \n",
       "38        False       0  AgClO3  4.138469  15.353181          0.313426  \n",
       "46        False       0   AgIO3  6.370565  14.741301          0.425548  \n",
       "47        False       1   AgIO3  5.999922  15.651939          0.400789  \n",
       "49        False       1   AgNO3  4.509525  12.510450          0.336071  \n",
       "50        False       0   AgNO3  4.532948  12.445803          0.337816  "
      ]
     },
     "execution_count": 6,
     "metadata": {},
     "output_type": "execute_result"
    }
   ],
   "source": [
    "densityf = DensityFeatures()\n",
    "densityf.feature_labels()\n",
    "\n",
    "density_df = densityf.featurize_dataframe(real_perovs, \"structure\")\n",
    "density_df.head()"
   ]
  },
  {
   "cell_type": "code",
   "execution_count": 7,
   "id": "21859872-f274-4e11-a8ab-a473e6739898",
   "metadata": {
    "tags": []
   },
   "outputs": [],
   "source": [
    "y = density_df[\"band gaps\"].values\n",
    "X = density_df.drop([\"material ids\", \"structure\", \"band gaps\", \"theoretical\", \"stable\",\"formula\"], axis=1)"
   ]
  },
  {
   "cell_type": "code",
   "execution_count": 8,
   "id": "ba4d47e7-6220-40a2-9054-38adb2c694fd",
   "metadata": {
    "tags": []
   },
   "outputs": [],
   "source": [
    "from sklearn.model_selection import train_test_split\n",
    "\n",
    "X_train,X_test,y_train,y_test=train_test_split(X,y,test_size=0.2,random_state=42)"
   ]
  },
  {
   "cell_type": "code",
   "execution_count": 9,
   "id": "fb59ff0c-fddb-4d88-bb42-848f667ba4f1",
   "metadata": {},
   "outputs": [],
   "source": [
    "models=[]\n",
    "accuracy=[]"
   ]
  },
  {
   "cell_type": "markdown",
   "id": "f5c491de-3e77-4241-9961-90a04a9f7f0e",
   "metadata": {
    "tags": []
   },
   "source": [
    "## SVR"
   ]
  },
  {
   "cell_type": "code",
   "execution_count": 10,
   "id": "c152defa-f570-4c8b-a9ca-8e74fc53c07e",
   "metadata": {
    "tags": []
   },
   "outputs": [],
   "source": [
    "from sklearn.svm import SVR"
   ]
  },
  {
   "cell_type": "code",
   "execution_count": 11,
   "id": "47688460-90ca-4f02-a776-69a03fb58125",
   "metadata": {
    "tags": []
   },
   "outputs": [],
   "source": [
    "svm = SVR()\n",
    "\n",
    "param_grid={'kernel':['linear','poly','rbf','sigmoid'],\n",
    "            'degree':[1,2,3,4,5],\n",
    "            'gamma':[0.05,0.1,0.2,0.5,0.7,1.2],\n",
    "            'C':[0.1,0.2,0.3,0.4,1],\n",
    "            'epsilon':[0.001,0.005,0.03,0.01,1]\n",
    "           }\n"
   ]
  },
  {
   "cell_type": "code",
   "execution_count": 12,
   "id": "355e0632-3f34-469d-b0c6-273df10d0dff",
   "metadata": {
    "tags": []
   },
   "outputs": [],
   "source": [
    "##RandomizedSearchCV to find the best parameter"
   ]
  },
  {
   "cell_type": "code",
   "execution_count": 13,
   "id": "58313a63-bba2-4a1d-8142-8e09e407d80b",
   "metadata": {
    "tags": []
   },
   "outputs": [],
   "source": [
    "from sklearn.model_selection import RandomizedSearchCV"
   ]
  },
  {
   "cell_type": "code",
   "execution_count": 14,
   "id": "340eb51d-9bca-4723-aade-7d898161793c",
   "metadata": {
    "tags": []
   },
   "outputs": [],
   "source": [
    "from sklearn.model_selection import GridSearchCV\n",
    "\n",
    "# rand_ser = GridSearchCV(estimator=svm,param_grid=param_grid,cv=10,verbose=2,n_jobs=-1)\n",
    "# rand_ser.fit(X_train,y_train)\n",
    "# print(f'best parameter:{rand_ser.best_params_}')\n",
    "# print(f'best score:{rand_ser.best_score_}')"
   ]
  },
  {
   "cell_type": "code",
   "execution_count": 15,
   "id": "afc13d34-8ff0-4261-8a68-b937701bd644",
   "metadata": {
    "tags": []
   },
   "outputs": [
    {
     "data": {
      "text/html": [
       "<style>#sk-container-id-1 {color: black;background-color: white;}#sk-container-id-1 pre{padding: 0;}#sk-container-id-1 div.sk-toggleable {background-color: white;}#sk-container-id-1 label.sk-toggleable__label {cursor: pointer;display: block;width: 100%;margin-bottom: 0;padding: 0.3em;box-sizing: border-box;text-align: center;}#sk-container-id-1 label.sk-toggleable__label-arrow:before {content: \"▸\";float: left;margin-right: 0.25em;color: #696969;}#sk-container-id-1 label.sk-toggleable__label-arrow:hover:before {color: black;}#sk-container-id-1 div.sk-estimator:hover label.sk-toggleable__label-arrow:before {color: black;}#sk-container-id-1 div.sk-toggleable__content {max-height: 0;max-width: 0;overflow: hidden;text-align: left;background-color: #f0f8ff;}#sk-container-id-1 div.sk-toggleable__content pre {margin: 0.2em;color: black;border-radius: 0.25em;background-color: #f0f8ff;}#sk-container-id-1 input.sk-toggleable__control:checked~div.sk-toggleable__content {max-height: 200px;max-width: 100%;overflow: auto;}#sk-container-id-1 input.sk-toggleable__control:checked~label.sk-toggleable__label-arrow:before {content: \"▾\";}#sk-container-id-1 div.sk-estimator input.sk-toggleable__control:checked~label.sk-toggleable__label {background-color: #d4ebff;}#sk-container-id-1 div.sk-label input.sk-toggleable__control:checked~label.sk-toggleable__label {background-color: #d4ebff;}#sk-container-id-1 input.sk-hidden--visually {border: 0;clip: rect(1px 1px 1px 1px);clip: rect(1px, 1px, 1px, 1px);height: 1px;margin: -1px;overflow: hidden;padding: 0;position: absolute;width: 1px;}#sk-container-id-1 div.sk-estimator {font-family: monospace;background-color: #f0f8ff;border: 1px dotted black;border-radius: 0.25em;box-sizing: border-box;margin-bottom: 0.5em;}#sk-container-id-1 div.sk-estimator:hover {background-color: #d4ebff;}#sk-container-id-1 div.sk-parallel-item::after {content: \"\";width: 100%;border-bottom: 1px solid gray;flex-grow: 1;}#sk-container-id-1 div.sk-label:hover label.sk-toggleable__label {background-color: #d4ebff;}#sk-container-id-1 div.sk-serial::before {content: \"\";position: absolute;border-left: 1px solid gray;box-sizing: border-box;top: 0;bottom: 0;left: 50%;z-index: 0;}#sk-container-id-1 div.sk-serial {display: flex;flex-direction: column;align-items: center;background-color: white;padding-right: 0.2em;padding-left: 0.2em;position: relative;}#sk-container-id-1 div.sk-item {position: relative;z-index: 1;}#sk-container-id-1 div.sk-parallel {display: flex;align-items: stretch;justify-content: center;background-color: white;position: relative;}#sk-container-id-1 div.sk-item::before, #sk-container-id-1 div.sk-parallel-item::before {content: \"\";position: absolute;border-left: 1px solid gray;box-sizing: border-box;top: 0;bottom: 0;left: 50%;z-index: -1;}#sk-container-id-1 div.sk-parallel-item {display: flex;flex-direction: column;z-index: 1;position: relative;background-color: white;}#sk-container-id-1 div.sk-parallel-item:first-child::after {align-self: flex-end;width: 50%;}#sk-container-id-1 div.sk-parallel-item:last-child::after {align-self: flex-start;width: 50%;}#sk-container-id-1 div.sk-parallel-item:only-child::after {width: 0;}#sk-container-id-1 div.sk-dashed-wrapped {border: 1px dashed gray;margin: 0 0.4em 0.5em 0.4em;box-sizing: border-box;padding-bottom: 0.4em;background-color: white;}#sk-container-id-1 div.sk-label label {font-family: monospace;font-weight: bold;display: inline-block;line-height: 1.2em;}#sk-container-id-1 div.sk-label-container {text-align: center;}#sk-container-id-1 div.sk-container {/* jupyter's `normalize.less` sets `[hidden] { display: none; }` but bootstrap.min.css set `[hidden] { display: none !important; }` so we also need the `!important` here to be able to override the default hidden behavior on the sphinx rendered scikit-learn.org. See: https://github.com/scikit-learn/scikit-learn/issues/21755 */display: inline-block !important;position: relative;}#sk-container-id-1 div.sk-text-repr-fallback {display: none;}</style><div id=\"sk-container-id-1\" class=\"sk-top-container\"><div class=\"sk-text-repr-fallback\"><pre>SVR()</pre><b>In a Jupyter environment, please rerun this cell to show the HTML representation or trust the notebook. <br />On GitHub, the HTML representation is unable to render, please try loading this page with nbviewer.org.</b></div><div class=\"sk-container\" hidden><div class=\"sk-item\"><div class=\"sk-estimator sk-toggleable\"><input class=\"sk-toggleable__control sk-hidden--visually\" id=\"sk-estimator-id-1\" type=\"checkbox\" checked><label for=\"sk-estimator-id-1\" class=\"sk-toggleable__label sk-toggleable__label-arrow\">SVR</label><div class=\"sk-toggleable__content\"><pre>SVR()</pre></div></div></div></div></div>"
      ],
      "text/plain": [
       "SVR()"
      ]
     },
     "execution_count": 15,
     "metadata": {},
     "output_type": "execute_result"
    }
   ],
   "source": [
    "#svm_model=rand_ser.best_estimator_\n",
    "svm_model=SVR()\n",
    "svm_model.fit(X_train,y_train)"
   ]
  },
  {
   "cell_type": "code",
   "execution_count": 16,
   "id": "bfc18d8f-3da2-4f26-a017-b30dc44123a1",
   "metadata": {
    "tags": []
   },
   "outputs": [],
   "source": [
    "from sklearn.metrics import mean_squared_error,r2_score"
   ]
  },
  {
   "cell_type": "code",
   "execution_count": 17,
   "id": "4339d9b0-310f-4dba-85eb-7f729c7db1f1",
   "metadata": {
    "tags": []
   },
   "outputs": [
    {
     "name": "stdout",
     "output_type": "stream",
     "text": [
      "Accuracy on test data: 0.3 %\n"
     ]
    }
   ],
   "source": [
    "y_pred = svm_model.predict(X_test)\n",
    "testing_accuracy = svm_model.score(X_test, y_test) * 100\n",
    "models.append('SVR')\n",
    "accuracy.append(testing_accuracy)\n",
    "print(f'Accuracy on test data: {testing_accuracy:.1f} %')\n"
   ]
  },
  {
   "cell_type": "code",
   "execution_count": 18,
   "id": "69501750-3e50-41d8-ba7f-2f4b4e8ccaef",
   "metadata": {
    "tags": []
   },
   "outputs": [],
   "source": [
    "import numpy as np"
   ]
  },
  {
   "cell_type": "code",
   "execution_count": 19,
   "id": "e82151f1-0aed-47c1-b907-c2d3c172d0bd",
   "metadata": {
    "tags": []
   },
   "outputs": [
    {
     "name": "stdout",
     "output_type": "stream",
     "text": [
      "RMSE:1.297816722619446\n",
      "R2:0.0029847868477891337\n"
     ]
    }
   ],
   "source": [
    "SVR_MSE=mean_squared_error(y_test,y_pred)\n",
    "RMSE=np.sqrt(SVR_MSE)\n",
    "R2=r2_score(y_test,y_pred)\n",
    "print('RMSE:'+ str(RMSE))\n",
    "print('R2:'+str(R2))"
   ]
  },
  {
   "cell_type": "markdown",
   "id": "c65200b3-e44d-4959-91ae-19b33dbef97f",
   "metadata": {},
   "source": [
    "### Random Forest"
   ]
  },
  {
   "cell_type": "code",
   "execution_count": 20,
   "id": "5825461e-7047-420e-b79e-88eeb6d6bd40",
   "metadata": {
    "tags": []
   },
   "outputs": [
    {
     "name": "stderr",
     "output_type": "stream",
     "text": [
      "`max_features='auto'` has been deprecated in 1.1 and will be removed in 1.3. To keep the past behaviour, explicitly set `max_features=1.0` or remove this parameter as it is also the default value for RandomForestRegressors and ExtraTreesRegressors.\n",
      "`max_features='auto'` has been deprecated in 1.1 and will be removed in 1.3. To keep the past behaviour, explicitly set `max_features=1.0` or remove this parameter as it is also the default value for RandomForestRegressors and ExtraTreesRegressors.\n",
      "`max_features='auto'` has been deprecated in 1.1 and will be removed in 1.3. To keep the past behaviour, explicitly set `max_features=1.0` or remove this parameter as it is also the default value for RandomForestRegressors and ExtraTreesRegressors.\n",
      "`max_features='auto'` has been deprecated in 1.1 and will be removed in 1.3. To keep the past behaviour, explicitly set `max_features=1.0` or remove this parameter as it is also the default value for RandomForestRegressors and ExtraTreesRegressors.\n",
      "`max_features='auto'` has been deprecated in 1.1 and will be removed in 1.3. To keep the past behaviour, explicitly set `max_features=1.0` or remove this parameter as it is also the default value for RandomForestRegressors and ExtraTreesRegressors.\n",
      "`max_features='auto'` has been deprecated in 1.1 and will be removed in 1.3. To keep the past behaviour, explicitly set `max_features=1.0` or remove this parameter as it is also the default value for RandomForestRegressors and ExtraTreesRegressors.\n",
      "`max_features='auto'` has been deprecated in 1.1 and will be removed in 1.3. To keep the past behaviour, explicitly set `max_features=1.0` or remove this parameter as it is also the default value for RandomForestRegressors and ExtraTreesRegressors.\n",
      "`max_features='auto'` has been deprecated in 1.1 and will be removed in 1.3. To keep the past behaviour, explicitly set `max_features=1.0` or remove this parameter as it is also the default value for RandomForestRegressors and ExtraTreesRegressors.\n",
      "`max_features='auto'` has been deprecated in 1.1 and will be removed in 1.3. To keep the past behaviour, explicitly set `max_features=1.0` or remove this parameter as it is also the default value for RandomForestRegressors and ExtraTreesRegressors.\n",
      "`max_features='auto'` has been deprecated in 1.1 and will be removed in 1.3. To keep the past behaviour, explicitly set `max_features=1.0` or remove this parameter as it is also the default value for RandomForestRegressors and ExtraTreesRegressors.\n",
      "`max_features='auto'` has been deprecated in 1.1 and will be removed in 1.3. To keep the past behaviour, explicitly set `max_features=1.0` or remove this parameter as it is also the default value for RandomForestRegressors and ExtraTreesRegressors.\n",
      "`max_features='auto'` has been deprecated in 1.1 and will be removed in 1.3. To keep the past behaviour, explicitly set `max_features=1.0` or remove this parameter as it is also the default value for RandomForestRegressors and ExtraTreesRegressors.\n",
      "`max_features='auto'` has been deprecated in 1.1 and will be removed in 1.3. To keep the past behaviour, explicitly set `max_features=1.0` or remove this parameter as it is also the default value for RandomForestRegressors and ExtraTreesRegressors.\n",
      "`max_features='auto'` has been deprecated in 1.1 and will be removed in 1.3. To keep the past behaviour, explicitly set `max_features=1.0` or remove this parameter as it is also the default value for RandomForestRegressors and ExtraTreesRegressors.\n",
      "`max_features='auto'` has been deprecated in 1.1 and will be removed in 1.3. To keep the past behaviour, explicitly set `max_features=1.0` or remove this parameter as it is also the default value for RandomForestRegressors and ExtraTreesRegressors.\n",
      "`max_features='auto'` has been deprecated in 1.1 and will be removed in 1.3. To keep the past behaviour, explicitly set `max_features=1.0` or remove this parameter as it is also the default value for RandomForestRegressors and ExtraTreesRegressors.\n",
      "`max_features='auto'` has been deprecated in 1.1 and will be removed in 1.3. To keep the past behaviour, explicitly set `max_features=1.0` or remove this parameter as it is also the default value for RandomForestRegressors and ExtraTreesRegressors.\n",
      "`max_features='auto'` has been deprecated in 1.1 and will be removed in 1.3. To keep the past behaviour, explicitly set `max_features=1.0` or remove this parameter as it is also the default value for RandomForestRegressors and ExtraTreesRegressors.\n",
      "`max_features='auto'` has been deprecated in 1.1 and will be removed in 1.3. To keep the past behaviour, explicitly set `max_features=1.0` or remove this parameter as it is also the default value for RandomForestRegressors and ExtraTreesRegressors.\n",
      "`max_features='auto'` has been deprecated in 1.1 and will be removed in 1.3. To keep the past behaviour, explicitly set `max_features=1.0` or remove this parameter as it is also the default value for RandomForestRegressors and ExtraTreesRegressors.\n",
      "`max_features='auto'` has been deprecated in 1.1 and will be removed in 1.3. To keep the past behaviour, explicitly set `max_features=1.0` or remove this parameter as it is also the default value for RandomForestRegressors and ExtraTreesRegressors.\n",
      "`max_features='auto'` has been deprecated in 1.1 and will be removed in 1.3. To keep the past behaviour, explicitly set `max_features=1.0` or remove this parameter as it is also the default value for RandomForestRegressors and ExtraTreesRegressors.\n",
      "`max_features='auto'` has been deprecated in 1.1 and will be removed in 1.3. To keep the past behaviour, explicitly set `max_features=1.0` or remove this parameter as it is also the default value for RandomForestRegressors and ExtraTreesRegressors.\n",
      "`max_features='auto'` has been deprecated in 1.1 and will be removed in 1.3. To keep the past behaviour, explicitly set `max_features=1.0` or remove this parameter as it is also the default value for RandomForestRegressors and ExtraTreesRegressors.\n",
      "`max_features='auto'` has been deprecated in 1.1 and will be removed in 1.3. To keep the past behaviour, explicitly set `max_features=1.0` or remove this parameter as it is also the default value for RandomForestRegressors and ExtraTreesRegressors.\n",
      "`max_features='auto'` has been deprecated in 1.1 and will be removed in 1.3. To keep the past behaviour, explicitly set `max_features=1.0` or remove this parameter as it is also the default value for RandomForestRegressors and ExtraTreesRegressors.\n",
      "`max_features='auto'` has been deprecated in 1.1 and will be removed in 1.3. To keep the past behaviour, explicitly set `max_features=1.0` or remove this parameter as it is also the default value for RandomForestRegressors and ExtraTreesRegressors.\n",
      "`max_features='auto'` has been deprecated in 1.1 and will be removed in 1.3. To keep the past behaviour, explicitly set `max_features=1.0` or remove this parameter as it is also the default value for RandomForestRegressors and ExtraTreesRegressors.\n",
      "`max_features='auto'` has been deprecated in 1.1 and will be removed in 1.3. To keep the past behaviour, explicitly set `max_features=1.0` or remove this parameter as it is also the default value for RandomForestRegressors and ExtraTreesRegressors.\n",
      "`max_features='auto'` has been deprecated in 1.1 and will be removed in 1.3. To keep the past behaviour, explicitly set `max_features=1.0` or remove this parameter as it is also the default value for RandomForestRegressors and ExtraTreesRegressors.\n",
      "`max_features='auto'` has been deprecated in 1.1 and will be removed in 1.3. To keep the past behaviour, explicitly set `max_features=1.0` or remove this parameter as it is also the default value for RandomForestRegressors and ExtraTreesRegressors.\n"
     ]
    },
    {
     "data": {
      "text/html": [
       "<style>#sk-container-id-2 {color: black;background-color: white;}#sk-container-id-2 pre{padding: 0;}#sk-container-id-2 div.sk-toggleable {background-color: white;}#sk-container-id-2 label.sk-toggleable__label {cursor: pointer;display: block;width: 100%;margin-bottom: 0;padding: 0.3em;box-sizing: border-box;text-align: center;}#sk-container-id-2 label.sk-toggleable__label-arrow:before {content: \"▸\";float: left;margin-right: 0.25em;color: #696969;}#sk-container-id-2 label.sk-toggleable__label-arrow:hover:before {color: black;}#sk-container-id-2 div.sk-estimator:hover label.sk-toggleable__label-arrow:before {color: black;}#sk-container-id-2 div.sk-toggleable__content {max-height: 0;max-width: 0;overflow: hidden;text-align: left;background-color: #f0f8ff;}#sk-container-id-2 div.sk-toggleable__content pre {margin: 0.2em;color: black;border-radius: 0.25em;background-color: #f0f8ff;}#sk-container-id-2 input.sk-toggleable__control:checked~div.sk-toggleable__content {max-height: 200px;max-width: 100%;overflow: auto;}#sk-container-id-2 input.sk-toggleable__control:checked~label.sk-toggleable__label-arrow:before {content: \"▾\";}#sk-container-id-2 div.sk-estimator input.sk-toggleable__control:checked~label.sk-toggleable__label {background-color: #d4ebff;}#sk-container-id-2 div.sk-label input.sk-toggleable__control:checked~label.sk-toggleable__label {background-color: #d4ebff;}#sk-container-id-2 input.sk-hidden--visually {border: 0;clip: rect(1px 1px 1px 1px);clip: rect(1px, 1px, 1px, 1px);height: 1px;margin: -1px;overflow: hidden;padding: 0;position: absolute;width: 1px;}#sk-container-id-2 div.sk-estimator {font-family: monospace;background-color: #f0f8ff;border: 1px dotted black;border-radius: 0.25em;box-sizing: border-box;margin-bottom: 0.5em;}#sk-container-id-2 div.sk-estimator:hover {background-color: #d4ebff;}#sk-container-id-2 div.sk-parallel-item::after {content: \"\";width: 100%;border-bottom: 1px solid gray;flex-grow: 1;}#sk-container-id-2 div.sk-label:hover label.sk-toggleable__label {background-color: #d4ebff;}#sk-container-id-2 div.sk-serial::before {content: \"\";position: absolute;border-left: 1px solid gray;box-sizing: border-box;top: 0;bottom: 0;left: 50%;z-index: 0;}#sk-container-id-2 div.sk-serial {display: flex;flex-direction: column;align-items: center;background-color: white;padding-right: 0.2em;padding-left: 0.2em;position: relative;}#sk-container-id-2 div.sk-item {position: relative;z-index: 1;}#sk-container-id-2 div.sk-parallel {display: flex;align-items: stretch;justify-content: center;background-color: white;position: relative;}#sk-container-id-2 div.sk-item::before, #sk-container-id-2 div.sk-parallel-item::before {content: \"\";position: absolute;border-left: 1px solid gray;box-sizing: border-box;top: 0;bottom: 0;left: 50%;z-index: -1;}#sk-container-id-2 div.sk-parallel-item {display: flex;flex-direction: column;z-index: 1;position: relative;background-color: white;}#sk-container-id-2 div.sk-parallel-item:first-child::after {align-self: flex-end;width: 50%;}#sk-container-id-2 div.sk-parallel-item:last-child::after {align-self: flex-start;width: 50%;}#sk-container-id-2 div.sk-parallel-item:only-child::after {width: 0;}#sk-container-id-2 div.sk-dashed-wrapped {border: 1px dashed gray;margin: 0 0.4em 0.5em 0.4em;box-sizing: border-box;padding-bottom: 0.4em;background-color: white;}#sk-container-id-2 div.sk-label label {font-family: monospace;font-weight: bold;display: inline-block;line-height: 1.2em;}#sk-container-id-2 div.sk-label-container {text-align: center;}#sk-container-id-2 div.sk-container {/* jupyter's `normalize.less` sets `[hidden] { display: none; }` but bootstrap.min.css set `[hidden] { display: none !important; }` so we also need the `!important` here to be able to override the default hidden behavior on the sphinx rendered scikit-learn.org. See: https://github.com/scikit-learn/scikit-learn/issues/21755 */display: inline-block !important;position: relative;}#sk-container-id-2 div.sk-text-repr-fallback {display: none;}</style><div id=\"sk-container-id-2\" class=\"sk-top-container\"><div class=\"sk-text-repr-fallback\"><pre>RandomizedSearchCV(estimator=RandomForestRegressor(),\n",
       "                   param_distributions={&#x27;bootstrap&#x27;: [True],\n",
       "                                        &#x27;max_depth&#x27;: [10, 55, 100],\n",
       "                                        &#x27;max_features&#x27;: [&#x27;auto&#x27;, &#x27;sqrt&#x27;],\n",
       "                                        &#x27;min_samples_leaf&#x27;: [1, 2],\n",
       "                                        &#x27;min_samples_split&#x27;: [2, 5],\n",
       "                                        &#x27;n_estimators&#x27;: [100, 550, 1000]})</pre><b>In a Jupyter environment, please rerun this cell to show the HTML representation or trust the notebook. <br />On GitHub, the HTML representation is unable to render, please try loading this page with nbviewer.org.</b></div><div class=\"sk-container\" hidden><div class=\"sk-item sk-dashed-wrapped\"><div class=\"sk-label-container\"><div class=\"sk-label sk-toggleable\"><input class=\"sk-toggleable__control sk-hidden--visually\" id=\"sk-estimator-id-2\" type=\"checkbox\" ><label for=\"sk-estimator-id-2\" class=\"sk-toggleable__label sk-toggleable__label-arrow\">RandomizedSearchCV</label><div class=\"sk-toggleable__content\"><pre>RandomizedSearchCV(estimator=RandomForestRegressor(),\n",
       "                   param_distributions={&#x27;bootstrap&#x27;: [True],\n",
       "                                        &#x27;max_depth&#x27;: [10, 55, 100],\n",
       "                                        &#x27;max_features&#x27;: [&#x27;auto&#x27;, &#x27;sqrt&#x27;],\n",
       "                                        &#x27;min_samples_leaf&#x27;: [1, 2],\n",
       "                                        &#x27;min_samples_split&#x27;: [2, 5],\n",
       "                                        &#x27;n_estimators&#x27;: [100, 550, 1000]})</pre></div></div></div><div class=\"sk-parallel\"><div class=\"sk-parallel-item\"><div class=\"sk-item\"><div class=\"sk-label-container\"><div class=\"sk-label sk-toggleable\"><input class=\"sk-toggleable__control sk-hidden--visually\" id=\"sk-estimator-id-3\" type=\"checkbox\" ><label for=\"sk-estimator-id-3\" class=\"sk-toggleable__label sk-toggleable__label-arrow\">estimator: RandomForestRegressor</label><div class=\"sk-toggleable__content\"><pre>RandomForestRegressor()</pre></div></div></div><div class=\"sk-serial\"><div class=\"sk-item\"><div class=\"sk-estimator sk-toggleable\"><input class=\"sk-toggleable__control sk-hidden--visually\" id=\"sk-estimator-id-4\" type=\"checkbox\" ><label for=\"sk-estimator-id-4\" class=\"sk-toggleable__label sk-toggleable__label-arrow\">RandomForestRegressor</label><div class=\"sk-toggleable__content\"><pre>RandomForestRegressor()</pre></div></div></div></div></div></div></div></div></div></div>"
      ],
      "text/plain": [
       "RandomizedSearchCV(estimator=RandomForestRegressor(),\n",
       "                   param_distributions={'bootstrap': [True],\n",
       "                                        'max_depth': [10, 55, 100],\n",
       "                                        'max_features': ['auto', 'sqrt'],\n",
       "                                        'min_samples_leaf': [1, 2],\n",
       "                                        'min_samples_split': [2, 5],\n",
       "                                        'n_estimators': [100, 550, 1000]})"
      ]
     },
     "execution_count": 20,
     "metadata": {},
     "output_type": "execute_result"
    }
   ],
   "source": [
    "from sklearn.ensemble import RandomForestRegressor\n",
    "rf=RandomForestRegressor()\n",
    "\n",
    "grid_param={'n_estimators':[int(x) for x in np.linspace(start=100,stop=1000,num=3)],\n",
    "           'max_features':['auto','sqrt'],\n",
    "           'max_depth':[int(x) for x in np.linspace(start=10,stop=100,num=3)],\n",
    "            'min_samples_split':[2,5],\n",
    "            'min_samples_leaf':[1,2],\n",
    "            'bootstrap':[True]\n",
    "           }\n",
    "\n",
    "rand_ser = RandomizedSearchCV(estimator=rf,param_distributions=grid_param,n_iter=10,)\n",
    "rand_ser.fit(X_train,y_train)"
   ]
  },
  {
   "cell_type": "code",
   "execution_count": 21,
   "id": "7cd7785c-6a05-4ce2-b1f1-7dfa1bec87b7",
   "metadata": {
    "tags": []
   },
   "outputs": [
    {
     "name": "stdout",
     "output_type": "stream",
     "text": [
      "best parameter:{'n_estimators': 550, 'min_samples_split': 2, 'min_samples_leaf': 1, 'max_features': 'auto', 'max_depth': 55, 'bootstrap': True}\n",
      "best score:0.4155818339377067\n"
     ]
    }
   ],
   "source": [
    "print(f'best parameter:{rand_ser.best_params_}')\n",
    "print(f'best score:{rand_ser.best_score_}')"
   ]
  },
  {
   "cell_type": "code",
   "execution_count": 22,
   "id": "c122b5af-545d-4787-908d-98ae84238a27",
   "metadata": {
    "tags": []
   },
   "outputs": [],
   "source": [
    "rf_model=rand_ser.best_estimator_"
   ]
  },
  {
   "cell_type": "code",
   "execution_count": 23,
   "id": "04b7b31d-1a08-405c-83b0-c207c1ff22da",
   "metadata": {
    "tags": []
   },
   "outputs": [
    {
     "name": "stdout",
     "output_type": "stream",
     "text": [
      " Accuracy on test data: 36.4 %\n"
     ]
    }
   ],
   "source": [
    "\n",
    "y_pred=rf_model.predict(X_test)\n",
    "testing_accuracy = rf_model.score(X_test, y_test) * 100\n",
    "models.append('Randomforest')\n",
    "accuracy.append(testing_accuracy)\n",
    "print(f' Accuracy on test data: {testing_accuracy:.1f} %')\n"
   ]
  },
  {
   "cell_type": "code",
   "execution_count": 24,
   "id": "c6503265-84cf-40d3-99e0-04c408c0d9d1",
   "metadata": {
    "tags": []
   },
   "outputs": [
    {
     "name": "stdout",
     "output_type": "stream",
     "text": [
      "RMSE:1.0364419950459256\n",
      "R2:0.36413480087809624\n"
     ]
    }
   ],
   "source": [
    "SVR_MSE=mean_squared_error(y_test,y_pred)\n",
    "RMSE=np.sqrt(SVR_MSE)\n",
    "R2=r2_score(y_test,y_pred)\n",
    "print('RMSE:'+ str(RMSE))\n",
    "print('R2:'+str(R2))"
   ]
  },
  {
   "cell_type": "markdown",
   "id": "3f511d60-ac4f-46fd-bd06-a5f254de4944",
   "metadata": {},
   "source": [
    "## LinearRegression"
   ]
  },
  {
   "cell_type": "code",
   "execution_count": 25,
   "id": "f0618400-4a55-4168-9651-45766979309b",
   "metadata": {
    "tags": []
   },
   "outputs": [
    {
     "name": "stdout",
     "output_type": "stream",
     "text": [
      " Accuracy on test data: 7.6 %\n"
     ]
    }
   ],
   "source": [
    "from sklearn.linear_model import LinearRegression\n",
    "\n",
    "lr_model=LinearRegression()\n",
    "lr_model.fit(X_train, y_train)\n",
    "y_pred=lr_model.predict(X_test)\n",
    "testing_accuracy = lr_model.score(X_test, y_test) * 100\n",
    "models.append('LinearRegression')\n",
    "accuracy.append(testing_accuracy)\n",
    "print(f' Accuracy on test data: {testing_accuracy:.1f} %')\n"
   ]
  },
  {
   "cell_type": "code",
   "execution_count": 26,
   "id": "6b22bee7-72b2-40c0-af3d-2b1336299dd1",
   "metadata": {
    "tags": []
   },
   "outputs": [
    {
     "name": "stdout",
     "output_type": "stream",
     "text": [
      "RMSE:1.2494963100369976\n",
      "R2:0.07584459189832904\n"
     ]
    }
   ],
   "source": [
    "SVR_MSE=mean_squared_error(y_test,y_pred)\n",
    "RMSE=np.sqrt(SVR_MSE)\n",
    "R2=r2_score(y_test,y_pred)\n",
    "print('RMSE:'+ str(RMSE))\n",
    "print('R2:'+str(R2))"
   ]
  },
  {
   "cell_type": "markdown",
   "id": "170a1524-e5d5-4eb4-b0d3-fc79610b46d7",
   "metadata": {
    "tags": []
   },
   "source": [
    "## MLP"
   ]
  },
  {
   "cell_type": "code",
   "execution_count": 27,
   "id": "47210fcb-8ae4-4833-8352-4fd3c3eed94a",
   "metadata": {
    "tags": []
   },
   "outputs": [],
   "source": [
    "from sklearn.neural_network import MLPRegressor"
   ]
  },
  {
   "cell_type": "code",
   "execution_count": 28,
   "id": "7095bd40-3e39-4d1f-9a38-cd9fdd316a4f",
   "metadata": {
    "tags": []
   },
   "outputs": [],
   "source": [
    "grid_param={'hidden_layer_sizes':[(),(),()],\n",
    "           'solver':['sgd','lbfgs','adam'],\n",
    "           'max_iter':[25,30,50,100],\n",
    "            'alpha':[0.0001,0.001,0.01],\n",
    "            'verbose':[True]\n",
    "           }"
   ]
  },
  {
   "cell_type": "code",
   "execution_count": 29,
   "id": "c96747dc-4149-4a08-bcb7-4e6025eb5cec",
   "metadata": {
    "tags": []
   },
   "outputs": [],
   "source": [
    "mlp=MLPRegressor(random_state=42)"
   ]
  },
  {
   "cell_type": "code",
   "execution_count": 30,
   "id": "06cdad34-7612-4e1f-87a4-72e282806c56",
   "metadata": {
    "tags": []
   },
   "outputs": [
    {
     "name": "stdout",
     "output_type": "stream",
     "text": [
      "Fitting 10 folds for each of 108 candidates, totalling 1080 fits\n"
     ]
    },
    {
     "data": {
      "text/html": [
       "<style>#sk-container-id-3 {color: black;background-color: white;}#sk-container-id-3 pre{padding: 0;}#sk-container-id-3 div.sk-toggleable {background-color: white;}#sk-container-id-3 label.sk-toggleable__label {cursor: pointer;display: block;width: 100%;margin-bottom: 0;padding: 0.3em;box-sizing: border-box;text-align: center;}#sk-container-id-3 label.sk-toggleable__label-arrow:before {content: \"▸\";float: left;margin-right: 0.25em;color: #696969;}#sk-container-id-3 label.sk-toggleable__label-arrow:hover:before {color: black;}#sk-container-id-3 div.sk-estimator:hover label.sk-toggleable__label-arrow:before {color: black;}#sk-container-id-3 div.sk-toggleable__content {max-height: 0;max-width: 0;overflow: hidden;text-align: left;background-color: #f0f8ff;}#sk-container-id-3 div.sk-toggleable__content pre {margin: 0.2em;color: black;border-radius: 0.25em;background-color: #f0f8ff;}#sk-container-id-3 input.sk-toggleable__control:checked~div.sk-toggleable__content {max-height: 200px;max-width: 100%;overflow: auto;}#sk-container-id-3 input.sk-toggleable__control:checked~label.sk-toggleable__label-arrow:before {content: \"▾\";}#sk-container-id-3 div.sk-estimator input.sk-toggleable__control:checked~label.sk-toggleable__label {background-color: #d4ebff;}#sk-container-id-3 div.sk-label input.sk-toggleable__control:checked~label.sk-toggleable__label {background-color: #d4ebff;}#sk-container-id-3 input.sk-hidden--visually {border: 0;clip: rect(1px 1px 1px 1px);clip: rect(1px, 1px, 1px, 1px);height: 1px;margin: -1px;overflow: hidden;padding: 0;position: absolute;width: 1px;}#sk-container-id-3 div.sk-estimator {font-family: monospace;background-color: #f0f8ff;border: 1px dotted black;border-radius: 0.25em;box-sizing: border-box;margin-bottom: 0.5em;}#sk-container-id-3 div.sk-estimator:hover {background-color: #d4ebff;}#sk-container-id-3 div.sk-parallel-item::after {content: \"\";width: 100%;border-bottom: 1px solid gray;flex-grow: 1;}#sk-container-id-3 div.sk-label:hover label.sk-toggleable__label {background-color: #d4ebff;}#sk-container-id-3 div.sk-serial::before {content: \"\";position: absolute;border-left: 1px solid gray;box-sizing: border-box;top: 0;bottom: 0;left: 50%;z-index: 0;}#sk-container-id-3 div.sk-serial {display: flex;flex-direction: column;align-items: center;background-color: white;padding-right: 0.2em;padding-left: 0.2em;position: relative;}#sk-container-id-3 div.sk-item {position: relative;z-index: 1;}#sk-container-id-3 div.sk-parallel {display: flex;align-items: stretch;justify-content: center;background-color: white;position: relative;}#sk-container-id-3 div.sk-item::before, #sk-container-id-3 div.sk-parallel-item::before {content: \"\";position: absolute;border-left: 1px solid gray;box-sizing: border-box;top: 0;bottom: 0;left: 50%;z-index: -1;}#sk-container-id-3 div.sk-parallel-item {display: flex;flex-direction: column;z-index: 1;position: relative;background-color: white;}#sk-container-id-3 div.sk-parallel-item:first-child::after {align-self: flex-end;width: 50%;}#sk-container-id-3 div.sk-parallel-item:last-child::after {align-self: flex-start;width: 50%;}#sk-container-id-3 div.sk-parallel-item:only-child::after {width: 0;}#sk-container-id-3 div.sk-dashed-wrapped {border: 1px dashed gray;margin: 0 0.4em 0.5em 0.4em;box-sizing: border-box;padding-bottom: 0.4em;background-color: white;}#sk-container-id-3 div.sk-label label {font-family: monospace;font-weight: bold;display: inline-block;line-height: 1.2em;}#sk-container-id-3 div.sk-label-container {text-align: center;}#sk-container-id-3 div.sk-container {/* jupyter's `normalize.less` sets `[hidden] { display: none; }` but bootstrap.min.css set `[hidden] { display: none !important; }` so we also need the `!important` here to be able to override the default hidden behavior on the sphinx rendered scikit-learn.org. See: https://github.com/scikit-learn/scikit-learn/issues/21755 */display: inline-block !important;position: relative;}#sk-container-id-3 div.sk-text-repr-fallback {display: none;}</style><div id=\"sk-container-id-3\" class=\"sk-top-container\"><div class=\"sk-text-repr-fallback\"><pre>GridSearchCV(cv=10, estimator=MLPRegressor(random_state=42), n_jobs=-1,\n",
       "             param_grid={&#x27;alpha&#x27;: [0.0001, 0.001, 0.01],\n",
       "                         &#x27;hidden_layer_sizes&#x27;: [(), (), ()],\n",
       "                         &#x27;max_iter&#x27;: [25, 30, 50, 100],\n",
       "                         &#x27;solver&#x27;: [&#x27;sgd&#x27;, &#x27;lbfgs&#x27;, &#x27;adam&#x27;],\n",
       "                         &#x27;verbose&#x27;: [True]},\n",
       "             verbose=2)</pre><b>In a Jupyter environment, please rerun this cell to show the HTML representation or trust the notebook. <br />On GitHub, the HTML representation is unable to render, please try loading this page with nbviewer.org.</b></div><div class=\"sk-container\" hidden><div class=\"sk-item sk-dashed-wrapped\"><div class=\"sk-label-container\"><div class=\"sk-label sk-toggleable\"><input class=\"sk-toggleable__control sk-hidden--visually\" id=\"sk-estimator-id-5\" type=\"checkbox\" ><label for=\"sk-estimator-id-5\" class=\"sk-toggleable__label sk-toggleable__label-arrow\">GridSearchCV</label><div class=\"sk-toggleable__content\"><pre>GridSearchCV(cv=10, estimator=MLPRegressor(random_state=42), n_jobs=-1,\n",
       "             param_grid={&#x27;alpha&#x27;: [0.0001, 0.001, 0.01],\n",
       "                         &#x27;hidden_layer_sizes&#x27;: [(), (), ()],\n",
       "                         &#x27;max_iter&#x27;: [25, 30, 50, 100],\n",
       "                         &#x27;solver&#x27;: [&#x27;sgd&#x27;, &#x27;lbfgs&#x27;, &#x27;adam&#x27;],\n",
       "                         &#x27;verbose&#x27;: [True]},\n",
       "             verbose=2)</pre></div></div></div><div class=\"sk-parallel\"><div class=\"sk-parallel-item\"><div class=\"sk-item\"><div class=\"sk-label-container\"><div class=\"sk-label sk-toggleable\"><input class=\"sk-toggleable__control sk-hidden--visually\" id=\"sk-estimator-id-6\" type=\"checkbox\" ><label for=\"sk-estimator-id-6\" class=\"sk-toggleable__label sk-toggleable__label-arrow\">estimator: MLPRegressor</label><div class=\"sk-toggleable__content\"><pre>MLPRegressor(random_state=42)</pre></div></div></div><div class=\"sk-serial\"><div class=\"sk-item\"><div class=\"sk-estimator sk-toggleable\"><input class=\"sk-toggleable__control sk-hidden--visually\" id=\"sk-estimator-id-7\" type=\"checkbox\" ><label for=\"sk-estimator-id-7\" class=\"sk-toggleable__label sk-toggleable__label-arrow\">MLPRegressor</label><div class=\"sk-toggleable__content\"><pre>MLPRegressor(random_state=42)</pre></div></div></div></div></div></div></div></div></div></div>"
      ],
      "text/plain": [
       "GridSearchCV(cv=10, estimator=MLPRegressor(random_state=42), n_jobs=-1,\n",
       "             param_grid={'alpha': [0.0001, 0.001, 0.01],\n",
       "                         'hidden_layer_sizes': [(), (), ()],\n",
       "                         'max_iter': [25, 30, 50, 100],\n",
       "                         'solver': ['sgd', 'lbfgs', 'adam'],\n",
       "                         'verbose': [True]},\n",
       "             verbose=2)"
      ]
     },
     "execution_count": 30,
     "metadata": {},
     "output_type": "execute_result"
    }
   ],
   "source": [
    "rand_ser = GridSearchCV(mlp,grid_param,n_jobs=-1,cv=10,verbose=2)\n",
    "rand_ser.fit(X_train,y_train)"
   ]
  },
  {
   "cell_type": "code",
   "execution_count": 31,
   "id": "640193c6-e1d3-4187-a00d-d9d07e4ca2d6",
   "metadata": {
    "tags": []
   },
   "outputs": [
    {
     "name": "stdout",
     "output_type": "stream",
     "text": [
      "best parameter:{'alpha': 0.01, 'hidden_layer_sizes': (), 'max_iter': 30, 'solver': 'lbfgs', 'verbose': True}\n",
      "best score:0.22750552547950206\n"
     ]
    }
   ],
   "source": [
    "print(f'best parameter:{rand_ser.best_params_}')\n",
    "print(f'best score:{rand_ser.best_score_}')"
   ]
  },
  {
   "cell_type": "code",
   "execution_count": 32,
   "id": "6cdf6866-2c6e-4120-9677-fc15c5a522d3",
   "metadata": {
    "tags": []
   },
   "outputs": [],
   "source": [
    "mlp_model=rand_ser.best_estimator_"
   ]
  },
  {
   "cell_type": "code",
   "execution_count": 33,
   "id": "1e672f53-163a-4601-9742-2ab2775f8173",
   "metadata": {
    "tags": []
   },
   "outputs": [
    {
     "name": "stdout",
     "output_type": "stream",
     "text": [
      " Accuracy on test data: 7.6 %\n"
     ]
    }
   ],
   "source": [
    "y_pred=mlp_model.predict(X_test)\n",
    "testing_accuracy = mlp_model.score(X_test, y_test) * 100\n",
    "models.append('Randomforest')\n",
    "accuracy.append(testing_accuracy)\n",
    "print(f' Accuracy on test data: {testing_accuracy:.1f} %')\n"
   ]
  },
  {
   "cell_type": "code",
   "execution_count": 34,
   "id": "cfba9fa0-abed-4001-83a0-db765d956219",
   "metadata": {
    "tags": []
   },
   "outputs": [
    {
     "name": "stdout",
     "output_type": "stream",
     "text": [
      "RMSE:1.249495780029914\n",
      "R2:0.0758453759083415\n"
     ]
    }
   ],
   "source": [
    "SVR_MSE=mean_squared_error(y_test,y_pred)\n",
    "RMSE=np.sqrt(SVR_MSE)\n",
    "R2=r2_score(y_test,y_pred)\n",
    "print('RMSE:'+ str(RMSE))\n",
    "print('R2:'+str(R2))"
   ]
  },
  {
   "cell_type": "markdown",
   "id": "33a0d72b-a979-4577-89d3-c472d976bd0c",
   "metadata": {},
   "source": [
    "## XGBoost"
   ]
  },
  {
   "cell_type": "code",
   "execution_count": 35,
   "id": "f1cb80e0-460e-42ea-8cae-0e69ab3afeb7",
   "metadata": {
    "tags": []
   },
   "outputs": [
    {
     "name": "stdout",
     "output_type": "stream",
     "text": [
      " Accuracy on test data: 30.4 %\n",
      "RMSE:1.0845397489203052\n",
      "R2:0.3037487290110308\n"
     ]
    }
   ],
   "source": [
    "\n",
    "from xgboost import XGBRegressor\n",
    "xgb_model = XGBRegressor()\n",
    "\n",
    "xgb_model.fit(X_train,y_train)\n",
    "y_pred=xgb_model.predict(X_test)\n",
    "testing_accuracy = xgb_model.score(X_test, y_test) * 100\n",
    "models.append('XGBoost')\n",
    "accuracy.append(testing_accuracy)\n",
    "print(f' Accuracy on test data: {testing_accuracy:.1f} %')\n",
    "\n",
    "SVR_MSE=mean_squared_error(y_test,y_pred)\n",
    "RMSE=np.sqrt(SVR_MSE)\n",
    "R2=r2_score(y_test,y_pred)\n",
    "print('RMSE:'+ str(RMSE))\n",
    "print('R2:'+str(R2))"
   ]
  },
  {
   "cell_type": "markdown",
   "id": "a3b40aac-bd9a-41f5-b987-56cc4f183453",
   "metadata": {},
   "source": [
    "## KNN"
   ]
  },
  {
   "cell_type": "code",
   "execution_count": 36,
   "id": "4e317418-1523-44c9-ad7c-8a324b8a9b1c",
   "metadata": {
    "tags": []
   },
   "outputs": [],
   "source": [
    "from sklearn.neighbors import KNeighborsRegressor"
   ]
  },
  {
   "cell_type": "code",
   "execution_count": 37,
   "id": "0df3f486-7fb2-4ad9-a360-510664ec8c17",
   "metadata": {
    "tags": []
   },
   "outputs": [
    {
     "name": "stdout",
     "output_type": "stream",
     "text": [
      " Accuracy on test data: 15.2 %\n"
     ]
    }
   ],
   "source": [
    "knn_model = KNeighborsRegressor()\n",
    "knn_model.fit(X_train,y_train)\n",
    "y_pred=knn_model.predict(X_test)\n",
    "testing_accuracy = knn_model.score(X_test, y_test) * 100\n",
    "models.append('KNN')\n",
    "accuracy.append(testing_accuracy)\n",
    "print(f' Accuracy on test data: {testing_accuracy:.1f} %')\n"
   ]
  },
  {
   "cell_type": "code",
   "execution_count": 38,
   "id": "0fb8d9b2-bd5c-4042-9626-3ae7ec9f8e76",
   "metadata": {
    "tags": []
   },
   "outputs": [],
   "source": [
    "import matplotlib.pyplot as plt"
   ]
  },
  {
   "cell_type": "code",
   "execution_count": 39,
   "id": "2132b778-ff95-46b8-9486-f4cb266eb756",
   "metadata": {
    "tags": []
   },
   "outputs": [
    {
     "data": {
      "image/png": "[encoded data removed]",
      "text/plain": [
       "<Figure size 1000x600 with 1 Axes>"
      ]
     },
     "metadata": {},
     "output_type": "display_data"
    }
   ],
   "source": [
    "plt.figure(figsize=(10, 6))\n",
    "plt.bar(models,accuracy,width=0.9)\n",
    "plt.xlabel('Models')\n",
    "plt.ylabel('Accuracy(%)')\n",
    "plt.ylim(10, 70)\n",
    "plt.tight_layout()\n",
    "plt.show()"
   ]
  },
  {
   "cell_type": "code",
   "execution_count": null,
   "id": "8b99e9c5-eff0-4f7d-abb2-5bc8c007e85d",
   "metadata": {},
   "outputs": [],
   "source": []
  }
 ],
 "metadata": {
  "kernelspec": {
   "display_name": "Python 3 (ipykernel)",
   "language": "python",
   "name": "python3"
  },
  "language_info": {
   "codemirror_mode": {
    "name": "ipython",
    "version": 3
   },
   "file_extension": ".py",
   "mimetype": "text/x-python",
   "name": "python",
   "nbconvert_exporter": "python",
   "pygments_lexer": "ipython3",
   "version": "3.11.5"
  }
 },
 "nbformat": 4,
 "nbformat_minor": 5
}
